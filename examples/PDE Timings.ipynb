{
 "metadata": {
  "language": "Julia",
  "name": "",
  "signature": "sha256:47c62486975f16910366125404a5b0f4974eda92806dd2f33e7bdceb50d5091c"
 },
 "nbformat": 3,
 "nbformat_minor": 0,
 "worksheets": [
  {
   "cells": [
    {
     "cell_type": "code",
     "collapsed": false,
     "input": [
      "using ApproxFun"
     ],
     "language": "python",
     "metadata": {},
     "outputs": [],
     "prompt_number": 1
    },
    {
     "cell_type": "heading",
     "level": 1,
     "metadata": {},
     "source": [
      "Helmholtz $u_{xx} + u_{yy} + 2 \\omega^2 u = 0, u(\\pm 1,y) = f(\\pm 1,y), u(x,\\pm 1)=f(x,\\pm 1)$"
     ]
    },
    {
     "cell_type": "code",
     "collapsed": false,
     "input": [
      "dx=dy=Interval()\n",
      "d=dx*dy\n",
      "\n",
      "B=dirichlet(d)\n",
      "\n",
      "const \u03c9=100\u03c0\n",
      "f(x,y)=cos(\u03c9*x)*cos(\u03c9*y)\n",
      "    \n",
      "@time u=pdesolve([B,lap(d)+2*\u03c9^2*I],[Fun(y->f(-1.,y),dy),Fun(y->f(1.,y),dy),Fun(x->f(x,-1.),dx),Fun(x->f(x,1.),dx)]);\n",
      "\n",
      "#check accuracy of approximation\n",
      "u[.12345,.22345]-f(.12345,.22345)"
     ],
     "language": "python",
     "metadata": {},
     "outputs": [
      {
       "output_type": "stream",
       "stream": "stdout",
       "text": [
        "elapsed time: 3"
       ]
      },
      {
       "output_type": "stream",
       "stream": "stdout",
       "text": [
        ".456663558 seconds (817704332 bytes allocated, 14.78% gc time)\n"
       ]
      },
      {
       "metadata": {},
       "output_type": "pyout",
       "prompt_number": 3,
       "text": [
        "1.6666640290097234e-11"
       ]
      }
     ],
     "prompt_number": 3
    },
    {
     "cell_type": "heading",
     "level": 1,
     "metadata": {},
     "source": [
      "Klein-Gordon $u_{tt} = u_{xx} - 5u, u(0,x)=e^{-50(x-.2)^2}, u_t(0,x)=0, u(t,-1)=0,u(t,1)/5 + u_x(t,1) = 0$"
     ]
    },
    {
     "cell_type": "code",
     "collapsed": false,
     "input": [
      "dx=Interval()\n",
      "dt=Interval(0.,10.)\n",
      "d=dt*dx\n",
      "Dx=diff(d,2);Dt=diff(d,1)\n",
      "Bx=[ldirichlet(dx),rdirichlet(dx)/5+rneumann(dx)]\n",
      "B=[[ldirichlet(dt),lneumann(dt)]\u2297I,I\u2297Bx]\n",
      "    \n",
      "@time u=pdesolve([B,(Dt^2+5I)-Dx^2],[Fun(x->exp(-50.(x-.2).^2),dx)],1e-8);"
     ],
     "language": "python",
     "metadata": {},
     "outputs": [
      {
       "output_type": "stream",
       "stream": "stdout",
       "text": [
        "elapsed time: 2"
       ]
      },
      {
       "output_type": "stream",
       "stream": "stdout",
       "text": [
        ".325145396 seconds (324296280 bytes allocated, 8.24% gc time)\n"
       ]
      }
     ],
     "prompt_number": 4
    },
    {
     "cell_type": "code",
     "collapsed": false,
     "input": [
      "contour(u)"
     ],
     "language": "python",
     "metadata": {},
     "outputs": []
    },
    {
     "cell_type": "code",
     "collapsed": false,
     "input": [
      "# contour(u) is broken so we use GLPlot\n",
      "plot(0.:.01:10.,-1.:.01:1.,u);"
     ],
     "language": "python",
     "metadata": {},
     "outputs": [
      {
       "output_type": "stream",
       "stream": "stderr",
       "text": [
        "INFO: loaded GLFW 3.0.4 Cocoa NSGL chdir menubar dynamic from /Users/solver/.julia/v0.3/GLFW/deps/usr64/lib/libglfw\n"
       ]
      },
      {
       "metadata": {},
       "output_type": "pyout",
       "prompt_number": 7,
       "text": [
        "(RenderObject([:light_position=>Float32[20.0,20.0,-20.0],:yrange=>Float32[-1.0,1.0],:zscale=>1.0f0,:view=>[Lift{Matrix4x4{Float32}}] 4x4 Matrix4x4{Float32}:\n",
        " -0.707107   0.707107  0.0        0.0    \n",
        " -0.408248  -0.408248  0.816497   0.0    \n",
        "  0.57735    0.57735   0.57735   -1.73205\n",
        "  0.0        0.0       0.0        1.0    ,:z=>Texture{Float32,1,2}(0x00000003,0x00001406,0x0000822e,0x00001903,[1,1003,203]),:xscale=>1.0f0,:texdimension=>Float32[1003.0,203.0],:projection=>[Lift{Matrix4x4{Float32}}] 4x4 Matrix4x4{Float32}:\n",
        " 2.67462  0.0       0.0     0.0\n",
        " 0.0      2.67462   0.0     0.0\n",
        " 0.0      0.0      -1.001  -1.0\n",
        " 0.0      0.0      -2.001   0.0,:yscale=>1.0f0,:xrange=>Float32[-1.0,1.0],:modelmatrix=>4x4 Matrix4x4{Float32}:\n",
        " 1.0  0.0  0.0  0.0\n",
        " 0.0  1.0  0.0  0.0\n",
        " 0.0  0.0  1.0  0.0\n",
        " 0.0  0.0  0.0  1.0,:normalmatrix=>[Lift{Matrix3x3{Float32}}] 3x3 Matrix3x3{Float32}:\n",
        " -0.264376   0.264376  -1.49012e-8\n",
        " -0.152638  -0.152638   0.305276  \n",
        " -0.576773  -0.576773  -0.576773  ,:vertex=>Float32[0.0,0.0,0.0]],GLVertexArray(GLProgram(0x0000000c,\"/Users/solver/.julia/v0.3/GLPlot/src/shader/instance_template.vert\",\"/Users/solver/.julia/v0.3/GLPlot/src/shader/phongblinn.frag\",[:light_position=>0x00008b51,:yrange=>0x00008b50,:zscale=>0x00001406,:view=>0x00008b5c,:z=>0x00008b5e,:xscale=>0x00001406,:texdimension=>0x00008b50,:projection=>0x00008b5c,:yscale=>0x00001406,:xrange=>0x00008b50,:modelmatrix=>0x00008b5c,:normalmatrix=>0x00008b5b,:vertex=>0x00008b51],[:light_position=>(6,),:yrange=>(8,),:zscale=>(19,),:view=>(20,),:z=>(0,0),:xscale=>(15,),:texdimension=>(7,),:projection=>(1,),:yscale=>(14,),:xrange=>(9,),:modelmatrix=>(10,),:normalmatrix=>(16,),:vertex=>(5,)]),0x00000001,4,6),(Function,(Any...,))[(glEnable,(0x00000b71,))],(Function,(Any...,))[(renderinstanced,(GLVertexArray(GLProgram(0x0000000c,\"/Users/solver/.julia/v0.3/GLPlot/src/shader/instance_template.vert\",\"/Users/solver/.julia/v0.3/GLPlot/src/shader/phongblinn.frag\",[:light_position=>0x00008b51,:yrange=>0x00008b50,:zscale=>0x00001406,:view=>0x00008b5c,:z=>0x00008b5e,:xscale=>0x00001406,:texdimension=>0x00008b50,:projection=>0x00008b5c,:yscale=>0x00001406,:xrange=>0x00008b50,:modelmatrix=>0x00008b5c,:normalmatrix=>0x00008b5b,:vertex=>0x00008b51],[:light_position=>(6,),:yrange=>(8,),:zscale=>(19,),:view=>(20,),:z=>(0,0),:xscale=>(15,),:texdimension=>(7,),:projection=>(1,),:yscale=>(14,),:xrange=>(9,),:modelmatrix=>(10,),:normalmatrix=>(16,),:vertex=>(5,)]),0x00000001,4,6),202606,0x00000004))],0x0001,#undef),Screen(:GLPlot,Screen(:root,Screen(#undef,#undef,#undef,#undef,#undef,Window(Ptr{Void} @0xffffffffffffffff)),[],Dict{Symbol,Any}(),{},Window(Null)),[],[:insidewindow=>[Input{Bool}] false,:scroll_x=>[Input{Int64}] 0,:windowposition=>[Input{Vector2{Int64}}] [0,0],:scroll_y=>[Input{Int64}] 0,:framebuffer_size=>[Input{Vector2{Int64}}] [0,0],:mousereleased=>[Input{Int64}] 0,:buttonreleased=>[Input{Int64}] 0,:open=>[Input{Bool}] true,:mousebuttonspressed=>[Input{IntSet}] IntSet([]),:mouseposition_glfw_coordinates=>[Input{Vector2{Float64}}] [0.0,0.0],:unicodeinput=>[Input{Char}] 0,:mouseposition=>[Lift{Vector2{Float64}}] [0.0,0.0],:mousedown=>[Input{Int64}] 0,:window_size=>[Input{Vector4{Int64}}] [0,0,1000,1000],:buttondown=>[Input{Int64}] 0,:buttonspressed=>[Input{IntSet}] IntSet([])],{},Window(GLPlot)))"
       ]
      }
     ],
     "prompt_number": 7
    },
    {
     "cell_type": "code",
     "collapsed": false,
     "input": [],
     "language": "python",
     "metadata": {},
     "outputs": []
    }
   ],
   "metadata": {}
  }
 ]
}