{
 "metadata": {
  "language": "Julia",
  "name": "",
  "signature": "sha256:b113911ffc478560e19e3c87ca43809a3ad7423d545209433913852d7f606c95"
 },
 "nbformat": 3,
 "nbformat_minor": 0,
 "worksheets": [
  {
   "cells": [
    {
     "cell_type": "code",
     "collapsed": false,
     "input": [
      "# Requires GLPlot to run\n",
      "using ApproxFun"
     ],
     "language": "python",
     "metadata": {},
     "outputs": [],
     "prompt_number": 1
    },
    {
     "cell_type": "heading",
     "level": 1,
     "metadata": {},
     "source": [
      "Heat equation with Dirichlet\n",
      " $$u_t =  \\Delta u, u(\\pm 1,y,t)=u(x,\\pm 1,t)=0$$"
     ]
    },
    {
     "cell_type": "code",
     "collapsed": false,
     "input": [
      "# domain is a square\n",
      "d=Interval()^2\n",
      "# initial condition\n",
      "u0   = Fun((x,y)->exp(-40(x-.1)^2-40(y+.2)^2),d,100,100)\n",
      "# dirichlet boundary conditions\n",
      "B=dirichlet(d)\n",
      "\n",
      "\u0394=lap(d)\n",
      "h=0.005 # time step\n",
      "timeevolution(B,\u0394,u0,h)"
     ],
     "language": "python",
     "metadata": {},
     "outputs": [
      {
       "output_type": "stream",
       "stream": "stderr",
       "text": [
        "Warning: redefining constant volumeshader\n",
        "Warning: redefining constant uvwshader\n"
       ]
      },
      {
       "ename": "LoadError",
       "evalue": "The GLFW library is not initialized\nwhile loading In[5], in expression starting on line 10",
       "output_type": "pyerr",
       "traceback": [
        "The GLFW library is not initialized\nwhile loading In[5], in expression starting on line 10",
        "",
        " in error at error.jl:21",
        " in anonymous at /Users/solver/.julia/v0.3/GLFW/src/GLFW.jl:25",
        " in ErrorCallback at /Users/solver/.julia/v0.3/GLFW/src/util.jl:90",
        " in SwapBuffers at /Users/solver/.julia/v0.3/GLFW/src/glfw3.jl:483",
        " in glupdatewindow at /Users/solver/.julia/v0.3/ApproxFun/src/Plot/GLPlot.jl:16",
        " in glsurf at /Users/solver/.julia/v0.3/ApproxFun/src/Plot/GLPlot.jl:34",
        " in surf at /Users/solver/.julia/v0.3/ApproxFun/src/Plot/Plot.jl:66",
        " in plot at /Users/solver/.julia/v0.3/ApproxFun/src/Plot/Plot.jl:174",
        " in timeevolution at /Users/solver/.julia/v0.3/ApproxFun/src/PDE/timeevolution.jl:24",
        " in timeevolution at /Users/solver/.julia/v0.3/ApproxFun/src/PDE/timeevolution.jl:31",
        " in timeevolution at /Users/solver/.julia/v0.3/ApproxFun/src/PDE/timeevolution.jl:34"
       ]
      }
     ],
     "prompt_number": 5
    },
    {
     "cell_type": "heading",
     "level": 1,
     "metadata": {},
     "source": [
      "Advection-diffusion with Dirichlet\n",
      " $$u_t = 0.01 \\Delta u -4 u_x -3 u_y, u(\\pm 1,y,t)=u(x,\\pm 1,t)=0$$"
     ]
    },
    {
     "cell_type": "code",
     "collapsed": false,
     "input": [
      "d=Interval()^2\n",
      "u0   = Fun((x,y)->exp(-40(x-.1)^2-40(y+.2)^2),d,100,100)\n",
      "B=dirichlet(d)\n",
      "D=diff(Interval())\n",
      "L=(0.01D^2-4D)\u2297I + I\u2297(0.01D^2-3D)\n",
      "h=0.005\n",
      "timeevolution(B,L,u0,h)"
     ],
     "language": "python",
     "metadata": {},
     "outputs": [
      {
       "output_type": "stream",
       "stream": "stderr",
       "text": [
        "Warning: redefining constant volumeshader\n",
        "Warning: redefining constant uvwshader\n"
       ]
      },
      {
       "ename": "LoadError",
       "evalue": "The GLFW library is not initialized\nwhile loading In[3], in expression starting on line 7",
       "output_type": "pyerr",
       "traceback": [
        "The GLFW library is not initialized\nwhile loading In[3], in expression starting on line 7",
        "",
        " in error at error.jl:21",
        " in anonymous at /Users/solver/.julia/v0.3/GLFW/src/GLFW.jl:25",
        " in ErrorCallback at /Users/solver/.julia/v0.3/GLFW/src/util.jl:90",
        " in SwapBuffers at /Users/solver/.julia/v0.3/GLFW/src/glfw3.jl:483",
        " in glupdatewindow at /Users/solver/.julia/v0.3/ApproxFun/src/Plot/GLPlot.jl:16",
        " in glsurf at /Users/solver/.julia/v0.3/ApproxFun/src/Plot/GLPlot.jl:34",
        " in surf at /Users/solver/.julia/v0.3/ApproxFun/src/Plot/Plot.jl:66",
        " in plot at /Users/solver/.julia/v0.3/ApproxFun/src/Plot/Plot.jl:174",
        " in timeevolution at /Users/solver/.julia/v0.3/ApproxFun/src/PDE/timeevolution.jl:24",
        " in timeevolution at /Users/solver/.julia/v0.3/ApproxFun/src/PDE/timeevolution.jl:31",
        " in timeevolution at /Users/solver/.julia/v0.3/ApproxFun/src/PDE/timeevolution.jl:34"
       ]
      }
     ],
     "prompt_number": 3
    },
    {
     "cell_type": "heading",
     "level": 1,
     "metadata": {},
     "source": [
      "Wave equation with Dirichlet \n",
      "$$u_{tt} = \\Delta u, u(x,y,0)=u_0(x,y), u(\\pm 1,y,t)=u(x,\\pm 1,t)=0$$"
     ]
    },
    {
     "cell_type": "code",
     "collapsed": false,
     "input": [
      "# domain is a square\n",
      "d=Interval()^2\n",
      "\n",
      "# initial condition\n",
      "u0   = Fun((x,y)->exp(-50x.^2-40(y-.1).^2)+.5exp(-30(x+.5).^2-40(y+.2).^2),d)\n",
      "\n",
      "# dirichlet boundary conditions, try neumann(d).  mixed is also possible\n",
      "B= dirichlet(d)   \n",
      "\u0394=lap(d)\n",
      "h = 0.005\n",
      "\n",
      "# the 2 specifies that we are solving a second order equation\n",
      "# the default is to take u_t(x,0)=0\n",
      "timeevolution(2,B,\u0394,u0,h)"
     ],
     "language": "python",
     "metadata": {},
     "outputs": [
      {
       "output_type": "stream",
       "stream": "stderr",
       "text": [
        "INFO: loaded GLFW 3.0.4 Cocoa NSGL chdir menubar dynamic from /Users/solver/.julia/v0.3/GLFW/deps/usr64/lib/libglfw\n"
       ]
      },
      {
       "ename": "LoadError",
       "evalue": "The GLFW library is not initialized\nwhile loading In[2], in expression starting on line 14",
       "output_type": "pyerr",
       "traceback": [
        "The GLFW library is not initialized\nwhile loading In[2], in expression starting on line 14",
        "",
        " in error at error.jl:21",
        " in anonymous at /Users/solver/.julia/v0.3/GLFW/src/GLFW.jl:25",
        " in ErrorCallback at /Users/solver/.julia/v0.3/GLFW/src/util.jl:90",
        " in SwapBuffers at /Users/solver/.julia/v0.3/GLFW/src/glfw3.jl:483",
        " in glupdatewindow at /Users/solver/.julia/v0.3/ApproxFun/src/Plot/GLPlot.jl:16",
        " in glsurf at /Users/solver/.julia/v0.3/ApproxFun/src/Plot/GLPlot.jl:34",
        " in surf at /Users/solver/.julia/v0.3/ApproxFun/src/Plot/Plot.jl:66",
        " in plot at /Users/solver/.julia/v0.3/ApproxFun/src/Plot/Plot.jl:174",
        " in timeevolution2 at /Users/solver/.julia/v0.3/ApproxFun/src/PDE/timeevolution.jl:54",
        " in timeevolution2 at /Users/solver/.julia/v0.3/ApproxFun/src/PDE/timeevolution.jl:61",
        " in timeevolution at /Users/solver/.julia/v0.3/ApproxFun/src/PDE/timeevolution.jl:69"
       ]
      }
     ],
     "prompt_number": 2
    },
    {
     "cell_type": "heading",
     "level": 1,
     "metadata": {},
     "source": [
      "Wave equation with Dirichlet-Neumann\n",
      "$$u_{tt} = \\Delta u, u(x,y,0)=u_0(x,y), u(-1,y,t)=u_x(1,y,t)=u(x,\\pm 1,t)=0$$"
     ]
    },
    {
     "cell_type": "code",
     "collapsed": false,
     "input": [
      "h    = 0.005\n",
      "# initial condition\n",
      "u0   = TensorFun((x,y)->exp(-50x.^2-40(y-.1).^2)+.5exp(-30(x+.5).^2-40(y+.2).^2))\n",
      "d    = domain(u0)\n",
      "dx=d[1];dy=d[2]\n",
      "B= [[ldirichlet(dx),rneumann(dx)]\u2297I,I\u2297dirichlet(dy)]   \n",
      "\n",
      "\u0394=lap(d)\n",
      "\n",
      "timeevolution(2,B,\u0394,u0,h)\n"
     ],
     "language": "python",
     "metadata": {},
     "outputs": [
      {
       "output_type": "stream",
       "stream": "stderr",
       "text": [
        "Warning: redefining constant volumeshader\n",
        "Warning: redefining constant uvwshader\n"
       ]
      },
      {
       "ename": "LoadError",
       "evalue": "The GLFW library is not initialized\nwhile loading In[6], in expression starting on line 10",
       "output_type": "pyerr",
       "traceback": [
        "The GLFW library is not initialized\nwhile loading In[6], in expression starting on line 10",
        "",
        " in error at error.jl:21",
        " in anonymous at /Users/solver/.julia/v0.3/GLFW/src/GLFW.jl:25",
        " in ErrorCallback at /Users/solver/.julia/v0.3/GLFW/src/util.jl:90",
        " in SwapBuffers at /Users/solver/.julia/v0.3/GLFW/src/glfw3.jl:483",
        " in glupdatewindow at /Users/solver/.julia/v0.3/ApproxFun/src/Plot/GLPlot.jl:16",
        " in glsurf at /Users/solver/.julia/v0.3/ApproxFun/src/Plot/GLPlot.jl:34",
        " in surf at /Users/solver/.julia/v0.3/ApproxFun/src/Plot/Plot.jl:66",
        " in plot at /Users/solver/.julia/v0.3/ApproxFun/src/Plot/Plot.jl:174",
        " in timeevolution2 at /Users/solver/.julia/v0.3/ApproxFun/src/PDE/timeevolution.jl:54",
        " in timeevolution2 at /Users/solver/.julia/v0.3/ApproxFun/src/PDE/timeevolution.jl:61",
        " in timeevolution at /Users/solver/.julia/v0.3/ApproxFun/src/PDE/timeevolution.jl:69"
       ]
      }
     ],
     "prompt_number": 6
    },
    {
     "cell_type": "heading",
     "level": 1,
     "metadata": {},
     "source": [
      "Klein\u2013Gordon equation with Dirichlet\n",
      "$$u_{tt} = \\Delta u - 100u, u(x,y,0)=u_0(x,y), u(\\pm 1,y,t)=u(x,\\pm 1,t)=0$$"
     ]
    },
    {
     "cell_type": "code",
     "collapsed": false,
     "input": [
      "\n",
      "d=Interval()^2\n",
      "# initial condition\n",
      "u0   = Fun((x,y)->exp(-50x.^2-40(y-.1).^2)+.5exp(-30(x+.5).^2-40(y+.2).^2))\n",
      "B= dirichlet(d) \n",
      "\n",
      "L=lap(d)-100I\n",
      "\n",
      "h    = 0.005\n",
      "timeevolution(2,B,L,u0,h)\n"
     ],
     "language": "python",
     "metadata": {},
     "outputs": [
      {
       "ename": "LoadError",
       "evalue": "wrong number of arguments\nwhile loading In[7], in expression starting on line 4",
       "output_type": "pyerr",
       "traceback": [
        "wrong number of arguments\nwhile loading In[7], in expression starting on line 4",
        "",
        " in anonymous at In[7]:4",
        " in zerocfsFun at /Users/solver/.julia/v0.3/ApproxFun/src/Fun/constructors.jl:75",
        " in Fun at /Users/solver/.julia/v0.3/ApproxFun/src/Fun/constructors.jl:135",
        " in Fun at /Users/solver/.julia/v0.3/ApproxFun/src/Fun/constructors.jl:140",
        " in Fun at /Users/solver/.julia/v0.3/ApproxFun/src/Fun/constructors.jl:163"
       ]
      }
     ],
     "prompt_number": 7
    },
    {
     "cell_type": "code",
     "collapsed": false,
     "input": [],
     "language": "python",
     "metadata": {},
     "outputs": []
    }
   ],
   "metadata": {}
  }
 ]
}