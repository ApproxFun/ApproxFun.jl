{
 "cells": [
  {
   "cell_type": "code",
   "execution_count": 2,
   "metadata": {
    "collapsed": false
   },
   "outputs": [],
   "source": [
    "using Plots, ApproxFun"
   ]
  },
  {
   "cell_type": "markdown",
   "metadata": {},
   "source": [
    "We demonstrate numerical solution of the examples in [Hale & Olver 2016]:\n",
    "\n",
    "##### Example 1\n",
    "\n",
    "$$y(x) + {}_{-1} {\\cal Q}_x^{1/2} y(x) = 1$$"
   ]
  },
  {
   "cell_type": "code",
   "execution_count": 5,
   "metadata": {
    "collapsed": false
   },
   "outputs": [
    {
     "name": "stdout",
     "output_type": "stream",
     "text": [
      "[Plots.jl] Initializing backend: gr\n"
     ]
    },
    {
     "data": {
      "text/html": [
       "<?xml version=\"1.0\" encoding=\"utf-8\"?>\n",
       "<svg xmlns=\"http://www.w3.org/2000/svg\" xmlns:xlink=\"http://www.w3.org/1999/xlink\" width=\"600\" height=\"400\" viewBox=\"0 0 600 400\">\n",
       "<defs>\n",
       "  <clipPath id=\"clip00\">\n",
       "    <rect x=\"0\" y=\"0\" width=\"600\" height=\"400\"/>\n",
       "  </clipPath>\n",
       "</defs>\n",
       "<polygon clip-path=\"url(#clip00)\" points=\"\n",
       "0,400 600,400 600,0 0,0 \n",
       "  \" fill=\"#ffffff\" fill-opacity=\"1\"/>\n",
       "<defs>\n",
       "  <clipPath id=\"clip01\">\n",
       "    <rect x=\"120\" y=\"0\" width=\"421\" height=\"400\"/>\n",
       "  </clipPath>\n",
       "</defs>\n",
       "<polygon clip-path=\"url(#clip00)\" points=\"\n",
       "35.4331,377.078 596.063,377.078 596.063,3.93701 35.4331,3.93701 \n",
       "  \" fill=\"#ffffff\" fill-opacity=\"1\"/>\n",
       "<defs>\n",
       "  <clipPath id=\"clip02\">\n",
       "    <rect x=\"35\" y=\"3\" width=\"561\" height=\"374\"/>\n",
       "  </clipPath>\n",
       "</defs>\n",
       "<polyline clip-path=\"url(#clip02)\" style=\"stroke:#00002d; stroke-width:0.8; stroke-opacity:0.5; fill:none\" stroke-dasharray=\"1, 2\" points=\"\n",
       "  175.583,371.481 175.583,9.53412 \n",
       "  \"/>\n",
       "<polyline clip-path=\"url(#clip02)\" style=\"stroke:#00002d; stroke-width:0.8; stroke-opacity:0.5; fill:none\" stroke-dasharray=\"1, 2\" points=\"\n",
       "  315.748,371.481 315.748,9.53412 \n",
       "  \"/>\n",
       "<polyline clip-path=\"url(#clip02)\" style=\"stroke:#00002d; stroke-width:0.8; stroke-opacity:0.5; fill:none\" stroke-dasharray=\"1, 2\" points=\"\n",
       "  455.913,371.481 455.913,9.53412 \n",
       "  \"/>\n",
       "<polyline clip-path=\"url(#clip02)\" style=\"stroke:#00002d; stroke-width:0.8; stroke-opacity:0.5; fill:none\" stroke-dasharray=\"1, 2\" points=\"\n",
       "  43.8425,283.854 587.654,283.854 \n",
       "  \"/>\n",
       "<polyline clip-path=\"url(#clip02)\" style=\"stroke:#00002d; stroke-width:0.8; stroke-opacity:0.5; fill:none\" stroke-dasharray=\"1, 2\" points=\"\n",
       "  43.8425,141.564 587.654,141.564 \n",
       "  \"/>\n",
       "<polyline clip-path=\"url(#clip02)\" style=\"stroke:#00002d; stroke-width:0.8; stroke-opacity:1; fill:none\" points=\"\n",
       "  35.4331,377.078 596.063,377.078 \n",
       "  \"/>\n",
       "<polyline clip-path=\"url(#clip02)\" style=\"stroke:#00002d; stroke-width:0.8; stroke-opacity:1; fill:none\" points=\"\n",
       "  35.4331,3.93701 596.063,3.93701 \n",
       "  \"/>\n",
       "<polyline clip-path=\"url(#clip02)\" style=\"stroke:#00002d; stroke-width:0.8; stroke-opacity:1; fill:none\" points=\"\n",
       "  175.583,377.078 175.583,371.481 \n",
       "  \"/>\n",
       "<polyline clip-path=\"url(#clip02)\" style=\"stroke:#00002d; stroke-width:0.8; stroke-opacity:1; fill:none\" points=\"\n",
       "  175.583,3.93701 175.583,9.53412 \n",
       "  \"/>\n",
       "<polyline clip-path=\"url(#clip02)\" style=\"stroke:#00002d; stroke-width:0.8; stroke-opacity:1; fill:none\" points=\"\n",
       "  315.748,377.078 315.748,371.481 \n",
       "  \"/>\n",
       "<polyline clip-path=\"url(#clip02)\" style=\"stroke:#00002d; stroke-width:0.8; stroke-opacity:1; fill:none\" points=\"\n",
       "  315.748,3.93701 315.748,9.53412 \n",
       "  \"/>\n",
       "<polyline clip-path=\"url(#clip02)\" style=\"stroke:#00002d; stroke-width:0.8; stroke-opacity:1; fill:none\" points=\"\n",
       "  455.913,377.078 455.913,371.481 \n",
       "  \"/>\n",
       "<polyline clip-path=\"url(#clip02)\" style=\"stroke:#00002d; stroke-width:0.8; stroke-opacity:1; fill:none\" points=\"\n",
       "  455.913,3.93701 455.913,9.53412 \n",
       "  \"/>\n",
       "<polyline clip-path=\"url(#clip02)\" style=\"stroke:#00002d; stroke-width:0.8; stroke-opacity:1; fill:none\" points=\"\n",
       "  35.4331,377.078 35.4331,3.93701 \n",
       "  \"/>\n",
       "<polyline clip-path=\"url(#clip02)\" style=\"stroke:#00002d; stroke-width:0.8; stroke-opacity:1; fill:none\" points=\"\n",
       "  596.063,377.078 596.063,3.93701 \n",
       "  \"/>\n",
       "<polyline clip-path=\"url(#clip02)\" style=\"stroke:#00002d; stroke-width:0.8; stroke-opacity:1; fill:none\" points=\"\n",
       "  35.4331,283.854 43.8425,283.854 \n",
       "  \"/>\n",
       "<polyline clip-path=\"url(#clip02)\" style=\"stroke:#00002d; stroke-width:0.8; stroke-opacity:1; fill:none\" points=\"\n",
       "  596.063,283.854 587.654,283.854 \n",
       "  \"/>\n",
       "<polyline clip-path=\"url(#clip02)\" style=\"stroke:#00002d; stroke-width:0.8; stroke-opacity:1; fill:none\" points=\"\n",
       "  35.4331,141.564 43.8425,141.564 \n",
       "  \"/>\n",
       "<polyline clip-path=\"url(#clip02)\" style=\"stroke:#00002d; stroke-width:0.8; stroke-opacity:1; fill:none\" points=\"\n",
       "  596.063,141.564 587.654,141.564 \n",
       "  \"/>\n",
       "<g clip-path=\"url(#clip00)\">\n",
       "<text style=\"fill:#00002d; fill-opacity:1; font-family:Arial,Helvetica Neue,Helvetica,sans-serif; font-size:12; text-anchor:middle;\" transform=\"rotate(0, 175.583, 393.878)\" x=\"175.583\" y=\"393.878\">-0.5</text>\n",
       "</g>\n",
       "<g clip-path=\"url(#clip00)\">\n",
       "<text style=\"fill:#00002d; fill-opacity:1; font-family:Arial,Helvetica Neue,Helvetica,sans-serif; font-size:12; text-anchor:middle;\" transform=\"rotate(0, 315.748, 393.878)\" x=\"315.748\" y=\"393.878\">0.0</text>\n",
       "</g>\n",
       "<g clip-path=\"url(#clip00)\">\n",
       "<text style=\"fill:#00002d; fill-opacity:1; font-family:Arial,Helvetica Neue,Helvetica,sans-serif; font-size:12; text-anchor:middle;\" transform=\"rotate(0, 455.913, 393.878)\" x=\"455.913\" y=\"393.878\">0.5</text>\n",
       "</g>\n",
       "<g clip-path=\"url(#clip00)\">\n",
       "<text style=\"fill:#00002d; fill-opacity:1; font-family:Arial,Helvetica Neue,Helvetica,sans-serif; font-size:12; text-anchor:end;\" transform=\"rotate(0, 29.4331, 288.354)\" x=\"29.4331\" y=\"288.354\">0.50</text>\n",
       "</g>\n",
       "<g clip-path=\"url(#clip00)\">\n",
       "<text style=\"fill:#00002d; fill-opacity:1; font-family:Arial,Helvetica Neue,Helvetica,sans-serif; font-size:12; text-anchor:end;\" transform=\"rotate(0, 29.4331, 146.064)\" x=\"29.4331\" y=\"146.064\">0.75</text>\n",
       "</g>\n",
       "<polyline clip-path=\"url(#clip02)\" style=\"stroke:#0099ff; stroke-width:0.8; stroke-opacity:1; fill:none\" points=\"\n",
       "  35.4331,3.93701 35.5528,13.0836 35.7922,21.9974 36.1513,30.6849 36.6297,39.1526 37.2274,47.4067 37.9441,55.4532 38.7794,63.298 39.733,70.9468 40.8046,78.4052 \n",
       "  41.9936,85.6784 43.2995,92.7717 44.7218,99.69 46.2599,106.438 47.9131,113.021 49.6807,119.444 51.5619,125.71 53.5561,131.824 55.6622,137.791 57.8794,143.614 \n",
       "  60.2068,149.297 62.6433,154.844 65.1879,160.259 67.8396,165.545 70.5972,170.706 73.4595,175.746 76.4253,180.667 79.4933,185.472 82.6622,190.166 85.9307,194.75 \n",
       "  89.2974,199.228 92.7608,203.602 96.3195,207.875 99.9719,212.051 103.716,216.13 107.552,220.116 111.476,224.012 115.487,227.819 119.584,231.54 123.765,235.177 \n",
       "  128.027,238.732 132.37,242.208 136.791,245.605 141.289,248.927 145.861,252.175 150.506,255.35 155.221,258.456 160.005,261.492 164.855,264.462 169.77,267.366 \n",
       "  174.748,270.207 179.785,272.985 184.881,275.702 190.032,278.361 195.237,280.961 200.494,283.505 205.8,285.993 211.153,288.427 216.55,290.809 221.99,293.139 \n",
       "  227.47,295.419 232.988,297.649 238.541,299.831 244.126,301.966 249.743,304.055 255.388,306.099 261.058,308.099 266.752,310.056 272.467,311.97 278.2,313.844 \n",
       "  283.95,315.676 289.713,317.47 295.487,319.224 301.27,320.94 307.058,322.62 312.851,324.262 318.645,325.869 324.438,327.441 330.226,328.979 336.009,330.483 \n",
       "  341.783,331.954 347.546,333.393 353.296,334.799 359.029,336.175 364.744,337.52 370.438,338.835 376.108,340.12 381.753,341.377 387.37,342.605 392.956,343.805 \n",
       "  398.509,344.978 404.026,346.124 409.506,347.243 414.946,348.336 420.344,349.403 425.696,350.446 431.002,351.463 436.259,352.456 441.464,353.425 446.615,354.37 \n",
       "  451.711,355.292 456.748,356.191 461.726,357.067 466.641,357.921 471.491,358.753 476.275,359.564 480.99,360.353 485.635,361.121 490.207,361.868 494.705,362.594 \n",
       "  499.126,363.301 503.469,363.987 507.732,364.654 511.912,365.301 516.009,365.928 520.02,366.537 523.944,367.127 527.78,367.698 531.524,368.251 535.177,368.785 \n",
       "  538.735,369.302 542.199,369.8 545.565,370.281 548.834,370.745 552.003,371.19 555.071,371.619 558.037,372.031 560.899,372.425 563.656,372.803 566.308,373.165 \n",
       "  568.853,373.509 571.289,373.837 573.617,374.149 575.834,374.445 577.94,374.724 579.934,374.988 581.815,375.235 583.583,375.467 585.236,375.683 586.774,375.883 \n",
       "  588.197,376.067 589.503,376.236 590.691,376.39 591.763,376.528 592.717,376.65 593.552,376.757 594.269,376.849 594.866,376.925 595.345,376.986 595.704,377.032 \n",
       "  595.943,377.063 596.063,377.078 \n",
       "  \"/>\n",
       "<polygon clip-path=\"url(#clip00)\" points=\"\n",
       "505.547,55.057 578.063,55.057 578.063,24.817 505.547,24.817 \n",
       "  \" fill=\"#ffffff\" fill-opacity=\"1\"/>\n",
       "<polyline clip-path=\"url(#clip00)\" style=\"stroke:#00002d; stroke-width:0.8; stroke-opacity:1; fill:none\" points=\"\n",
       "  505.547,55.057 578.063,55.057 578.063,24.817 505.547,24.817 505.547,55.057 \n",
       "  \"/>\n",
       "<polyline clip-path=\"url(#clip00)\" style=\"stroke:#0099ff; stroke-width:0.8; stroke-opacity:1; fill:none\" points=\"\n",
       "  511.547,39.937 547.547,39.937 \n",
       "  \"/>\n",
       "<g clip-path=\"url(#clip00)\">\n",
       "<text style=\"fill:#00002d; fill-opacity:1; font-family:Arial,Helvetica Neue,Helvetica,sans-serif; font-size:12; text-anchor:start;\" transform=\"rotate(0, 553.547, 44.437)\" x=\"553.547\" y=\"44.437\">y1</text>\n",
       "</g>\n",
       "</svg>\n"
      ]
     },
     "execution_count": 5,
     "metadata": {},
     "output_type": "execute_result"
    }
   ],
   "source": [
    "S=Legendre()⊕JacobiWeight(0.5,0.,Ultraspherical(1))\n",
    "Q½=LeftIntegral(S,0.5)\n",
    "\n",
    "y=(I+Q½)\\1\n",
    "plot(y)"
   ]
  },
  {
   "cell_type": "markdown",
   "metadata": {},
   "source": [
    "We can compare with the exact solution:"
   ]
  },
  {
   "cell_type": "code",
   "execution_count": 6,
   "metadata": {
    "collapsed": false
   },
   "outputs": [
    {
     "data": {
      "text/plain": [
       "6.16319575427255e-15"
      ]
     },
     "execution_count": 6,
     "metadata": {},
     "output_type": "execute_result"
    }
   ],
   "source": [
    "x=Fun()\n",
    "norm(exp(1+x)*erfc(sqrt(1+x))-y)"
   ]
  },
  {
   "cell_type": "markdown",
   "metadata": {},
   "source": [
    "##### Example 2\n",
    "\n"
   ]
  },
  {
   "cell_type": "code",
   "execution_count": 9,
   "metadata": {
    "collapsed": false
   },
   "outputs": [
    {
     "data": {
      "text/html": [
       "<?xml version=\"1.0\" encoding=\"utf-8\"?>\n",
       "<svg xmlns=\"http://www.w3.org/2000/svg\" xmlns:xlink=\"http://www.w3.org/1999/xlink\" width=\"600\" height=\"400\" viewBox=\"0 0 600 400\">\n",
       "<defs>\n",
       "  <clipPath id=\"clip00\">\n",
       "    <rect x=\"0\" y=\"0\" width=\"600\" height=\"400\"/>\n",
       "  </clipPath>\n",
       "</defs>\n",
       "<polygon clip-path=\"url(#clip00)\" points=\"\n",
       "0,400 600,400 600,0 0,0 \n",
       "  \" fill=\"#ffffff\" fill-opacity=\"1\"/>\n",
       "<defs>\n",
       "  <clipPath id=\"clip01\">\n",
       "    <rect x=\"120\" y=\"0\" width=\"421\" height=\"400\"/>\n",
       "  </clipPath>\n",
       "</defs>\n",
       "<polygon clip-path=\"url(#clip00)\" points=\"\n",
       "35.4331,377.078 596.063,377.078 596.063,3.93701 35.4331,3.93701 \n",
       "  \" fill=\"#ffffff\" fill-opacity=\"1\"/>\n",
       "<defs>\n",
       "  <clipPath id=\"clip02\">\n",
       "    <rect x=\"35\" y=\"3\" width=\"561\" height=\"374\"/>\n",
       "  </clipPath>\n",
       "</defs>\n",
       "<polyline clip-path=\"url(#clip02)\" style=\"stroke:#00002d; stroke-width:0.8; stroke-opacity:0.5; fill:none\" stroke-dasharray=\"1, 2\" points=\"\n",
       "  175.589,371.481 175.589,9.53412 \n",
       "  \"/>\n",
       "<polyline clip-path=\"url(#clip02)\" style=\"stroke:#00002d; stroke-width:0.8; stroke-opacity:0.5; fill:none\" stroke-dasharray=\"1, 2\" points=\"\n",
       "  315.748,371.481 315.748,9.53412 \n",
       "  \"/>\n",
       "<polyline clip-path=\"url(#clip02)\" style=\"stroke:#00002d; stroke-width:0.8; stroke-opacity:0.5; fill:none\" stroke-dasharray=\"1, 2\" points=\"\n",
       "  455.907,371.481 455.907,9.53412 \n",
       "  \"/>\n",
       "<polyline clip-path=\"url(#clip02)\" style=\"stroke:#00002d; stroke-width:0.8; stroke-opacity:0.5; fill:none\" stroke-dasharray=\"1, 2\" points=\"\n",
       "  43.8425,323.039 587.654,323.039 \n",
       "  \"/>\n",
       "<polyline clip-path=\"url(#clip02)\" style=\"stroke:#00002d; stroke-width:0.8; stroke-opacity:0.5; fill:none\" stroke-dasharray=\"1, 2\" points=\"\n",
       "  43.8425,216.086 587.654,216.086 \n",
       "  \"/>\n",
       "<polyline clip-path=\"url(#clip02)\" style=\"stroke:#00002d; stroke-width:0.8; stroke-opacity:0.5; fill:none\" stroke-dasharray=\"1, 2\" points=\"\n",
       "  43.8425,109.134 587.654,109.134 \n",
       "  \"/>\n",
       "<polyline clip-path=\"url(#clip02)\" style=\"stroke:#00002d; stroke-width:0.8; stroke-opacity:1; fill:none\" points=\"\n",
       "  35.4331,377.078 596.063,377.078 \n",
       "  \"/>\n",
       "<polyline clip-path=\"url(#clip02)\" style=\"stroke:#00002d; stroke-width:0.8; stroke-opacity:1; fill:none\" points=\"\n",
       "  35.4331,3.93701 596.063,3.93701 \n",
       "  \"/>\n",
       "<polyline clip-path=\"url(#clip02)\" style=\"stroke:#00002d; stroke-width:0.8; stroke-opacity:1; fill:none\" points=\"\n",
       "  175.589,377.078 175.589,371.481 \n",
       "  \"/>\n",
       "<polyline clip-path=\"url(#clip02)\" style=\"stroke:#00002d; stroke-width:0.8; stroke-opacity:1; fill:none\" points=\"\n",
       "  175.589,3.93701 175.589,9.53412 \n",
       "  \"/>\n",
       "<polyline clip-path=\"url(#clip02)\" style=\"stroke:#00002d; stroke-width:0.8; stroke-opacity:1; fill:none\" points=\"\n",
       "  315.748,377.078 315.748,371.481 \n",
       "  \"/>\n",
       "<polyline clip-path=\"url(#clip02)\" style=\"stroke:#00002d; stroke-width:0.8; stroke-opacity:1; fill:none\" points=\"\n",
       "  315.748,3.93701 315.748,9.53412 \n",
       "  \"/>\n",
       "<polyline clip-path=\"url(#clip02)\" style=\"stroke:#00002d; stroke-width:0.8; stroke-opacity:1; fill:none\" points=\"\n",
       "  455.907,377.078 455.907,371.481 \n",
       "  \"/>\n",
       "<polyline clip-path=\"url(#clip02)\" style=\"stroke:#00002d; stroke-width:0.8; stroke-opacity:1; fill:none\" points=\"\n",
       "  455.907,3.93701 455.907,9.53412 \n",
       "  \"/>\n",
       "<polyline clip-path=\"url(#clip02)\" style=\"stroke:#00002d; stroke-width:0.8; stroke-opacity:1; fill:none\" points=\"\n",
       "  35.4331,377.078 35.4331,3.93701 \n",
       "  \"/>\n",
       "<polyline clip-path=\"url(#clip02)\" style=\"stroke:#00002d; stroke-width:0.8; stroke-opacity:1; fill:none\" points=\"\n",
       "  596.063,377.078 596.063,3.93701 \n",
       "  \"/>\n",
       "<polyline clip-path=\"url(#clip02)\" style=\"stroke:#00002d; stroke-width:0.8; stroke-opacity:1; fill:none\" points=\"\n",
       "  35.4331,323.039 43.8425,323.039 \n",
       "  \"/>\n",
       "<polyline clip-path=\"url(#clip02)\" style=\"stroke:#00002d; stroke-width:0.8; stroke-opacity:1; fill:none\" points=\"\n",
       "  596.063,323.039 587.654,323.039 \n",
       "  \"/>\n",
       "<polyline clip-path=\"url(#clip02)\" style=\"stroke:#00002d; stroke-width:0.8; stroke-opacity:1; fill:none\" points=\"\n",
       "  35.4331,216.086 43.8425,216.086 \n",
       "  \"/>\n",
       "<polyline clip-path=\"url(#clip02)\" style=\"stroke:#00002d; stroke-width:0.8; stroke-opacity:1; fill:none\" points=\"\n",
       "  596.063,216.086 587.654,216.086 \n",
       "  \"/>\n",
       "<polyline clip-path=\"url(#clip02)\" style=\"stroke:#00002d; stroke-width:0.8; stroke-opacity:1; fill:none\" points=\"\n",
       "  35.4331,109.134 43.8425,109.134 \n",
       "  \"/>\n",
       "<polyline clip-path=\"url(#clip02)\" style=\"stroke:#00002d; stroke-width:0.8; stroke-opacity:1; fill:none\" points=\"\n",
       "  596.063,109.134 587.654,109.134 \n",
       "  \"/>\n",
       "<g clip-path=\"url(#clip00)\">\n",
       "<text style=\"fill:#00002d; fill-opacity:1; font-family:Arial,Helvetica Neue,Helvetica,sans-serif; font-size:12; text-anchor:middle;\" transform=\"rotate(0, 175.589, 393.878)\" x=\"175.589\" y=\"393.878\">-0.5</text>\n",
       "</g>\n",
       "<g clip-path=\"url(#clip00)\">\n",
       "<text style=\"fill:#00002d; fill-opacity:1; font-family:Arial,Helvetica Neue,Helvetica,sans-serif; font-size:12; text-anchor:middle;\" transform=\"rotate(0, 315.748, 393.878)\" x=\"315.748\" y=\"393.878\">0.0</text>\n",
       "</g>\n",
       "<g clip-path=\"url(#clip00)\">\n",
       "<text style=\"fill:#00002d; fill-opacity:1; font-family:Arial,Helvetica Neue,Helvetica,sans-serif; font-size:12; text-anchor:middle;\" transform=\"rotate(0, 455.907, 393.878)\" x=\"455.907\" y=\"393.878\">0.5</text>\n",
       "</g>\n",
       "<g clip-path=\"url(#clip00)\">\n",
       "<text style=\"fill:#00002d; fill-opacity:1; font-family:Arial,Helvetica Neue,Helvetica,sans-serif; font-size:12; text-anchor:end;\" transform=\"rotate(0, 29.4331, 327.539)\" x=\"29.4331\" y=\"327.539\">0.25</text>\n",
       "</g>\n",
       "<g clip-path=\"url(#clip00)\">\n",
       "<text style=\"fill:#00002d; fill-opacity:1; font-family:Arial,Helvetica Neue,Helvetica,sans-serif; font-size:12; text-anchor:end;\" transform=\"rotate(0, 29.4331, 220.586)\" x=\"29.4331\" y=\"220.586\">0.50</text>\n",
       "</g>\n",
       "<g clip-path=\"url(#clip00)\">\n",
       "<text style=\"fill:#00002d; fill-opacity:1; font-family:Arial,Helvetica Neue,Helvetica,sans-serif; font-size:12; text-anchor:end;\" transform=\"rotate(0, 29.4331, 113.634)\" x=\"29.4331\" y=\"113.634\">0.75</text>\n",
       "</g>\n",
       "<polyline clip-path=\"url(#clip02)\" style=\"stroke:#0099ff; stroke-width:0.8; stroke-opacity:1; fill:none\" points=\"\n",
       "  35.4331,3.93701 35.4628,7.43029 35.5223,10.901 35.6115,14.3493 35.7304,17.7752 35.8791,21.1788 36.0574,24.5602 36.2654,27.9195 36.5031,31.2567 36.7703,34.572 \n",
       "  37.0672,37.8655 37.3937,41.1372 37.7496,44.3872 38.1351,47.6155 38.55,50.8224 38.9944,54.0078 39.4681,57.1718 39.9711,60.3145 40.5034,63.4359 41.0648,66.5363 \n",
       "  41.6554,69.6155 42.2751,72.6738 42.9238,75.7111 43.6015,78.7276 44.308,81.7232 45.0434,84.6982 45.8074,87.6526 46.6001,90.5864 47.4213,93.4996 48.271,96.3925 \n",
       "  49.1491,99.265 50.0555,102.117 50.9901,104.949 51.9527,107.761 52.9433,110.553 53.9619,113.325 55.0082,116.076 56.0821,118.808 57.1836,121.52 58.3126,124.213 \n",
       "  59.4688,126.885 60.6523,129.539 61.8628,132.172 63.1002,134.786 64.3645,137.381 65.6554,139.956 66.9728,142.512 68.3167,145.049 69.6868,147.566 71.083,150.065 \n",
       "  72.5051,152.545 73.9531,155.005 75.4267,157.447 76.9258,159.87 78.4503,162.274 79.9999,164.659 81.5746,167.026 83.1741,169.375 84.7982,171.704 86.4469,174.016 \n",
       "  88.1199,176.309 89.817,178.584 91.5382,180.84 93.2831,183.079 95.0516,185.299 96.8435,187.502 98.6586,189.686 100.497,191.853 102.358,194.002 104.241,196.133 \n",
       "  106.148,198.246 108.076,200.342 110.026,202.421 111.998,204.482 113.992,206.525 116.007,208.552 118.044,210.561 120.101,212.553 122.179,214.528 124.278,216.486 \n",
       "  126.397,218.427 128.536,220.351 130.695,222.259 132.874,224.149 135.072,226.024 137.289,227.881 139.525,229.722 141.78,231.547 144.053,233.356 146.344,235.148 \n",
       "  148.654,236.924 150.981,238.685 153.325,240.429 155.687,242.157 158.066,243.869 160.462,245.566 162.874,247.247 165.302,248.913 167.746,250.563 170.206,252.197 \n",
       "  172.682,253.817 175.172,255.421 177.678,257.01 180.198,258.583 182.732,260.142 185.281,261.686 187.843,263.215 190.419,264.73 193.009,266.229 195.611,267.715 \n",
       "  198.226,269.185 200.854,270.642 203.493,272.084 206.145,273.511 208.808,274.925 211.483,276.325 214.169,277.71 216.865,279.082 219.572,280.44 222.289,281.784 \n",
       "  225.016,283.115 227.753,284.432 230.499,285.736 233.254,287.026 236.018,288.304 238.79,289.568 241.571,290.818 244.359,292.056 247.155,293.281 249.958,294.494 \n",
       "  252.768,295.693 255.585,296.88 258.408,298.054 261.238,299.216 264.073,300.366 266.913,301.503 269.759,302.628 272.61,303.741 275.465,304.842 278.324,305.931 \n",
       "  281.188,307.008 284.055,308.073 286.925,309.127 289.799,310.169 292.675,311.2 295.554,312.219 298.435,313.227 301.318,314.224 304.202,315.209 307.087,316.184 \n",
       "  309.974,317.147 312.861,318.1 315.748,319.042 318.635,319.973 321.522,320.894 324.409,321.804 327.294,322.703 330.178,323.592 333.061,324.471 335.942,325.34 \n",
       "  338.821,326.198 341.697,327.047 344.571,327.886 347.441,328.714 350.308,329.533 353.172,330.342 356.031,331.142 358.886,331.932 361.737,332.713 364.583,333.484 \n",
       "  367.423,334.246 370.258,334.999 373.088,335.742 375.911,336.477 378.728,337.202 381.538,337.919 384.341,338.626 387.137,339.325 389.925,340.016 392.706,340.697 \n",
       "  395.478,341.371 398.242,342.035 400.997,342.692 403.743,343.34 406.48,343.979 409.207,344.611 411.924,345.234 414.631,345.85 417.327,346.458 420.013,347.057 \n",
       "  422.688,347.649 425.351,348.233 428.003,348.81 430.642,349.378 433.27,349.94 435.885,350.493 438.487,351.04 441.077,351.579 443.653,352.111 446.215,352.635 \n",
       "  448.764,353.153 451.298,353.663 453.818,354.166 456.324,354.663 458.814,355.152 461.29,355.635 463.75,356.111 466.194,356.58 468.622,357.042 471.034,357.498 \n",
       "  473.43,357.948 475.809,358.39 478.171,358.827 480.515,359.257 482.842,359.681 485.152,360.098 487.443,360.509 489.716,360.915 491.971,361.314 494.207,361.707 \n",
       "  496.424,362.094 498.622,362.475 500.801,362.85 502.96,363.219 505.099,363.582 507.218,363.94 509.317,364.292 511.395,364.639 513.452,364.979 515.489,365.315 \n",
       "  517.504,365.644 519.498,365.969 521.47,366.287 523.42,366.601 525.349,366.909 527.255,367.212 529.138,367.509 530.999,367.801 532.837,368.089 534.653,368.37 \n",
       "  536.445,368.647 538.213,368.919 539.958,369.186 541.679,369.448 543.376,369.705 545.049,369.957 546.698,370.204 548.322,370.446 549.921,370.683 551.496,370.916 \n",
       "  553.046,371.144 554.57,371.367 556.069,371.586 557.543,371.799 558.991,372.009 560.413,372.213 561.809,372.413 563.179,372.609 564.523,372.8 565.841,372.987 \n",
       "  567.132,373.169 568.396,373.346 569.633,373.52 570.844,373.689 572.027,373.853 573.183,374.014 574.312,374.17 575.414,374.321 576.488,374.469 577.534,374.612 \n",
       "  578.553,374.751 579.543,374.886 580.506,375.016 581.441,375.143 582.347,375.265 583.225,375.383 584.075,375.497 584.896,375.607 585.689,375.713 586.453,375.815 \n",
       "  587.188,375.913 587.895,376.007 588.572,376.097 589.221,376.182 589.841,376.264 590.431,376.342 590.993,376.416 591.525,376.486 592.028,376.552 592.502,376.614 \n",
       "  592.946,376.672 593.361,376.726 593.746,376.777 594.102,376.823 594.429,376.866 594.726,376.904 594.993,376.939 595.231,376.97 595.439,376.997 595.617,377.02 \n",
       "  595.766,377.039 595.885,377.055 595.974,377.066 596.033,377.074 596.063,377.078 \n",
       "  \"/>\n",
       "<polygon clip-path=\"url(#clip00)\" points=\"\n",
       "505.547,55.057 578.063,55.057 578.063,24.817 505.547,24.817 \n",
       "  \" fill=\"#ffffff\" fill-opacity=\"1\"/>\n",
       "<polyline clip-path=\"url(#clip00)\" style=\"stroke:#00002d; stroke-width:0.8; stroke-opacity:1; fill:none\" points=\"\n",
       "  505.547,55.057 578.063,55.057 578.063,24.817 505.547,24.817 505.547,55.057 \n",
       "  \"/>\n",
       "<polyline clip-path=\"url(#clip00)\" style=\"stroke:#0099ff; stroke-width:0.8; stroke-opacity:1; fill:none\" points=\"\n",
       "  511.547,39.937 547.547,39.937 \n",
       "  \"/>\n",
       "<g clip-path=\"url(#clip00)\">\n",
       "<text style=\"fill:#00002d; fill-opacity:1; font-family:Arial,Helvetica Neue,Helvetica,sans-serif; font-size:12; text-anchor:start;\" transform=\"rotate(0, 553.547, 44.437)\" x=\"553.547\" y=\"44.437\">y1</text>\n",
       "</g>\n",
       "</svg>\n"
      ]
     },
     "execution_count": 9,
     "metadata": {},
     "output_type": "execute_result"
    }
   ],
   "source": [
    "S=Legendre()⊕JacobiWeight(0.5,0.,Ultraspherical(1))\n",
    "x=Fun()\n",
    "Q½=LeftIntegral(S,0.5)\n",
    "\n",
    "y=(I+exp(-(1+x)/2)*Q½[exp((1+x)/2)])\\exp(-(1+x)/2)\n",
    "plot(y)"
   ]
  },
  {
   "cell_type": "code",
   "execution_count": 10,
   "metadata": {
    "collapsed": false
   },
   "outputs": [
    {
     "data": {
      "text/plain": [
       "3.3104392104716646e-15"
      ]
     },
     "execution_count": 10,
     "metadata": {},
     "output_type": "execute_result"
    }
   ],
   "source": [
    "norm(y-exp((1+x)/2)*erfc(sqrt(1+x)))"
   ]
  },
  {
   "cell_type": "markdown",
   "metadata": {
    "collapsed": true
   },
   "source": [
    "##### Example 3"
   ]
  },
  {
   "cell_type": "code",
   "execution_count": 6,
   "metadata": {
    "collapsed": false
   },
   "outputs": [
    {
     "data": {
      "text/plain": [
       "Fun([108.858,-62.5187,238.778,-75.7081,225.081,-54.1092,143.599,-28.275,70.0242,-11.7333  …  2.96358e-6,-1.89888e-7,3.76962e-7,-2.28632e-8,4.51165e-8,-2.59741e-9,5.09995e-9,-2.79217e-10,5.51008e-10,-3.0526e-11],⟨Legendre(【-1.0,1.0】),(1+x)^0.5[Ultraspherical(1,【-1.0,1.0】)]⟩)"
      ]
     },
     "execution_count": 6,
     "metadata": {},
     "output_type": "execute_result"
    }
   ],
   "source": [
    "using Plots, ApproxFun, Base.Test\n",
    "    import ApproxFun: ∞, SpaceOperator, ℓ⁰, interlace\n",
    "\n",
    "\n",
    "\n",
    "d=Interval()\n",
    "QP½ = LeftIntegral(0.5)\t: Legendre(d) ↦\tJacobiWeight(0.5,0.,Ultraspherical(1,d))\n",
    "QU½ = LeftIntegral(0.5)\t: JacobiWeight(0.5,0.,Ultraspherical(1,d))\t↦\tLegendre(d)\n",
    "Q½=[0 QU½;\n",
    "    QP½ 0]\n",
    "\n",
    "\n",
    "x=Fun()\n",
    "a,b=erfc(sqrt(1+x))\n",
    "\n",
    "\n",
    "C=Conversion(JacobiWeight(0.5,0.,Legendre()),JacobiWeight(0.5,0.,Ultraspherical(1)))\n",
    "\n",
    "rs = rangespace(Multiplication(a,rangespace(QP½)))\n",
    "M = [\n",
    "     Multiplication(b,rangespace(QU½)) Conversion(rs,Ultraspherical(1),Legendre())*Multiplication(a,rangespace(QP½));\n",
    "     C*Multiplication(a,rangespace(QU½)) Multiplication(b,rangespace(QP½));\n",
    "     ]\n",
    "\n",
    "\n",
    "L=I+interlace(M)*interlace(Q½)\n",
    "\n",
    "\n",
    "n=20*2;u=L[1:n,1:n]\\[1;zeros(n-1)]\n",
    "v=Fun(u,domainspace(L))\n",
    "\n"
   ]
  },
  {
   "cell_type": "code",
   "execution_count": 8,
   "metadata": {
    "collapsed": false
   },
   "outputs": [
    {
     "data": {
      "text/html": [
       "<?xml version=\"1.0\" encoding=\"utf-8\"?>\n",
       "<svg xmlns=\"http://www.w3.org/2000/svg\" xmlns:xlink=\"http://www.w3.org/1999/xlink\" width=\"600\" height=\"400\" viewBox=\"0 0 600 400\">\n",
       "<defs>\n",
       "  <clipPath id=\"clip00\">\n",
       "    <rect x=\"0\" y=\"0\" width=\"600\" height=\"400\"/>\n",
       "  </clipPath>\n",
       "</defs>\n",
       "<polygon clip-path=\"url(#clip00)\" points=\"\n",
       "0,400 600,400 600,0 0,0 \n",
       "  \" fill=\"#ffffff\" fill-opacity=\"1\"/>\n",
       "<defs>\n",
       "  <clipPath id=\"clip01\">\n",
       "    <rect x=\"120\" y=\"0\" width=\"421\" height=\"400\"/>\n",
       "  </clipPath>\n",
       "</defs>\n",
       "<polygon clip-path=\"url(#clip00)\" points=\"\n",
       "35.4331,377.078 596.063,377.078 596.063,3.93701 35.4331,3.93701 \n",
       "  \" fill=\"#ffffff\" fill-opacity=\"1\"/>\n",
       "<defs>\n",
       "  <clipPath id=\"clip02\">\n",
       "    <rect x=\"35\" y=\"3\" width=\"561\" height=\"374\"/>\n",
       "  </clipPath>\n",
       "</defs>\n",
       "<polyline clip-path=\"url(#clip02)\" style=\"stroke:#00002d; stroke-width:0.8; stroke-opacity:0.5; fill:none\" stroke-dasharray=\"1, 2\" points=\"\n",
       "  175.585,371.481 175.585,9.53412 \n",
       "  \"/>\n",
       "<polyline clip-path=\"url(#clip02)\" style=\"stroke:#00002d; stroke-width:0.8; stroke-opacity:0.5; fill:none\" stroke-dasharray=\"1, 2\" points=\"\n",
       "  315.748,371.481 315.748,9.53412 \n",
       "  \"/>\n",
       "<polyline clip-path=\"url(#clip02)\" style=\"stroke:#00002d; stroke-width:0.8; stroke-opacity:0.5; fill:none\" stroke-dasharray=\"1, 2\" points=\"\n",
       "  455.911,371.481 455.911,9.53412 \n",
       "  \"/>\n",
       "<polyline clip-path=\"url(#clip02)\" style=\"stroke:#00002d; stroke-width:0.8; stroke-opacity:0.5; fill:none\" stroke-dasharray=\"1, 2\" points=\"\n",
       "  43.8425,347.402 587.654,347.402 \n",
       "  \"/>\n",
       "<polyline clip-path=\"url(#clip02)\" style=\"stroke:#00002d; stroke-width:0.8; stroke-opacity:0.5; fill:none\" stroke-dasharray=\"1, 2\" points=\"\n",
       "  43.8425,258.352 587.654,258.352 \n",
       "  \"/>\n",
       "<polyline clip-path=\"url(#clip02)\" style=\"stroke:#00002d; stroke-width:0.8; stroke-opacity:0.5; fill:none\" stroke-dasharray=\"1, 2\" points=\"\n",
       "  43.8425,169.301 587.654,169.301 \n",
       "  \"/>\n",
       "<polyline clip-path=\"url(#clip02)\" style=\"stroke:#00002d; stroke-width:0.8; stroke-opacity:0.5; fill:none\" stroke-dasharray=\"1, 2\" points=\"\n",
       "  43.8425,80.2504 587.654,80.2504 \n",
       "  \"/>\n",
       "<polyline clip-path=\"url(#clip02)\" style=\"stroke:#00002d; stroke-width:0.8; stroke-opacity:1; fill:none\" points=\"\n",
       "  35.4331,377.078 596.063,377.078 \n",
       "  \"/>\n",
       "<polyline clip-path=\"url(#clip02)\" style=\"stroke:#00002d; stroke-width:0.8; stroke-opacity:1; fill:none\" points=\"\n",
       "  35.4331,3.93701 596.063,3.93701 \n",
       "  \"/>\n",
       "<polyline clip-path=\"url(#clip02)\" style=\"stroke:#00002d; stroke-width:0.8; stroke-opacity:1; fill:none\" points=\"\n",
       "  175.585,377.078 175.585,371.481 \n",
       "  \"/>\n",
       "<polyline clip-path=\"url(#clip02)\" style=\"stroke:#00002d; stroke-width:0.8; stroke-opacity:1; fill:none\" points=\"\n",
       "  175.585,3.93701 175.585,9.53412 \n",
       "  \"/>\n",
       "<polyline clip-path=\"url(#clip02)\" style=\"stroke:#00002d; stroke-width:0.8; stroke-opacity:1; fill:none\" points=\"\n",
       "  315.748,377.078 315.748,371.481 \n",
       "  \"/>\n",
       "<polyline clip-path=\"url(#clip02)\" style=\"stroke:#00002d; stroke-width:0.8; stroke-opacity:1; fill:none\" points=\"\n",
       "  315.748,3.93701 315.748,9.53412 \n",
       "  \"/>\n",
       "<polyline clip-path=\"url(#clip02)\" style=\"stroke:#00002d; stroke-width:0.8; stroke-opacity:1; fill:none\" points=\"\n",
       "  455.911,377.078 455.911,371.481 \n",
       "  \"/>\n",
       "<polyline clip-path=\"url(#clip02)\" style=\"stroke:#00002d; stroke-width:0.8; stroke-opacity:1; fill:none\" points=\"\n",
       "  455.911,3.93701 455.911,9.53412 \n",
       "  \"/>\n",
       "<polyline clip-path=\"url(#clip02)\" style=\"stroke:#00002d; stroke-width:0.8; stroke-opacity:1; fill:none\" points=\"\n",
       "  35.4331,377.078 35.4331,3.93701 \n",
       "  \"/>\n",
       "<polyline clip-path=\"url(#clip02)\" style=\"stroke:#00002d; stroke-width:0.8; stroke-opacity:1; fill:none\" points=\"\n",
       "  596.063,377.078 596.063,3.93701 \n",
       "  \"/>\n",
       "<polyline clip-path=\"url(#clip02)\" style=\"stroke:#00002d; stroke-width:0.8; stroke-opacity:1; fill:none\" points=\"\n",
       "  35.4331,347.402 43.8425,347.402 \n",
       "  \"/>\n",
       "<polyline clip-path=\"url(#clip02)\" style=\"stroke:#00002d; stroke-width:0.8; stroke-opacity:1; fill:none\" points=\"\n",
       "  596.063,347.402 587.654,347.402 \n",
       "  \"/>\n",
       "<polyline clip-path=\"url(#clip02)\" style=\"stroke:#00002d; stroke-width:0.8; stroke-opacity:1; fill:none\" points=\"\n",
       "  35.4331,258.352 43.8425,258.352 \n",
       "  \"/>\n",
       "<polyline clip-path=\"url(#clip02)\" style=\"stroke:#00002d; stroke-width:0.8; stroke-opacity:1; fill:none\" points=\"\n",
       "  596.063,258.352 587.654,258.352 \n",
       "  \"/>\n",
       "<polyline clip-path=\"url(#clip02)\" style=\"stroke:#00002d; stroke-width:0.8; stroke-opacity:1; fill:none\" points=\"\n",
       "  35.4331,169.301 43.8425,169.301 \n",
       "  \"/>\n",
       "<polyline clip-path=\"url(#clip02)\" style=\"stroke:#00002d; stroke-width:0.8; stroke-opacity:1; fill:none\" points=\"\n",
       "  596.063,169.301 587.654,169.301 \n",
       "  \"/>\n",
       "<polyline clip-path=\"url(#clip02)\" style=\"stroke:#00002d; stroke-width:0.8; stroke-opacity:1; fill:none\" points=\"\n",
       "  35.4331,80.2504 43.8425,80.2504 \n",
       "  \"/>\n",
       "<polyline clip-path=\"url(#clip02)\" style=\"stroke:#00002d; stroke-width:0.8; stroke-opacity:1; fill:none\" points=\"\n",
       "  596.063,80.2504 587.654,80.2504 \n",
       "  \"/>\n",
       "<g clip-path=\"url(#clip00)\">\n",
       "<text style=\"fill:#00002d; fill-opacity:1; font-family:Arial,Helvetica Neue,Helvetica,sans-serif; font-size:12; text-anchor:middle;\" transform=\"rotate(0, 175.585, 393.878)\" x=\"175.585\" y=\"393.878\">-0.5</text>\n",
       "</g>\n",
       "<g clip-path=\"url(#clip00)\">\n",
       "<text style=\"fill:#00002d; fill-opacity:1; font-family:Arial,Helvetica Neue,Helvetica,sans-serif; font-size:12; text-anchor:middle;\" transform=\"rotate(0, 315.748, 393.878)\" x=\"315.748\" y=\"393.878\">0.0</text>\n",
       "</g>\n",
       "<g clip-path=\"url(#clip00)\">\n",
       "<text style=\"fill:#00002d; fill-opacity:1; font-family:Arial,Helvetica Neue,Helvetica,sans-serif; font-size:12; text-anchor:middle;\" transform=\"rotate(0, 455.911, 393.878)\" x=\"455.911\" y=\"393.878\">0.5</text>\n",
       "</g>\n",
       "<g clip-path=\"url(#clip00)\">\n",
       "<text style=\"fill:#00002d; fill-opacity:1; font-family:Arial,Helvetica Neue,Helvetica,sans-serif; font-size:12; text-anchor:end;\" transform=\"rotate(0, 29.4331, 351.902)\" x=\"29.4331\" y=\"351.902\">0.80</text>\n",
       "</g>\n",
       "<g clip-path=\"url(#clip00)\">\n",
       "<text style=\"fill:#00002d; fill-opacity:1; font-family:Arial,Helvetica Neue,Helvetica,sans-serif; font-size:12; text-anchor:end;\" transform=\"rotate(0, 29.4331, 262.852)\" x=\"29.4331\" y=\"262.852\">0.85</text>\n",
       "</g>\n",
       "<g clip-path=\"url(#clip00)\">\n",
       "<text style=\"fill:#00002d; fill-opacity:1; font-family:Arial,Helvetica Neue,Helvetica,sans-serif; font-size:12; text-anchor:end;\" transform=\"rotate(0, 29.4331, 173.801)\" x=\"29.4331\" y=\"173.801\">0.90</text>\n",
       "</g>\n",
       "<g clip-path=\"url(#clip00)\">\n",
       "<text style=\"fill:#00002d; fill-opacity:1; font-family:Arial,Helvetica Neue,Helvetica,sans-serif; font-size:12; text-anchor:end;\" transform=\"rotate(0, 29.4331, 84.7504)\" x=\"29.4331\" y=\"84.7504\">0.95</text>\n",
       "</g>\n",
       "<polyline clip-path=\"url(#clip02)\" style=\"stroke:#0099ff; stroke-width:0.8; stroke-opacity:1; fill:none\" points=\"\n",
       "  35.4331,3.93701 35.5255,28.4402 35.7103,51.6973 35.9875,73.7639 36.357,94.6926 36.8185,114.533 37.3721,133.333 38.0174,151.136 38.7544,167.986 39.5826,183.922 \n",
       "  40.502,198.983 41.5121,213.205 42.6126,226.622 43.8032,239.269 45.0835,251.175 46.453,262.371 47.9114,272.886 49.458,282.745 51.0925,291.977 52.8143,300.605 \n",
       "  54.6227,308.653 56.5173,316.143 58.4973,323.098 60.5622,329.539 62.7112,335.485 64.9436,340.956 67.2588,345.97 69.6559,350.545 72.1342,354.698 74.6928,358.445 \n",
       "  77.3308,361.803 80.0475,364.787 82.842,367.411 85.7132,369.689 88.6603,371.637 91.6822,373.266 94.7781,374.59 97.9468,375.621 101.187,376.372 104.499,376.854 \n",
       "  107.88,377.078 111.329,377.056 114.846,376.798 118.429,376.315 122.077,375.617 125.79,374.713 129.564,373.614 133.4,372.328 137.297,370.865 141.252,369.234 \n",
       "  145.264,367.442 149.333,365.499 153.457,363.412 157.634,361.189 161.864,358.838 166.144,356.366 170.473,353.781 174.851,351.09 179.274,348.299 183.743,345.415 \n",
       "  188.256,342.445 192.81,339.395 197.405,336.271 202.039,333.078 206.711,329.823 211.418,326.511 216.16,323.148 220.935,319.738 225.74,316.287 230.576,312.8 \n",
       "  235.44,309.281 240.33,305.735 245.245,302.165 250.183,298.578 255.143,294.975 260.123,291.362 265.121,287.742 270.136,284.118 275.166,280.495 280.21,276.875 \n",
       "  285.265,273.261 290.33,269.657 295.404,266.066 300.484,262.489 305.569,258.93 310.658,255.392 315.748,251.875 320.838,248.384 325.927,244.919 331.012,241.484 \n",
       "  336.092,238.078 341.166,234.706 346.231,231.367 351.286,228.064 356.33,224.797 361.36,221.569 366.375,218.381 371.373,215.233 376.353,212.127 381.313,209.064 \n",
       "  386.251,206.044 391.166,203.068 396.056,200.138 400.92,197.253 405.756,194.414 410.562,191.622 415.336,188.877 420.078,186.179 424.786,183.529 429.457,180.928 \n",
       "  434.091,178.374 438.686,175.869 443.24,173.413 447.753,171.005 452.222,168.645 456.645,166.334 461.023,164.071 465.352,161.857 469.632,159.691 473.862,157.573 \n",
       "  478.039,155.503 482.163,153.48 486.232,151.505 490.244,149.577 494.199,147.695 498.096,145.86 501.932,144.071 505.707,142.328 509.419,140.631 513.067,138.978 \n",
       "  516.65,137.371 520.167,135.808 523.616,134.288 526.997,132.812 530.309,131.38 533.549,129.99 536.718,128.643 539.814,127.338 542.836,126.074 545.783,124.851 \n",
       "  548.654,123.67 551.449,122.528 554.165,121.427 556.803,120.366 559.362,119.343 561.84,118.36 564.237,117.415 566.552,116.509 568.785,115.64 570.934,114.809 \n",
       "  572.999,114.014 574.979,113.257 576.873,112.537 578.682,111.852 580.404,111.204 582.038,110.592 583.585,110.015 585.043,109.473 586.413,108.966 587.693,108.494 \n",
       "  588.883,108.056 589.984,107.653 590.994,107.284 591.913,106.95 592.742,106.649 593.479,106.382 594.124,106.148 594.678,105.948 595.139,105.782 595.509,105.649 \n",
       "  595.786,105.549 595.971,105.483 596.063,105.449 \n",
       "  \"/>\n",
       "<polygon clip-path=\"url(#clip00)\" points=\"\n",
       "505.547,55.057 578.063,55.057 578.063,24.817 505.547,24.817 \n",
       "  \" fill=\"#ffffff\" fill-opacity=\"1\"/>\n",
       "<polyline clip-path=\"url(#clip00)\" style=\"stroke:#00002d; stroke-width:0.8; stroke-opacity:1; fill:none\" points=\"\n",
       "  505.547,55.057 578.063,55.057 578.063,24.817 505.547,24.817 505.547,55.057 \n",
       "  \"/>\n",
       "<polyline clip-path=\"url(#clip00)\" style=\"stroke:#0099ff; stroke-width:0.8; stroke-opacity:1; fill:none\" points=\"\n",
       "  511.547,39.937 547.547,39.937 \n",
       "  \"/>\n",
       "<g clip-path=\"url(#clip00)\">\n",
       "<text style=\"fill:#00002d; fill-opacity:1; font-family:Arial,Helvetica Neue,Helvetica,sans-serif; font-size:12; text-anchor:start;\" transform=\"rotate(0, 553.547, 44.437)\" x=\"553.547\" y=\"44.437\">y1</text>\n",
       "</g>\n",
       "</svg>\n"
      ]
     },
     "execution_count": 8,
     "metadata": {},
     "output_type": "execute_result"
    }
   ],
   "source": [
    "plot(v[1]+v[2])"
   ]
  },
  {
   "cell_type": "code",
   "execution_count": 9,
   "metadata": {
    "collapsed": false
   },
   "outputs": [
    {
     "data": {
      "text/plain": [
       "20-element Array{Float64,1}:\n",
       " 108.858      \n",
       " 238.778      \n",
       " 225.081      \n",
       " 143.599      \n",
       "  70.0242     \n",
       "  27.7061     \n",
       "   9.22544    \n",
       "   2.65071    \n",
       "   0.669447   \n",
       "   0.150743   \n",
       "   0.03061    \n",
       "   0.0056577  \n",
       "   0.000959287\n",
       "   0.000150195\n",
       "   2.18389e-5 \n",
       "   2.96358e-6 \n",
       "   3.76962e-7 \n",
       "   4.51165e-8 \n",
       "   5.09995e-9 \n",
       "   5.51008e-10"
      ]
     },
     "execution_count": 9,
     "metadata": {},
     "output_type": "execute_result"
    }
   ],
   "source": [
    "v[1].coefficients"
   ]
  },
  {
   "cell_type": "code",
   "execution_count": 10,
   "metadata": {
    "collapsed": false
   },
   "outputs": [
    {
     "data": {
      "text/plain": [
       "20-element Array{Float64,1}:\n",
       " -62.5187     \n",
       " -75.7081     \n",
       " -54.1092     \n",
       " -28.275      \n",
       " -11.7333     \n",
       "  -4.04682    \n",
       "  -1.19491    \n",
       "  -0.308449   \n",
       "  -0.0707148  \n",
       "  -0.0145774  \n",
       "  -0.00272914 \n",
       "  -0.000467881\n",
       "  -7.39648e-5 \n",
       "  -1.08461e-5 \n",
       "  -1.48291e-6 \n",
       "  -1.89888e-7 \n",
       "  -2.28632e-8 \n",
       "  -2.59741e-9 \n",
       "  -2.79217e-10\n",
       "  -3.0526e-11 "
      ]
     },
     "execution_count": 10,
     "metadata": {},
     "output_type": "execute_result"
    }
   ],
   "source": [
    "v[2].coefficients"
   ]
  },
  {
   "cell_type": "code",
   "execution_count": 11,
   "metadata": {
    "collapsed": false
   },
   "outputs": [
    {
     "data": {
      "text/plain": [
       "Fun([108.85844682834467,238.7781994648785,225.0814463418578,143.59900213306486,70.02422328310278,27.706133486486113,9.22544089392072,2.6507065960729843,0.6694465961802115,0.1507428299149822,0.03060996726716989,0.00565770328991432,0.0009592865095086634,0.00015019524770949454,2.1838908676944978e-5,2.9635846492466183e-6,3.769621881052177e-7,4.511646816385648e-8,5.099945648621898e-9,5.510082963108763e-10],Legendre(【-1.0,1.0】))"
      ]
     },
     "execution_count": 11,
     "metadata": {},
     "output_type": "execute_result"
    }
   ],
   "source": [
    "v[1]"
   ]
  },
  {
   "cell_type": "code",
   "execution_count": 12,
   "metadata": {
    "collapsed": false
   },
   "outputs": [
    {
     "data": {
      "text/plain": [
       "Fun([-62.51874335243028,-75.70814589821944,-54.10922630820244,-28.274970788253807,-11.733282024406732,-4.046819391154632,-1.194905477352525,-0.30844936300622067,-0.07071479335130591,-0.014577376539648123,-0.0027291432115348286,-0.0004678809993183432,-7.396481131532169e-5,-1.0846132649017495e-5,-1.4829128033521368e-6,-1.898875910771246e-7,-2.286319794762946e-8,-2.5974051815549875e-9,-2.7921708393779073e-10,-3.052597336043704e-11],(1+x)^0.5[Ultraspherical(1,【-1.0,1.0】)])"
      ]
     },
     "execution_count": 12,
     "metadata": {},
     "output_type": "execute_result"
    }
   ],
   "source": [
    "v[2]"
   ]
  },
  {
   "cell_type": "code",
   "execution_count": null,
   "metadata": {
    "collapsed": true
   },
   "outputs": [],
   "source": []
  }
 ],
 "metadata": {
  "kernelspec": {
   "display_name": "Julia 0.4.6",
   "language": "julia",
   "name": "julia-0.4"
  },
  "language_info": {
   "file_extension": ".jl",
   "mimetype": "application/julia",
   "name": "julia",
   "version": "0.4.6"
  }
 },
 "nbformat": 4,
 "nbformat_minor": 0
}
