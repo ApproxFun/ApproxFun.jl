{
 "cells": [
  {
   "cell_type": "code",
   "execution_count": 1,
   "metadata": {
    "collapsed": false,
    "deletable": true,
    "editable": true
   },
   "outputs": [],
   "source": [
    "using Plots, ApproxFun"
   ]
  },
  {
   "cell_type": "markdown",
   "metadata": {
    "deletable": true,
    "editable": true
   },
   "source": [
    "We demonstrate numerical solution of the examples in [Hale & Olver 2016]:\n",
    "\n",
    "##### Example 1\n",
    "\n",
    "$$y(x) + {}_{-1} {\\cal Q}_x^{1/2} y(x) = 1$$"
   ]
  },
  {
   "cell_type": "code",
   "execution_count": 2,
   "metadata": {
    "collapsed": false,
    "deletable": true,
    "editable": true
   },
   "outputs": [
    {
     "data": {
      "text/html": [
       "<?xml version=\"1.0\" encoding=\"utf-8\"?>\n",
       "<svg xmlns=\"http://www.w3.org/2000/svg\" xmlns:xlink=\"http://www.w3.org/1999/xlink\" width=\"600\" height=\"400\" viewBox=\"0 0 600 400\">\n",
       "<defs>\n",
       "  <clipPath id=\"clip00\">\n",
       "    <rect x=\"0\" y=\"0\" width=\"600\" height=\"400\"/>\n",
       "  </clipPath>\n",
       "</defs>\n",
       "<polygon clip-path=\"url(#clip00)\" points=\"\n",
       "0,400 600,400 600,0 0,0 \n",
       "  \" fill=\"#ffffff\" fill-opacity=\"1\"/>\n",
       "<defs>\n",
       "  <clipPath id=\"clip01\">\n",
       "    <rect x=\"120\" y=\"0\" width=\"421\" height=\"400\"/>\n",
       "  </clipPath>\n",
       "</defs>\n",
       "<polygon clip-path=\"url(#clip00)\" points=\"\n",
       "39.4926,384.952 596.063,384.952 596.063,3.93701 39.4926,3.93701 \n",
       "  \" fill=\"#ffffff\" fill-opacity=\"1\"/>\n",
       "<defs>\n",
       "  <clipPath id=\"clip02\">\n",
       "    <rect x=\"39\" y=\"3\" width=\"557\" height=\"382\"/>\n",
       "  </clipPath>\n",
       "</defs>\n",
       "<polyline clip-path=\"url(#clip02)\" style=\"stroke:#00002d; stroke-width:0.8; stroke-opacity:0.5; fill:none\" stroke-dasharray=\"1, 2\" points=\"\n",
       "  178.628,379.237 178.628,9.65223 \n",
       "  \"/>\n",
       "<polyline clip-path=\"url(#clip02)\" style=\"stroke:#00002d; stroke-width:0.8; stroke-opacity:0.5; fill:none\" stroke-dasharray=\"1, 2\" points=\"\n",
       "  317.778,379.237 317.778,9.65223 \n",
       "  \"/>\n",
       "<polyline clip-path=\"url(#clip02)\" style=\"stroke:#00002d; stroke-width:0.8; stroke-opacity:0.5; fill:none\" stroke-dasharray=\"1, 2\" points=\"\n",
       "  456.928,379.237 456.928,9.65223 \n",
       "  \"/>\n",
       "<polyline clip-path=\"url(#clip02)\" style=\"stroke:#00002d; stroke-width:0.8; stroke-opacity:0.5; fill:none\" stroke-dasharray=\"1, 2\" points=\"\n",
       "  47.8411,289.761 587.714,289.761 \n",
       "  \"/>\n",
       "<polyline clip-path=\"url(#clip02)\" style=\"stroke:#00002d; stroke-width:0.8; stroke-opacity:0.5; fill:none\" stroke-dasharray=\"1, 2\" points=\"\n",
       "  47.8411,144.468 587.714,144.468 \n",
       "  \"/>\n",
       "<polyline clip-path=\"url(#clip02)\" style=\"stroke:#00002d; stroke-width:0.8; stroke-opacity:1; fill:none\" points=\"\n",
       "  39.4926,384.952 596.063,384.952 \n",
       "  \"/>\n",
       "<polyline clip-path=\"url(#clip02)\" style=\"stroke:#00002d; stroke-width:0.8; stroke-opacity:1; fill:none\" points=\"\n",
       "  178.628,384.952 178.628,379.237 \n",
       "  \"/>\n",
       "<polyline clip-path=\"url(#clip02)\" style=\"stroke:#00002d; stroke-width:0.8; stroke-opacity:1; fill:none\" points=\"\n",
       "  317.778,384.952 317.778,379.237 \n",
       "  \"/>\n",
       "<polyline clip-path=\"url(#clip02)\" style=\"stroke:#00002d; stroke-width:0.8; stroke-opacity:1; fill:none\" points=\"\n",
       "  456.928,384.952 456.928,379.237 \n",
       "  \"/>\n",
       "<polyline clip-path=\"url(#clip02)\" style=\"stroke:#00002d; stroke-width:0.8; stroke-opacity:1; fill:none\" points=\"\n",
       "  39.4926,384.952 39.4926,3.93701 \n",
       "  \"/>\n",
       "<polyline clip-path=\"url(#clip02)\" style=\"stroke:#00002d; stroke-width:0.8; stroke-opacity:1; fill:none\" points=\"\n",
       "  39.4926,289.761 47.8411,289.761 \n",
       "  \"/>\n",
       "<polyline clip-path=\"url(#clip02)\" style=\"stroke:#00002d; stroke-width:0.8; stroke-opacity:1; fill:none\" points=\"\n",
       "  39.4926,144.468 47.8411,144.468 \n",
       "  \"/>\n",
       "<g clip-path=\"url(#clip00)\">\n",
       "<text style=\"fill:#00002d; fill-opacity:1; font-family:Arial,Helvetica Neue,Helvetica,sans-serif; font-size:12; text-anchor:middle;\" transform=\"rotate(0, 178.628, 396.952)\" x=\"178.628\" y=\"396.952\">-0.5</text>\n",
       "</g>\n",
       "<g clip-path=\"url(#clip00)\">\n",
       "<text style=\"fill:#00002d; fill-opacity:1; font-family:Arial,Helvetica Neue,Helvetica,sans-serif; font-size:12; text-anchor:middle;\" transform=\"rotate(0, 317.778, 396.952)\" x=\"317.778\" y=\"396.952\">0.0</text>\n",
       "</g>\n",
       "<g clip-path=\"url(#clip00)\">\n",
       "<text style=\"fill:#00002d; fill-opacity:1; font-family:Arial,Helvetica Neue,Helvetica,sans-serif; font-size:12; text-anchor:middle;\" transform=\"rotate(0, 456.928, 396.952)\" x=\"456.928\" y=\"396.952\">0.5</text>\n",
       "</g>\n",
       "<g clip-path=\"url(#clip00)\">\n",
       "<text style=\"fill:#00002d; fill-opacity:1; font-family:Arial,Helvetica Neue,Helvetica,sans-serif; font-size:12; text-anchor:end;\" transform=\"rotate(0, 38.2926, 294.261)\" x=\"38.2926\" y=\"294.261\">0.50</text>\n",
       "</g>\n",
       "<g clip-path=\"url(#clip00)\">\n",
       "<text style=\"fill:#00002d; fill-opacity:1; font-family:Arial,Helvetica Neue,Helvetica,sans-serif; font-size:12; text-anchor:end;\" transform=\"rotate(0, 38.2926, 148.968)\" x=\"38.2926\" y=\"148.968\">0.75</text>\n",
       "</g>\n",
       "<polyline clip-path=\"url(#clip02)\" style=\"stroke:#0099ff; stroke-width:0.8; stroke-opacity:1; fill:none\" points=\"\n",
       "  596.063,384.952 595.944,384.936 595.706,384.905 595.35,384.858 594.875,384.796 594.282,384.718 593.57,384.624 592.741,384.515 591.794,384.39 590.73,384.249 \n",
       "  589.55,384.093 588.254,383.92 586.842,383.732 585.315,383.527 583.673,383.307 581.919,383.07 580.051,382.818 578.071,382.549 575.98,382.263 573.779,381.961 \n",
       "  571.469,381.643 569.05,381.308 566.524,380.956 563.891,380.587 561.154,380.201 558.312,379.798 555.368,379.378 552.322,378.94 549.176,378.485 545.931,378.012 \n",
       "  542.589,377.521 539.15,377.012 535.617,376.484 531.992,375.939 528.274,375.374 524.467,374.791 520.571,374.189 516.589,373.567 512.522,372.926 508.371,372.265 \n",
       "  504.139,371.585 499.828,370.884 495.439,370.163 490.974,369.421 486.435,368.658 481.823,367.874 477.142,367.068 472.393,366.241 467.578,365.391 462.698,364.519 \n",
       "  457.757,363.624 452.756,362.706 447.698,361.765 442.583,360.8 437.416,359.81 432.197,358.797 426.93,357.758 421.616,356.693 416.257,355.604 410.857,354.487 \n",
       "  405.417,353.345 399.939,352.175 394.426,350.977 388.881,349.752 383.305,348.498 377.701,347.215 372.071,345.902 366.419,344.559 360.745,343.186 355.053,341.781 \n",
       "  349.346,340.345 343.625,338.876 337.892,337.374 332.151,335.838 326.404,334.268 320.654,332.663 314.902,331.022 309.151,329.344 303.404,327.63 297.663,325.877 \n",
       "  291.931,324.086 286.21,322.255 280.502,320.383 274.81,318.47 269.137,316.516 263.484,314.517 257.855,312.475 252.251,310.388 246.675,308.255 241.129,306.075 \n",
       "  235.617,303.847 230.139,301.569 224.699,299.242 219.298,296.862 213.94,294.431 208.626,291.945 203.358,289.404 198.14,286.807 192.972,284.152 187.858,281.437 \n",
       "  182.799,278.662 177.798,275.826 172.857,272.925 167.978,269.959 163.163,266.927 158.413,263.826 153.732,260.656 149.121,257.413 144.582,254.097 140.117,250.705 \n",
       "  135.728,247.236 131.416,243.687 127.184,240.057 123.034,236.343 118.967,232.543 114.985,228.656 111.089,224.678 107.281,220.608 103.564,216.442 99.9381,212.179 \n",
       "  96.4052,207.815 92.9669,203.349 89.6246,198.777 86.3797,194.096 83.2337,189.303 80.1879,184.396 77.2436,179.371 74.402,174.226 71.6644,168.955 69.032,163.557 \n",
       "  66.5057,158.028 64.0869,152.364 61.7763,146.561 59.5752,140.615 57.4843,134.523 55.5046,128.28 53.637,121.881 51.8822,115.323 50.241,108.601 48.714,101.711 \n",
       "  47.302,94.6463 46.0055,87.4033 44.8252,79.9766 43.7614,72.3609 42.8146,64.5507 41.9854,56.5403 41.2739,48.3239 40.6805,39.8957 40.2056,31.2493 39.8491,22.3785 \n",
       "  39.6114,13.2766 39.4926,3.93701 \n",
       "  \"/>\n",
       "<polygon clip-path=\"url(#clip00)\" points=\"\n",
       "505.547,55.057 578.063,55.057 578.063,24.817 505.547,24.817 \n",
       "  \" fill=\"#ffffff\" fill-opacity=\"1\"/>\n",
       "<polyline clip-path=\"url(#clip00)\" style=\"stroke:#00002d; stroke-width:0.8; stroke-opacity:1; fill:none\" points=\"\n",
       "  505.547,55.057 578.063,55.057 578.063,24.817 505.547,24.817 505.547,55.057 \n",
       "  \"/>\n",
       "<polyline clip-path=\"url(#clip00)\" style=\"stroke:#0099ff; stroke-width:0.8; stroke-opacity:1; fill:none\" points=\"\n",
       "  511.547,39.937 547.547,39.937 \n",
       "  \"/>\n",
       "<g clip-path=\"url(#clip00)\">\n",
       "<text style=\"fill:#00002d; fill-opacity:1; font-family:Arial,Helvetica Neue,Helvetica,sans-serif; font-size:12; text-anchor:start;\" transform=\"rotate(0, 553.547, 44.437)\" x=\"553.547\" y=\"44.437\">y1</text>\n",
       "</g>\n",
       "</svg>\n"
      ]
     },
     "execution_count": 2,
     "metadata": {},
     "output_type": "execute_result"
    }
   ],
   "source": [
    "S  = Legendre() ⊕ JacobiWeight(0.5,0.,Ultraspherical(1))\n",
    "Q½ = LeftIntegral(S,0.5)\n",
    "\n",
    "y = (I+Q½)\\1\n",
    "plot(y)"
   ]
  },
  {
   "cell_type": "markdown",
   "metadata": {
    "deletable": true,
    "editable": true
   },
   "source": [
    "We can compare with the exact solution:"
   ]
  },
  {
   "cell_type": "code",
   "execution_count": 3,
   "metadata": {
    "collapsed": false,
    "deletable": true,
    "editable": true
   },
   "outputs": [
    {
     "data": {
      "text/plain": [
       "4.468422474190299e-15"
      ]
     },
     "execution_count": 3,
     "metadata": {},
     "output_type": "execute_result"
    }
   ],
   "source": [
    "x=Fun()\n",
    "norm(exp(1+x)*erfc(sqrt(1+x))-y)"
   ]
  },
  {
   "cell_type": "markdown",
   "metadata": {
    "deletable": true,
    "editable": true
   },
   "source": [
    "##### Example 2\n",
    "\n",
    "$$y + e^{-{1+x \\over 2}} {}_{-1}Q_x^{1/2}[e^{1+x \\over 2} y] = e^{-{1+x \\over 2}}$$"
   ]
  },
  {
   "cell_type": "code",
   "execution_count": 4,
   "metadata": {
    "collapsed": false,
    "deletable": true,
    "editable": true
   },
   "outputs": [
    {
     "data": {
      "text/html": [
       "<?xml version=\"1.0\" encoding=\"utf-8\"?>\n",
       "<svg xmlns=\"http://www.w3.org/2000/svg\" xmlns:xlink=\"http://www.w3.org/1999/xlink\" width=\"600\" height=\"400\" viewBox=\"0 0 600 400\">\n",
       "<defs>\n",
       "  <clipPath id=\"clip00\">\n",
       "    <rect x=\"0\" y=\"0\" width=\"600\" height=\"400\"/>\n",
       "  </clipPath>\n",
       "</defs>\n",
       "<polygon clip-path=\"url(#clip00)\" points=\"\n",
       "0,400 600,400 600,0 0,0 \n",
       "  \" fill=\"#ffffff\" fill-opacity=\"1\"/>\n",
       "<defs>\n",
       "  <clipPath id=\"clip01\">\n",
       "    <rect x=\"120\" y=\"0\" width=\"421\" height=\"400\"/>\n",
       "  </clipPath>\n",
       "</defs>\n",
       "<polygon clip-path=\"url(#clip00)\" points=\"\n",
       "39.4926,384.952 596.063,384.952 596.063,3.93701 39.4926,3.93701 \n",
       "  \" fill=\"#ffffff\" fill-opacity=\"1\"/>\n",
       "<defs>\n",
       "  <clipPath id=\"clip02\">\n",
       "    <rect x=\"39\" y=\"3\" width=\"557\" height=\"382\"/>\n",
       "  </clipPath>\n",
       "</defs>\n",
       "<polyline clip-path=\"url(#clip02)\" style=\"stroke:#00002d; stroke-width:0.8; stroke-opacity:0.5; fill:none\" stroke-dasharray=\"1, 2\" points=\"\n",
       "  178.633,379.237 178.633,9.65223 \n",
       "  \"/>\n",
       "<polyline clip-path=\"url(#clip02)\" style=\"stroke:#00002d; stroke-width:0.8; stroke-opacity:0.5; fill:none\" stroke-dasharray=\"1, 2\" points=\"\n",
       "  317.778,379.237 317.778,9.65223 \n",
       "  \"/>\n",
       "<polyline clip-path=\"url(#clip02)\" style=\"stroke:#00002d; stroke-width:0.8; stroke-opacity:0.5; fill:none\" stroke-dasharray=\"1, 2\" points=\"\n",
       "  456.922,379.237 456.922,9.65223 \n",
       "  \"/>\n",
       "<polyline clip-path=\"url(#clip02)\" style=\"stroke:#00002d; stroke-width:0.8; stroke-opacity:0.5; fill:none\" stroke-dasharray=\"1, 2\" points=\"\n",
       "  47.8411,329.772 587.714,329.772 \n",
       "  \"/>\n",
       "<polyline clip-path=\"url(#clip02)\" style=\"stroke:#00002d; stroke-width:0.8; stroke-opacity:0.5; fill:none\" stroke-dasharray=\"1, 2\" points=\"\n",
       "  47.8411,220.563 587.714,220.563 \n",
       "  \"/>\n",
       "<polyline clip-path=\"url(#clip02)\" style=\"stroke:#00002d; stroke-width:0.8; stroke-opacity:0.5; fill:none\" stroke-dasharray=\"1, 2\" points=\"\n",
       "  47.8411,111.354 587.714,111.354 \n",
       "  \"/>\n",
       "<polyline clip-path=\"url(#clip02)\" style=\"stroke:#00002d; stroke-width:0.8; stroke-opacity:1; fill:none\" points=\"\n",
       "  39.4926,384.952 596.063,384.952 \n",
       "  \"/>\n",
       "<polyline clip-path=\"url(#clip02)\" style=\"stroke:#00002d; stroke-width:0.8; stroke-opacity:1; fill:none\" points=\"\n",
       "  178.633,384.952 178.633,379.237 \n",
       "  \"/>\n",
       "<polyline clip-path=\"url(#clip02)\" style=\"stroke:#00002d; stroke-width:0.8; stroke-opacity:1; fill:none\" points=\"\n",
       "  317.778,384.952 317.778,379.237 \n",
       "  \"/>\n",
       "<polyline clip-path=\"url(#clip02)\" style=\"stroke:#00002d; stroke-width:0.8; stroke-opacity:1; fill:none\" points=\"\n",
       "  456.922,384.952 456.922,379.237 \n",
       "  \"/>\n",
       "<polyline clip-path=\"url(#clip02)\" style=\"stroke:#00002d; stroke-width:0.8; stroke-opacity:1; fill:none\" points=\"\n",
       "  39.4926,384.952 39.4926,3.93701 \n",
       "  \"/>\n",
       "<polyline clip-path=\"url(#clip02)\" style=\"stroke:#00002d; stroke-width:0.8; stroke-opacity:1; fill:none\" points=\"\n",
       "  39.4926,329.772 47.8411,329.772 \n",
       "  \"/>\n",
       "<polyline clip-path=\"url(#clip02)\" style=\"stroke:#00002d; stroke-width:0.8; stroke-opacity:1; fill:none\" points=\"\n",
       "  39.4926,220.563 47.8411,220.563 \n",
       "  \"/>\n",
       "<polyline clip-path=\"url(#clip02)\" style=\"stroke:#00002d; stroke-width:0.8; stroke-opacity:1; fill:none\" points=\"\n",
       "  39.4926,111.354 47.8411,111.354 \n",
       "  \"/>\n",
       "<g clip-path=\"url(#clip00)\">\n",
       "<text style=\"fill:#00002d; fill-opacity:1; font-family:Arial,Helvetica Neue,Helvetica,sans-serif; font-size:12; text-anchor:middle;\" transform=\"rotate(0, 178.633, 396.952)\" x=\"178.633\" y=\"396.952\">-0.5</text>\n",
       "</g>\n",
       "<g clip-path=\"url(#clip00)\">\n",
       "<text style=\"fill:#00002d; fill-opacity:1; font-family:Arial,Helvetica Neue,Helvetica,sans-serif; font-size:12; text-anchor:middle;\" transform=\"rotate(0, 317.778, 396.952)\" x=\"317.778\" y=\"396.952\">0.0</text>\n",
       "</g>\n",
       "<g clip-path=\"url(#clip00)\">\n",
       "<text style=\"fill:#00002d; fill-opacity:1; font-family:Arial,Helvetica Neue,Helvetica,sans-serif; font-size:12; text-anchor:middle;\" transform=\"rotate(0, 456.922, 396.952)\" x=\"456.922\" y=\"396.952\">0.5</text>\n",
       "</g>\n",
       "<g clip-path=\"url(#clip00)\">\n",
       "<text style=\"fill:#00002d; fill-opacity:1; font-family:Arial,Helvetica Neue,Helvetica,sans-serif; font-size:12; text-anchor:end;\" transform=\"rotate(0, 38.2926, 334.272)\" x=\"38.2926\" y=\"334.272\">0.25</text>\n",
       "</g>\n",
       "<g clip-path=\"url(#clip00)\">\n",
       "<text style=\"fill:#00002d; fill-opacity:1; font-family:Arial,Helvetica Neue,Helvetica,sans-serif; font-size:12; text-anchor:end;\" transform=\"rotate(0, 38.2926, 225.063)\" x=\"38.2926\" y=\"225.063\">0.50</text>\n",
       "</g>\n",
       "<g clip-path=\"url(#clip00)\">\n",
       "<text style=\"fill:#00002d; fill-opacity:1; font-family:Arial,Helvetica Neue,Helvetica,sans-serif; font-size:12; text-anchor:end;\" transform=\"rotate(0, 38.2926, 115.854)\" x=\"38.2926\" y=\"115.854\">0.75</text>\n",
       "</g>\n",
       "<polyline clip-path=\"url(#clip02)\" style=\"stroke:#0099ff; stroke-width:0.8; stroke-opacity:1; fill:none\" points=\"\n",
       "  596.063,384.952 596.033,384.948 595.974,384.94 595.886,384.928 595.768,384.913 595.62,384.893 595.443,384.869 595.237,384.842 595.001,384.81 594.735,384.775 \n",
       "  594.441,384.735 594.117,384.692 593.763,384.644 593.381,384.593 592.969,384.538 592.527,384.478 592.057,384.415 591.558,384.347 591.029,384.276 590.472,384.201 \n",
       "  589.886,384.121 589.27,384.038 588.626,383.95 587.954,383.858 587.252,383.762 586.522,383.663 585.764,383.558 584.977,383.45 584.162,383.338 583.318,383.221 \n",
       "  582.446,383.101 581.546,382.976 580.619,382.847 579.663,382.713 578.68,382.576 577.668,382.434 576.63,382.288 575.563,382.137 574.47,381.982 573.349,381.823 \n",
       "  572.201,381.659 571.026,381.491 569.825,381.319 568.596,381.142 567.341,380.96 566.06,380.774 564.752,380.584 563.417,380.389 562.057,380.189 560.671,379.985 \n",
       "  559.259,379.776 557.822,379.562 556.359,379.344 554.871,379.121 553.357,378.893 551.819,378.66 550.256,378.422 548.668,378.18 547.055,377.933 545.419,377.68 \n",
       "  543.758,377.423 542.073,377.161 540.364,376.893 538.632,376.621 536.876,376.343 535.097,376.061 533.295,375.773 531.47,375.48 529.623,375.181 527.753,374.877 \n",
       "  525.861,374.568 523.946,374.254 522.01,373.934 520.052,373.608 518.073,373.277 516.072,372.94 514.05,372.598 512.008,372.25 509.945,371.896 507.861,371.537 \n",
       "  505.758,371.172 503.634,370.801 501.491,370.424 499.328,370.04 497.146,369.651 494.945,369.256 492.725,368.855 490.487,368.448 488.23,368.034 485.955,367.614 \n",
       "  483.662,367.188 481.352,366.755 479.024,366.316 476.679,365.87 474.318,365.418 471.94,364.959 469.545,364.494 467.134,364.021 464.708,363.542 462.266,363.056 \n",
       "  459.808,362.564 457.336,362.064 454.848,361.557 452.347,361.043 449.83,360.522 447.3,359.994 444.756,359.458 442.199,358.915 439.628,358.364 437.045,357.806 \n",
       "  434.449,357.241 431.84,356.668 429.22,356.087 426.587,355.498 423.943,354.902 421.288,354.298 418.622,353.685 415.945,353.065 413.257,352.437 410.56,351.8 \n",
       "  407.853,351.155 405.136,350.502 402.41,349.84 399.674,349.17 396.931,348.491 394.178,347.804 391.418,347.108 388.65,346.403 385.874,345.689 383.091,344.966 \n",
       "  380.302,344.235 377.505,343.494 374.702,342.744 371.894,341.985 369.079,341.216 366.259,340.438 363.434,339.651 360.604,338.854 357.769,338.047 354.931,337.23 \n",
       "  352.088,336.404 349.241,335.568 346.392,334.722 343.539,333.865 340.684,332.999 337.826,332.122 334.966,331.235 332.104,330.338 329.24,329.43 326.376,328.511 \n",
       "  323.51,327.582 320.644,326.642 317.778,325.691 314.911,324.729 312.045,323.757 309.18,322.773 306.315,321.778 303.452,320.771 300.59,319.753 297.73,318.724 \n",
       "  294.872,317.684 292.017,316.631 289.164,315.567 286.314,314.491 283.468,313.403 280.625,312.303 277.786,311.191 274.952,310.067 272.122,308.931 269.297,307.782 \n",
       "  266.477,306.621 263.662,305.447 260.853,304.261 258.05,303.062 255.254,301.85 252.464,300.625 249.681,299.387 246.906,298.136 244.137,296.872 241.377,295.595 \n",
       "  238.625,294.304 235.881,293 233.146,291.683 230.42,290.351 227.703,289.006 224.996,287.647 222.298,286.275 219.611,284.888 216.934,283.487 214.268,282.073 \n",
       "  211.612,280.643 208.968,279.2 206.336,277.742 203.715,276.27 201.107,274.783 198.511,273.281 195.927,271.764 193.357,270.233 190.799,268.687 188.255,267.125 \n",
       "  185.725,265.549 183.209,263.957 180.707,262.35 178.22,260.728 175.747,259.09 173.29,257.436 170.848,255.767 168.421,254.082 166.01,252.382 163.616,250.665 \n",
       "  161.238,248.933 158.876,247.184 156.531,245.419 154.204,243.638 151.893,241.841 149.601,240.027 147.326,238.197 145.069,236.35 142.831,234.487 140.611,232.607 \n",
       "  138.41,230.71 136.228,228.796 134.065,226.866 131.921,224.918 129.798,222.953 127.694,220.971 125.611,218.972 123.548,216.955 121.505,214.921 119.484,212.869 \n",
       "  117.483,210.8 115.504,208.714 113.546,206.609 111.609,204.487 109.695,202.347 107.803,200.189 105.933,198.012 104.085,195.818 102.26,193.606 100.458,191.375 \n",
       "  98.6794,189.126 96.9237,186.859 95.1914,184.573 93.4827,182.269 91.7979,179.946 90.137,177.605 88.5003,175.245 86.8879,172.866 85.3,170.468 83.7367,168.051 \n",
       "  82.1983,165.615 80.6849,163.16 79.1966,160.686 77.7337,158.193 76.2962,155.68 74.8843,153.149 73.4982,150.597 72.1381,148.027 70.8039,145.436 69.496,142.826 \n",
       "  68.2145,140.197 66.9594,137.547 65.7309,134.878 64.5291,132.189 63.3543,129.48 62.2064,126.751 61.0856,124.002 59.9921,121.232 58.9259,118.443 57.8872,115.633 \n",
       "  56.876,112.803 55.8926,109.952 54.9369,107.081 54.0091,104.189 53.1093,101.277 52.2376,98.3435 51.394,95.3896 50.5787,92.4148 49.7918,89.4191 49.0333,86.4025 \n",
       "  48.3033,83.3647 47.6018,80.3058 46.9291,77.2257 46.2851,74.1242 45.6699,71.0015 45.0835,67.8572 44.5261,64.6915 43.9977,61.5041 43.4984,58.2951 43.0281,55.0643 \n",
       "  42.587,51.8117 42.175,48.5372 41.7924,45.2407 41.439,41.9222 41.1149,38.5815 40.8201,35.2185 40.5548,31.8332 40.3189,28.4255 40.1124,24.9954 39.9353,21.5426 \n",
       "  39.7878,18.0672 39.6697,14.569 39.5811,11.048 39.5221,7.50401 39.4926,3.93701 \n",
       "  \"/>\n",
       "<polygon clip-path=\"url(#clip00)\" points=\"\n",
       "505.547,55.057 578.063,55.057 578.063,24.817 505.547,24.817 \n",
       "  \" fill=\"#ffffff\" fill-opacity=\"1\"/>\n",
       "<polyline clip-path=\"url(#clip00)\" style=\"stroke:#00002d; stroke-width:0.8; stroke-opacity:1; fill:none\" points=\"\n",
       "  505.547,55.057 578.063,55.057 578.063,24.817 505.547,24.817 505.547,55.057 \n",
       "  \"/>\n",
       "<polyline clip-path=\"url(#clip00)\" style=\"stroke:#0099ff; stroke-width:0.8; stroke-opacity:1; fill:none\" points=\"\n",
       "  511.547,39.937 547.547,39.937 \n",
       "  \"/>\n",
       "<g clip-path=\"url(#clip00)\">\n",
       "<text style=\"fill:#00002d; fill-opacity:1; font-family:Arial,Helvetica Neue,Helvetica,sans-serif; font-size:12; text-anchor:start;\" transform=\"rotate(0, 553.547, 44.437)\" x=\"553.547\" y=\"44.437\">y1</text>\n",
       "</g>\n",
       "</svg>\n"
      ]
     },
     "execution_count": 4,
     "metadata": {},
     "output_type": "execute_result"
    }
   ],
   "source": [
    "S = Legendre() ⊕ JacobiWeight(0.5,0.,Ultraspherical(1))\n",
    "x = Fun()\n",
    "Q½= LeftIntegral(S,0.5)\n",
    "\n",
    "y = (I+exp(-(1+x)/2)*Q½[exp((1+x)/2)])\\exp(-(1+x)/2)\n",
    "plot(y)"
   ]
  },
  {
   "cell_type": "markdown",
   "metadata": {
    "deletable": true,
    "editable": true
   },
   "source": [
    "We can compare with the exact solution:"
   ]
  },
  {
   "cell_type": "code",
   "execution_count": 5,
   "metadata": {
    "collapsed": false,
    "deletable": true,
    "editable": true
   },
   "outputs": [
    {
     "data": {
      "text/plain": [
       "5.862698779036627e-15"
      ]
     },
     "execution_count": 5,
     "metadata": {},
     "output_type": "execute_result"
    }
   ],
   "source": [
    "norm(y-exp((1+x)/2)*erfc(sqrt(1+x)))"
   ]
  }
 ],
 "metadata": {
  "anaconda-cloud": {},
  "kernelspec": {
   "display_name": "Julia 0.5.2",
   "language": "julia",
   "name": "julia-0.5"
  },
  "language_info": {
   "file_extension": ".jl",
   "mimetype": "application/julia",
   "name": "julia",
   "version": "0.5.2"
  }
 },
 "nbformat": 4,
 "nbformat_minor": 0
}
