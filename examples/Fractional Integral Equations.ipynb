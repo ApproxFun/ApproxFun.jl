{
 "cells": [
  {
   "cell_type": "code",
   "execution_count": 1,
   "metadata": {},
   "outputs": [],
   "source": [
    "using Plots, ApproxFun"
   ]
  },
  {
   "cell_type": "markdown",
   "metadata": {},
   "source": [
    "We demonstrate numerical solution of the examples in [Hale & Olver 2016]:\n",
    "\n",
    "##### Example 1\n",
    "\n",
    "$$y(x) + {}_{-1} {\\cal Q}_x^{1/2} y(x) = 1$$"
   ]
  },
  {
   "cell_type": "code",
   "execution_count": 6,
   "metadata": {},
   "outputs": [
    {
     "data": {
      "text/html": [
       "<?xml version=\"1.0\" encoding=\"utf-8\"?>\n",
       "<svg xmlns=\"http://www.w3.org/2000/svg\" xmlns:xlink=\"http://www.w3.org/1999/xlink\" width=\"600\" height=\"400\" viewBox=\"0 0 600 400\">\n",
       "<defs>\n",
       "  <clipPath id=\"clip00\">\n",
       "    <rect x=\"0\" y=\"0\" width=\"600\" height=\"400\"/>\n",
       "  </clipPath>\n",
       "</defs>\n",
       "<polygon clip-path=\"url(#clip00)\" points=\"\n",
       "0,400 600,400 600,0 0,0 \n",
       "  \" fill=\"#ffffff\" fill-opacity=\"1\"/>\n",
       "<defs>\n",
       "  <clipPath id=\"clip01\">\n",
       "    <rect x=\"120\" y=\"0\" width=\"421\" height=\"400\"/>\n",
       "  </clipPath>\n",
       "</defs>\n",
       "<polygon clip-path=\"url(#clip00)\" points=\"\n",
       "39.3701,368.504 592.126,368.504 592.126,7.87402 39.3701,7.87402 \n",
       "  \" fill=\"#ffffff\" fill-opacity=\"1\"/>\n",
       "<defs>\n",
       "  <clipPath id=\"clip02\">\n",
       "    <rect x=\"39\" y=\"7\" width=\"554\" height=\"362\"/>\n",
       "  </clipPath>\n",
       "</defs>\n",
       "<polyline clip-path=\"url(#clip02)\" style=\"stroke:#000000; stroke-width:1; stroke-opacity:0.5; fill:none\" stroke-dasharray=\"1, 2\" points=\"\n",
       "  177.552,363.094 177.552,13.2835 \n",
       "  \"/>\n",
       "<polyline clip-path=\"url(#clip02)\" style=\"stroke:#000000; stroke-width:1; stroke-opacity:0.5; fill:none\" stroke-dasharray=\"1, 2\" points=\"\n",
       "  315.748,363.094 315.748,13.2835 \n",
       "  \"/>\n",
       "<polyline clip-path=\"url(#clip02)\" style=\"stroke:#000000; stroke-width:1; stroke-opacity:0.5; fill:none\" stroke-dasharray=\"1, 2\" points=\"\n",
       "  453.944,363.094 453.944,13.2835 \n",
       "  \"/>\n",
       "<polyline clip-path=\"url(#clip02)\" style=\"stroke:#000000; stroke-width:1; stroke-opacity:0.5; fill:none\" stroke-dasharray=\"1, 2\" points=\"\n",
       "  47.6614,278.406 583.835,278.406 \n",
       "  \"/>\n",
       "<polyline clip-path=\"url(#clip02)\" style=\"stroke:#000000; stroke-width:1; stroke-opacity:0.5; fill:none\" stroke-dasharray=\"1, 2\" points=\"\n",
       "  47.6614,140.887 583.835,140.887 \n",
       "  \"/>\n",
       "<polyline clip-path=\"url(#clip00)\" style=\"stroke:#000000; stroke-width:1; stroke-opacity:1; fill:none\" points=\"\n",
       "  39.3701,368.504 592.126,368.504 \n",
       "  \"/>\n",
       "<polyline clip-path=\"url(#clip00)\" style=\"stroke:#000000; stroke-width:1; stroke-opacity:1; fill:none\" points=\"\n",
       "  177.552,368.504 177.552,363.094 \n",
       "  \"/>\n",
       "<polyline clip-path=\"url(#clip00)\" style=\"stroke:#000000; stroke-width:1; stroke-opacity:1; fill:none\" points=\"\n",
       "  315.748,368.504 315.748,363.094 \n",
       "  \"/>\n",
       "<polyline clip-path=\"url(#clip00)\" style=\"stroke:#000000; stroke-width:1; stroke-opacity:1; fill:none\" points=\"\n",
       "  453.944,368.504 453.944,363.094 \n",
       "  \"/>\n",
       "<polyline clip-path=\"url(#clip00)\" style=\"stroke:#000000; stroke-width:1; stroke-opacity:1; fill:none\" points=\"\n",
       "  39.3701,368.504 39.3701,7.87402 \n",
       "  \"/>\n",
       "<polyline clip-path=\"url(#clip00)\" style=\"stroke:#000000; stroke-width:1; stroke-opacity:1; fill:none\" points=\"\n",
       "  39.3701,278.406 47.6614,278.406 \n",
       "  \"/>\n",
       "<polyline clip-path=\"url(#clip00)\" style=\"stroke:#000000; stroke-width:1; stroke-opacity:1; fill:none\" points=\"\n",
       "  39.3701,140.887 47.6614,140.887 \n",
       "  \"/>\n",
       "<g clip-path=\"url(#clip00)\">\n",
       "<text style=\"fill:#000000; fill-opacity:1; font-family:Arial,Helvetica Neue,Helvetica,sans-serif; font-size:12; text-anchor:middle;\" transform=\"rotate(0, 177.552, 382.304)\" x=\"177.552\" y=\"382.304\">-0.5</text>\n",
       "</g>\n",
       "<g clip-path=\"url(#clip00)\">\n",
       "<text style=\"fill:#000000; fill-opacity:1; font-family:Arial,Helvetica Neue,Helvetica,sans-serif; font-size:12; text-anchor:middle;\" transform=\"rotate(0, 315.748, 382.304)\" x=\"315.748\" y=\"382.304\">0.0</text>\n",
       "</g>\n",
       "<g clip-path=\"url(#clip00)\">\n",
       "<text style=\"fill:#000000; fill-opacity:1; font-family:Arial,Helvetica Neue,Helvetica,sans-serif; font-size:12; text-anchor:middle;\" transform=\"rotate(0, 453.944, 382.304)\" x=\"453.944\" y=\"382.304\">0.5</text>\n",
       "</g>\n",
       "<g clip-path=\"url(#clip00)\">\n",
       "<text style=\"fill:#000000; fill-opacity:1; font-family:Arial,Helvetica Neue,Helvetica,sans-serif; font-size:12; text-anchor:end;\" transform=\"rotate(0, 33.3701, 282.906)\" x=\"33.3701\" y=\"282.906\">0.50</text>\n",
       "</g>\n",
       "<g clip-path=\"url(#clip00)\">\n",
       "<text style=\"fill:#000000; fill-opacity:1; font-family:Arial,Helvetica Neue,Helvetica,sans-serif; font-size:12; text-anchor:end;\" transform=\"rotate(0, 33.3701, 145.387)\" x=\"33.3701\" y=\"145.387\">0.75</text>\n",
       "</g>\n",
       "<polyline clip-path=\"url(#clip02)\" style=\"stroke:#009af9; stroke-width:1; stroke-opacity:1; fill:none\" points=\"\n",
       "  592.126,368.504 592.008,368.489 591.772,368.46 591.418,368.415 590.946,368.356 590.357,368.283 589.65,368.194 588.827,368.091 587.886,367.972 586.83,367.839 \n",
       "  585.658,367.691 584.37,367.527 582.968,367.349 581.451,367.156 579.821,366.947 578.078,366.723 576.224,366.484 574.258,366.229 572.181,365.959 569.995,365.673 \n",
       "  567.7,365.372 565.298,365.055 562.789,364.722 560.175,364.373 557.456,364.008 554.634,363.626 551.71,363.228 548.685,362.814 545.56,362.383 542.338,361.935 \n",
       "  539.018,361.47 535.603,360.989 532.095,360.489 528.494,359.973 524.802,359.439 521.02,358.887 517.151,358.316 513.196,357.728 509.157,357.122 505.035,356.496 \n",
       "  500.832,355.852 496.55,355.189 492.191,354.506 487.757,353.804 483.249,353.082 478.669,352.339 474.02,351.577 469.304,350.794 464.521,349.99 459.675,349.164 \n",
       "  454.768,348.317 449.801,347.449 444.777,346.558 439.698,345.644 434.566,344.708 429.383,343.748 424.152,342.765 418.874,341.757 413.553,340.726 408.189,339.669 \n",
       "  402.786,338.588 397.346,337.48 391.871,336.347 386.364,335.187 380.826,334 375.26,332.786 369.67,331.543 364.056,330.272 358.421,328.972 352.768,327.643 \n",
       "  347.1,326.283 341.418,324.893 335.725,323.471 330.023,322.018 324.316,320.532 318.604,319.012 312.892,317.459 307.181,315.872 301.473,314.249 295.771,312.59 \n",
       "  290.078,310.894 284.396,309.161 278.728,307.39 273.075,305.579 267.44,303.729 261.826,301.838 256.236,299.905 250.67,297.93 245.132,295.911 239.625,293.847 \n",
       "  234.15,291.738 228.71,289.583 223.307,287.379 217.943,285.127 212.622,282.826 207.344,280.473 202.113,278.068 196.93,275.61 191.798,273.097 186.719,270.528 \n",
       "  181.695,267.901 176.728,265.216 171.821,262.471 166.975,259.664 162.192,256.794 157.476,253.859 152.827,250.858 148.247,247.789 143.739,244.65 139.305,241.439 \n",
       "  134.946,238.156 130.664,234.797 126.461,231.361 122.339,227.846 118.3,224.25 114.345,220.57 110.476,216.805 106.694,212.952 103.002,209.01 99.4013,204.975 \n",
       "  95.8927,200.844 92.4779,196.617 89.1585,192.289 85.9359,187.859 82.8115,183.323 79.7865,178.678 76.8624,173.922 74.0403,169.052 71.3215,164.064 68.707,158.955 \n",
       "  66.1981,153.721 63.7958,148.36 61.5011,142.867 59.3151,137.24 57.2385,131.473 55.2724,125.564 53.4176,119.508 51.6748,113.301 50.0448,106.939 48.5283,100.417 \n",
       "  47.126,93.7302 45.8384,86.8747 44.6661,79.8454 43.6096,72.6371 42.6694,65.2447 41.8458,57.6629 41.1392,49.8862 40.5499,41.9088 40.0782,33.7251 39.7242,25.3288 \n",
       "  39.4881,16.714 39.3701,7.87402 \n",
       "  \"/>\n",
       "<polygon clip-path=\"url(#clip00)\" points=\"\n",
       "501.61,58.994 574.126,58.994 574.126,28.754 501.61,28.754 \n",
       "  \" fill=\"#ffffff\" fill-opacity=\"1\"/>\n",
       "<polyline clip-path=\"url(#clip00)\" style=\"stroke:#000000; stroke-width:1; stroke-opacity:1; fill:none\" points=\"\n",
       "  501.61,58.994 574.126,58.994 574.126,28.754 501.61,28.754 501.61,58.994 \n",
       "  \"/>\n",
       "<polyline clip-path=\"url(#clip00)\" style=\"stroke:#009af9; stroke-width:1; stroke-opacity:1; fill:none\" points=\"\n",
       "  507.61,43.874 543.61,43.874 \n",
       "  \"/>\n",
       "<g clip-path=\"url(#clip00)\">\n",
       "<text style=\"fill:#000000; fill-opacity:1; font-family:Arial,Helvetica Neue,Helvetica,sans-serif; font-size:12; text-anchor:start;\" transform=\"rotate(0, 549.61, 48.374)\" x=\"549.61\" y=\"48.374\">y1</text>\n",
       "</g>\n",
       "</svg>\n"
      ]
     },
     "execution_count": 6,
     "metadata": {},
     "output_type": "execute_result"
    }
   ],
   "source": [
    "S  = Legendre() ⊕ JacobiWeight(0.5,0.,Ultraspherical(1))\n",
    "Q½ = LeftIntegral(S,0.5)\n",
    "\n",
    "y = (I+Q½)\\1\n",
    "plot(y)"
   ]
  },
  {
   "cell_type": "markdown",
   "metadata": {},
   "source": [
    "We can compare with the exact solution:"
   ]
  },
  {
   "cell_type": "code",
   "execution_count": 3,
   "metadata": {},
   "outputs": [
    {
     "data": {
      "text/plain": [
       "4.5345102586252e-15"
      ]
     },
     "execution_count": 3,
     "metadata": {},
     "output_type": "execute_result"
    }
   ],
   "source": [
    "x=Fun()\n",
    "norm(exp(1+x)*erfc(sqrt(1+x))-y)"
   ]
  },
  {
   "cell_type": "markdown",
   "metadata": {},
   "source": [
    "##### Example 2\n",
    "\n",
    "$$y + e^{-{1+x \\over 2}} {}_{-1}Q_x^{1/2}[e^{1+x \\over 2} y] = e^{-{1+x \\over 2}}$$"
   ]
  },
  {
   "cell_type": "code",
   "execution_count": 4,
   "metadata": {},
   "outputs": [
    {
     "data": {
      "text/html": [
       "<?xml version=\"1.0\" encoding=\"utf-8\"?>\n",
       "<svg xmlns=\"http://www.w3.org/2000/svg\" xmlns:xlink=\"http://www.w3.org/1999/xlink\" width=\"600\" height=\"400\" viewBox=\"0 0 600 400\">\n",
       "<defs>\n",
       "  <clipPath id=\"clip00\">\n",
       "    <rect x=\"0\" y=\"0\" width=\"600\" height=\"400\"/>\n",
       "  </clipPath>\n",
       "</defs>\n",
       "<polygon clip-path=\"url(#clip00)\" points=\"\n",
       "0,400 600,400 600,0 0,0 \n",
       "  \" fill=\"#ffffff\" fill-opacity=\"1\"/>\n",
       "<defs>\n",
       "  <clipPath id=\"clip01\">\n",
       "    <rect x=\"120\" y=\"0\" width=\"421\" height=\"400\"/>\n",
       "  </clipPath>\n",
       "</defs>\n",
       "<polygon clip-path=\"url(#clip00)\" points=\"\n",
       "39.3701,368.504 592.126,368.504 592.126,7.87402 39.3701,7.87402 \n",
       "  \" fill=\"#ffffff\" fill-opacity=\"1\"/>\n",
       "<defs>\n",
       "  <clipPath id=\"clip02\">\n",
       "    <rect x=\"39\" y=\"7\" width=\"554\" height=\"362\"/>\n",
       "  </clipPath>\n",
       "</defs>\n",
       "<polyline clip-path=\"url(#clip02)\" style=\"stroke:#000000; stroke-width:1; stroke-opacity:0.5; fill:none\" stroke-dasharray=\"1, 2\" points=\"\n",
       "  177.557,363.094 177.557,13.2835 \n",
       "  \"/>\n",
       "<polyline clip-path=\"url(#clip02)\" style=\"stroke:#000000; stroke-width:1; stroke-opacity:0.5; fill:none\" stroke-dasharray=\"1, 2\" points=\"\n",
       "  315.748,363.094 315.748,13.2835 \n",
       "  \"/>\n",
       "<polyline clip-path=\"url(#clip02)\" style=\"stroke:#000000; stroke-width:1; stroke-opacity:0.5; fill:none\" stroke-dasharray=\"1, 2\" points=\"\n",
       "  453.939,363.094 453.939,13.2835 \n",
       "  \"/>\n",
       "<polyline clip-path=\"url(#clip02)\" style=\"stroke:#000000; stroke-width:1; stroke-opacity:0.5; fill:none\" stroke-dasharray=\"1, 2\" points=\"\n",
       "  47.6614,316.277 583.835,316.277 \n",
       "  \"/>\n",
       "<polyline clip-path=\"url(#clip02)\" style=\"stroke:#000000; stroke-width:1; stroke-opacity:0.5; fill:none\" stroke-dasharray=\"1, 2\" points=\"\n",
       "  47.6614,212.91 583.835,212.91 \n",
       "  \"/>\n",
       "<polyline clip-path=\"url(#clip02)\" style=\"stroke:#000000; stroke-width:1; stroke-opacity:0.5; fill:none\" stroke-dasharray=\"1, 2\" points=\"\n",
       "  47.6614,109.544 583.835,109.544 \n",
       "  \"/>\n",
       "<polyline clip-path=\"url(#clip00)\" style=\"stroke:#000000; stroke-width:1; stroke-opacity:1; fill:none\" points=\"\n",
       "  39.3701,368.504 592.126,368.504 \n",
       "  \"/>\n",
       "<polyline clip-path=\"url(#clip00)\" style=\"stroke:#000000; stroke-width:1; stroke-opacity:1; fill:none\" points=\"\n",
       "  177.557,368.504 177.557,363.094 \n",
       "  \"/>\n",
       "<polyline clip-path=\"url(#clip00)\" style=\"stroke:#000000; stroke-width:1; stroke-opacity:1; fill:none\" points=\"\n",
       "  315.748,368.504 315.748,363.094 \n",
       "  \"/>\n",
       "<polyline clip-path=\"url(#clip00)\" style=\"stroke:#000000; stroke-width:1; stroke-opacity:1; fill:none\" points=\"\n",
       "  453.939,368.504 453.939,363.094 \n",
       "  \"/>\n",
       "<polyline clip-path=\"url(#clip00)\" style=\"stroke:#000000; stroke-width:1; stroke-opacity:1; fill:none\" points=\"\n",
       "  39.3701,368.504 39.3701,7.87402 \n",
       "  \"/>\n",
       "<polyline clip-path=\"url(#clip00)\" style=\"stroke:#000000; stroke-width:1; stroke-opacity:1; fill:none\" points=\"\n",
       "  39.3701,316.277 47.6614,316.277 \n",
       "  \"/>\n",
       "<polyline clip-path=\"url(#clip00)\" style=\"stroke:#000000; stroke-width:1; stroke-opacity:1; fill:none\" points=\"\n",
       "  39.3701,212.91 47.6614,212.91 \n",
       "  \"/>\n",
       "<polyline clip-path=\"url(#clip00)\" style=\"stroke:#000000; stroke-width:1; stroke-opacity:1; fill:none\" points=\"\n",
       "  39.3701,109.544 47.6614,109.544 \n",
       "  \"/>\n",
       "<g clip-path=\"url(#clip00)\">\n",
       "<text style=\"fill:#000000; fill-opacity:1; font-family:Arial,Helvetica Neue,Helvetica,sans-serif; font-size:12; text-anchor:middle;\" transform=\"rotate(0, 177.557, 382.304)\" x=\"177.557\" y=\"382.304\">-0.5</text>\n",
       "</g>\n",
       "<g clip-path=\"url(#clip00)\">\n",
       "<text style=\"fill:#000000; fill-opacity:1; font-family:Arial,Helvetica Neue,Helvetica,sans-serif; font-size:12; text-anchor:middle;\" transform=\"rotate(0, 315.748, 382.304)\" x=\"315.748\" y=\"382.304\">0.0</text>\n",
       "</g>\n",
       "<g clip-path=\"url(#clip00)\">\n",
       "<text style=\"fill:#000000; fill-opacity:1; font-family:Arial,Helvetica Neue,Helvetica,sans-serif; font-size:12; text-anchor:middle;\" transform=\"rotate(0, 453.939, 382.304)\" x=\"453.939\" y=\"382.304\">0.5</text>\n",
       "</g>\n",
       "<g clip-path=\"url(#clip00)\">\n",
       "<text style=\"fill:#000000; fill-opacity:1; font-family:Arial,Helvetica Neue,Helvetica,sans-serif; font-size:12; text-anchor:end;\" transform=\"rotate(0, 33.3701, 320.777)\" x=\"33.3701\" y=\"320.777\">0.25</text>\n",
       "</g>\n",
       "<g clip-path=\"url(#clip00)\">\n",
       "<text style=\"fill:#000000; fill-opacity:1; font-family:Arial,Helvetica Neue,Helvetica,sans-serif; font-size:12; text-anchor:end;\" transform=\"rotate(0, 33.3701, 217.41)\" x=\"33.3701\" y=\"217.41\">0.50</text>\n",
       "</g>\n",
       "<g clip-path=\"url(#clip00)\">\n",
       "<text style=\"fill:#000000; fill-opacity:1; font-family:Arial,Helvetica Neue,Helvetica,sans-serif; font-size:12; text-anchor:end;\" transform=\"rotate(0, 33.3701, 114.044)\" x=\"33.3701\" y=\"114.044\">0.75</text>\n",
       "</g>\n",
       "<polyline clip-path=\"url(#clip02)\" style=\"stroke:#009af9; stroke-width:1; stroke-opacity:1; fill:none\" points=\"\n",
       "  592.126,368.504 592.097,368.5 592.038,368.493 591.95,368.482 591.833,368.467 591.686,368.448 591.51,368.426 591.305,368.4 591.071,368.37 590.808,368.336 \n",
       "  590.515,368.299 590.193,368.258 589.842,368.213 589.462,368.164 589.053,368.112 588.615,368.056 588.148,367.996 587.652,367.932 587.127,367.864 586.573,367.793 \n",
       "  585.991,367.718 585.38,367.639 584.74,367.556 584.072,367.469 583.376,367.378 582.651,367.284 581.897,367.185 581.116,367.083 580.306,366.976 579.468,366.866 \n",
       "  578.603,366.752 577.709,366.634 576.787,366.511 575.838,366.385 574.862,366.255 573.857,366.121 572.826,365.982 571.767,365.84 570.681,365.693 569.568,365.542 \n",
       "  568.428,365.387 567.261,365.228 566.067,365.065 564.847,364.898 563.601,364.726 562.328,364.55 561.029,364.37 559.704,364.185 558.353,363.996 556.977,363.802 \n",
       "  555.575,363.605 554.147,363.402 552.694,363.196 551.216,362.985 549.713,362.769 548.185,362.549 546.633,362.324 545.056,362.094 543.454,361.86 541.829,361.621 \n",
       "  540.179,361.378 538.506,361.13 536.809,360.877 535.089,360.619 533.345,360.356 531.578,360.089 529.788,359.816 527.976,359.539 526.141,359.256 524.284,358.968 \n",
       "  522.405,358.676 520.503,358.378 518.58,358.075 516.636,357.767 514.67,357.454 512.683,357.135 510.675,356.811 508.647,356.482 506.598,356.147 504.529,355.807 \n",
       "  502.44,355.461 500.331,355.11 498.202,354.753 496.054,354.39 493.887,354.022 491.701,353.648 489.496,353.268 487.273,352.883 485.032,352.491 482.773,352.094 \n",
       "  480.496,351.69 478.201,351.281 475.889,350.865 473.561,350.443 471.215,350.015 468.853,349.581 466.475,349.14 464.081,348.693 461.671,348.24 459.246,347.78 \n",
       "  456.805,347.313 454.35,346.84 451.879,346.361 449.395,345.874 446.896,345.381 444.383,344.881 441.856,344.374 439.317,343.86 436.764,343.339 434.198,342.811 \n",
       "  431.619,342.276 429.029,341.733 426.426,341.183 423.812,340.626 421.186,340.062 418.549,339.49 415.901,338.91 413.242,338.323 410.573,337.728 407.894,337.126 \n",
       "  405.206,336.515 402.507,335.897 399.8,335.271 397.083,334.636 394.358,333.994 391.625,333.343 388.884,332.684 386.134,332.017 383.378,331.342 380.614,330.658 \n",
       "  377.843,329.965 375.066,329.264 372.282,328.554 369.493,327.836 366.698,327.108 363.897,326.372 361.091,325.626 358.281,324.872 355.465,324.108 352.646,323.336 \n",
       "  349.823,322.553 346.996,321.762 344.166,320.961 341.333,320.151 338.497,319.33 335.658,318.501 332.818,317.661 329.976,316.812 327.132,315.952 324.287,315.083 \n",
       "  321.441,314.203 318.595,313.314 315.748,312.414 312.901,311.503 310.055,310.583 307.209,309.651 304.364,308.71 301.52,307.757 298.678,306.794 295.838,305.82 \n",
       "  292.999,304.835 290.163,303.838 287.33,302.831 284.5,301.813 281.673,300.783 278.85,299.742 276.031,298.69 273.216,297.626 270.405,296.55 267.599,295.463 \n",
       "  264.798,294.364 262.003,293.253 259.214,292.13 256.43,290.995 253.653,289.848 250.882,288.689 248.118,287.517 245.362,286.333 242.612,285.137 239.871,283.928 \n",
       "  237.138,282.706 234.413,281.472 231.696,280.225 228.989,278.965 226.291,277.692 223.602,276.406 220.923,275.106 218.254,273.794 215.595,272.468 212.947,271.129 \n",
       "  210.31,269.776 207.684,268.41 205.07,267.03 202.467,265.636 199.877,264.229 197.298,262.807 194.732,261.372 192.18,259.923 189.64,258.459 187.113,256.981 \n",
       "  184.6,255.489 182.102,253.982 179.617,252.461 177.147,250.926 174.691,249.376 172.25,247.811 169.825,246.231 167.415,244.636 165.021,243.026 162.643,241.402 \n",
       "  160.281,239.762 157.935,238.107 155.607,236.436 153.295,234.751 151.001,233.05 148.724,231.333 146.464,229.601 144.223,227.853 142,226.089 139.795,224.31 \n",
       "  137.609,222.514 135.442,220.703 133.294,218.876 131.166,217.032 129.056,215.172 126.967,213.296 124.898,211.404 122.849,209.495 120.821,207.57 118.813,205.628 \n",
       "  116.826,203.67 114.86,201.695 112.916,199.703 110.993,197.694 109.091,195.668 107.212,193.626 105.355,191.566 103.52,189.489 101.708,187.395 99.918,185.284 \n",
       "  98.1512,183.155 96.4076,181.01 94.6872,178.846 92.9902,176.665 91.3169,174.467 89.6674,172.25 88.0419,170.016 86.4406,167.765 84.8635,165.495 83.311,163.208 \n",
       "  81.7831,160.902 80.2801,158.579 78.802,156.237 77.3491,153.877 75.9215,151.499 74.5193,149.103 73.1427,146.688 71.7918,144.255 70.4669,141.803 69.1679,139.332 \n",
       "  67.8951,136.844 66.6486,134.336 65.4286,131.809 64.2351,129.264 63.0682,126.7 61.9282,124.117 60.8152,121.515 59.7291,118.894 58.6702,116.253 57.6386,113.594 \n",
       "  56.6344,110.915 55.6577,108.217 54.7086,105.499 53.7871,102.762 52.8935,100.006 52.0277,97.2296 51.19,94.4337 50.3803,91.6181 49.5987,88.7827 48.8454,85.9274 \n",
       "  48.1204,83.0522 47.4238,80.1569 46.7556,77.2416 46.1161,74.3061 45.5051,71.3504 44.9227,68.3744 44.3692,65.378 43.8444,62.3612 43.3484,59.3239 42.8814,56.266 \n",
       "  42.4433,53.1874 42.0342,50.0881 41.6541,46.9679 41.3031,43.8269 40.9813,40.6649 40.6886,37.4819 40.425,34.2777 40.1907,31.0524 39.9856,27.8057 39.8098,24.5377 \n",
       "  39.6633,21.2482 39.546,17.9372 39.458,14.6045 39.3994,11.2502 39.3701,7.87402 \n",
       "  \"/>\n",
       "<polygon clip-path=\"url(#clip00)\" points=\"\n",
       "501.61,58.994 574.126,58.994 574.126,28.754 501.61,28.754 \n",
       "  \" fill=\"#ffffff\" fill-opacity=\"1\"/>\n",
       "<polyline clip-path=\"url(#clip00)\" style=\"stroke:#000000; stroke-width:1; stroke-opacity:1; fill:none\" points=\"\n",
       "  501.61,58.994 574.126,58.994 574.126,28.754 501.61,28.754 501.61,58.994 \n",
       "  \"/>\n",
       "<polyline clip-path=\"url(#clip00)\" style=\"stroke:#009af9; stroke-width:1; stroke-opacity:1; fill:none\" points=\"\n",
       "  507.61,43.874 543.61,43.874 \n",
       "  \"/>\n",
       "<g clip-path=\"url(#clip00)\">\n",
       "<text style=\"fill:#000000; fill-opacity:1; font-family:Arial,Helvetica Neue,Helvetica,sans-serif; font-size:12; text-anchor:start;\" transform=\"rotate(0, 549.61, 48.374)\" x=\"549.61\" y=\"48.374\">y1</text>\n",
       "</g>\n",
       "</svg>\n"
      ]
     },
     "execution_count": 4,
     "metadata": {},
     "output_type": "execute_result"
    }
   ],
   "source": [
    "S = Legendre() ⊕ JacobiWeight(0.5,0.,Ultraspherical(1))\n",
    "x = Fun()\n",
    "Q½= LeftIntegral(S,0.5)\n",
    "\n",
    "y = (I+exp(-(1+x)/2)*Q½[exp((1+x)/2)])\\exp(-(1+x)/2)\n",
    "plot(y)"
   ]
  },
  {
   "cell_type": "markdown",
   "metadata": {},
   "source": [
    "We can compare with the exact solution:"
   ]
  },
  {
   "cell_type": "code",
   "execution_count": 5,
   "metadata": {},
   "outputs": [
    {
     "data": {
      "text/plain": [
       "6.448265749471209e-15"
      ]
     },
     "execution_count": 5,
     "metadata": {},
     "output_type": "execute_result"
    }
   ],
   "source": [
    "norm(y-exp((1+x)/2)*erfc(sqrt(1+x)))"
   ]
  }
 ],
 "metadata": {
  "anaconda-cloud": {},
  "kernelspec": {
   "display_name": "Julia 0.5.2",
   "language": "julia",
   "name": "julia-0.5"
  },
  "language_info": {
   "file_extension": ".jl",
   "mimetype": "application/julia",
   "name": "julia",
   "version": "0.5.2"
  }
 },
 "nbformat": 4,
 "nbformat_minor": 1
}
