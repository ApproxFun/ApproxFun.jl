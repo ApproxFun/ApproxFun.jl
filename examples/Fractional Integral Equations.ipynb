{
 "cells": [
  {
   "cell_type": "code",
   "execution_count": 1,
   "metadata": {
    "collapsed": false
   },
   "outputs": [],
   "source": [
    "using Plots, ApproxFun"
   ]
  },
  {
   "cell_type": "markdown",
   "metadata": {},
   "source": [
    "We demonstrate numerical solution of the examples in [Hale & Olver 2016]:\n",
    "\n",
    "##### Example 1\n",
    "\n",
    "$$y(x) + {}_{-1} {\\cal Q}_x^{1/2} y(x) = 1$$"
   ]
  },
  {
   "cell_type": "code",
   "execution_count": 2,
   "metadata": {
    "collapsed": false
   },
   "outputs": [
    {
     "name": "stdout",
     "output_type": "stream",
     "text": [
      "[Plots.jl] Initializing backend: gr\n"
     ]
    },
    {
     "data": {
      "text/html": [
       "<?xml version=\"1.0\" encoding=\"utf-8\"?>\n",
       "<svg xmlns=\"http://www.w3.org/2000/svg\" xmlns:xlink=\"http://www.w3.org/1999/xlink\" width=\"600\" height=\"400\" viewBox=\"0 0 600 400\">\n",
       "<defs>\n",
       "  <clipPath id=\"clip00\">\n",
       "    <rect x=\"0\" y=\"0\" width=\"600\" height=\"400\"/>\n",
       "  </clipPath>\n",
       "</defs>\n",
       "<polygon clip-path=\"url(#clip00)\" points=\"\n",
       "0,400 600,400 600,0 0,0 \n",
       "  \" fill=\"#ffffff\" fill-opacity=\"1\"/>\n",
       "<defs>\n",
       "  <clipPath id=\"clip01\">\n",
       "    <rect x=\"120\" y=\"0\" width=\"421\" height=\"400\"/>\n",
       "  </clipPath>\n",
       "</defs>\n",
       "<polygon clip-path=\"url(#clip00)\" points=\"\n",
       "35.4331,377.078 596.063,377.078 596.063,3.93701 35.4331,3.93701 \n",
       "  \" fill=\"#ffffff\" fill-opacity=\"1\"/>\n",
       "<defs>\n",
       "  <clipPath id=\"clip02\">\n",
       "    <rect x=\"35\" y=\"3\" width=\"561\" height=\"374\"/>\n",
       "  </clipPath>\n",
       "</defs>\n",
       "<polyline clip-path=\"url(#clip02)\" style=\"stroke:#00002d; stroke-width:0.8; stroke-opacity:0.5; fill:none\" stroke-dasharray=\"1, 2\" points=\"\n",
       "  175.583,371.481 175.583,9.53412 \n",
       "  \"/>\n",
       "<polyline clip-path=\"url(#clip02)\" style=\"stroke:#00002d; stroke-width:0.8; stroke-opacity:0.5; fill:none\" stroke-dasharray=\"1, 2\" points=\"\n",
       "  315.748,371.481 315.748,9.53412 \n",
       "  \"/>\n",
       "<polyline clip-path=\"url(#clip02)\" style=\"stroke:#00002d; stroke-width:0.8; stroke-opacity:0.5; fill:none\" stroke-dasharray=\"1, 2\" points=\"\n",
       "  455.913,371.481 455.913,9.53412 \n",
       "  \"/>\n",
       "<polyline clip-path=\"url(#clip02)\" style=\"stroke:#00002d; stroke-width:0.8; stroke-opacity:0.5; fill:none\" stroke-dasharray=\"1, 2\" points=\"\n",
       "  43.8425,283.854 587.654,283.854 \n",
       "  \"/>\n",
       "<polyline clip-path=\"url(#clip02)\" style=\"stroke:#00002d; stroke-width:0.8; stroke-opacity:0.5; fill:none\" stroke-dasharray=\"1, 2\" points=\"\n",
       "  43.8425,141.564 587.654,141.564 \n",
       "  \"/>\n",
       "<polyline clip-path=\"url(#clip02)\" style=\"stroke:#00002d; stroke-width:0.8; stroke-opacity:1; fill:none\" points=\"\n",
       "  35.4331,377.078 596.063,377.078 \n",
       "  \"/>\n",
       "<polyline clip-path=\"url(#clip02)\" style=\"stroke:#00002d; stroke-width:0.8; stroke-opacity:1; fill:none\" points=\"\n",
       "  35.4331,3.93701 596.063,3.93701 \n",
       "  \"/>\n",
       "<polyline clip-path=\"url(#clip02)\" style=\"stroke:#00002d; stroke-width:0.8; stroke-opacity:1; fill:none\" points=\"\n",
       "  175.583,377.078 175.583,371.481 \n",
       "  \"/>\n",
       "<polyline clip-path=\"url(#clip02)\" style=\"stroke:#00002d; stroke-width:0.8; stroke-opacity:1; fill:none\" points=\"\n",
       "  175.583,3.93701 175.583,9.53412 \n",
       "  \"/>\n",
       "<polyline clip-path=\"url(#clip02)\" style=\"stroke:#00002d; stroke-width:0.8; stroke-opacity:1; fill:none\" points=\"\n",
       "  315.748,377.078 315.748,371.481 \n",
       "  \"/>\n",
       "<polyline clip-path=\"url(#clip02)\" style=\"stroke:#00002d; stroke-width:0.8; stroke-opacity:1; fill:none\" points=\"\n",
       "  315.748,3.93701 315.748,9.53412 \n",
       "  \"/>\n",
       "<polyline clip-path=\"url(#clip02)\" style=\"stroke:#00002d; stroke-width:0.8; stroke-opacity:1; fill:none\" points=\"\n",
       "  455.913,377.078 455.913,371.481 \n",
       "  \"/>\n",
       "<polyline clip-path=\"url(#clip02)\" style=\"stroke:#00002d; stroke-width:0.8; stroke-opacity:1; fill:none\" points=\"\n",
       "  455.913,3.93701 455.913,9.53412 \n",
       "  \"/>\n",
       "<polyline clip-path=\"url(#clip02)\" style=\"stroke:#00002d; stroke-width:0.8; stroke-opacity:1; fill:none\" points=\"\n",
       "  35.4331,377.078 35.4331,3.93701 \n",
       "  \"/>\n",
       "<polyline clip-path=\"url(#clip02)\" style=\"stroke:#00002d; stroke-width:0.8; stroke-opacity:1; fill:none\" points=\"\n",
       "  596.063,377.078 596.063,3.93701 \n",
       "  \"/>\n",
       "<polyline clip-path=\"url(#clip02)\" style=\"stroke:#00002d; stroke-width:0.8; stroke-opacity:1; fill:none\" points=\"\n",
       "  35.4331,283.854 43.8425,283.854 \n",
       "  \"/>\n",
       "<polyline clip-path=\"url(#clip02)\" style=\"stroke:#00002d; stroke-width:0.8; stroke-opacity:1; fill:none\" points=\"\n",
       "  596.063,283.854 587.654,283.854 \n",
       "  \"/>\n",
       "<polyline clip-path=\"url(#clip02)\" style=\"stroke:#00002d; stroke-width:0.8; stroke-opacity:1; fill:none\" points=\"\n",
       "  35.4331,141.564 43.8425,141.564 \n",
       "  \"/>\n",
       "<polyline clip-path=\"url(#clip02)\" style=\"stroke:#00002d; stroke-width:0.8; stroke-opacity:1; fill:none\" points=\"\n",
       "  596.063,141.564 587.654,141.564 \n",
       "  \"/>\n",
       "<g clip-path=\"url(#clip00)\">\n",
       "<text style=\"fill:#00002d; fill-opacity:1; font-family:Arial,Helvetica Neue,Helvetica,sans-serif; font-size:12; text-anchor:middle;\" transform=\"rotate(0, 175.583, 393.878)\" x=\"175.583\" y=\"393.878\">-0.5</text>\n",
       "</g>\n",
       "<g clip-path=\"url(#clip00)\">\n",
       "<text style=\"fill:#00002d; fill-opacity:1; font-family:Arial,Helvetica Neue,Helvetica,sans-serif; font-size:12; text-anchor:middle;\" transform=\"rotate(0, 315.748, 393.878)\" x=\"315.748\" y=\"393.878\">0.0</text>\n",
       "</g>\n",
       "<g clip-path=\"url(#clip00)\">\n",
       "<text style=\"fill:#00002d; fill-opacity:1; font-family:Arial,Helvetica Neue,Helvetica,sans-serif; font-size:12; text-anchor:middle;\" transform=\"rotate(0, 455.913, 393.878)\" x=\"455.913\" y=\"393.878\">0.5</text>\n",
       "</g>\n",
       "<g clip-path=\"url(#clip00)\">\n",
       "<text style=\"fill:#00002d; fill-opacity:1; font-family:Arial,Helvetica Neue,Helvetica,sans-serif; font-size:12; text-anchor:end;\" transform=\"rotate(0, 29.4331, 288.354)\" x=\"29.4331\" y=\"288.354\">0.50</text>\n",
       "</g>\n",
       "<g clip-path=\"url(#clip00)\">\n",
       "<text style=\"fill:#00002d; fill-opacity:1; font-family:Arial,Helvetica Neue,Helvetica,sans-serif; font-size:12; text-anchor:end;\" transform=\"rotate(0, 29.4331, 146.064)\" x=\"29.4331\" y=\"146.064\">0.75</text>\n",
       "</g>\n",
       "<polyline clip-path=\"url(#clip02)\" style=\"stroke:#0099ff; stroke-width:0.8; stroke-opacity:1; fill:none\" points=\"\n",
       "  35.4331,3.93701 35.5528,13.0836 35.7922,21.9974 36.1513,30.6849 36.6297,39.1526 37.2274,47.4067 37.9441,55.4532 38.7794,63.298 39.733,70.9468 40.8046,78.4052 \n",
       "  41.9936,85.6784 43.2995,92.7717 44.7218,99.69 46.2599,106.438 47.9131,113.021 49.6807,119.444 51.5619,125.71 53.5561,131.824 55.6622,137.791 57.8794,143.614 \n",
       "  60.2068,149.297 62.6433,154.844 65.1879,160.259 67.8396,165.545 70.5972,170.706 73.4595,175.746 76.4253,180.667 79.4933,185.472 82.6622,190.166 85.9307,194.75 \n",
       "  89.2974,199.228 92.7608,203.602 96.3195,207.875 99.9719,212.051 103.716,216.13 107.552,220.116 111.476,224.012 115.487,227.819 119.584,231.54 123.765,235.177 \n",
       "  128.027,238.732 132.37,242.208 136.791,245.605 141.289,248.927 145.861,252.175 150.506,255.35 155.221,258.456 160.005,261.492 164.855,264.462 169.77,267.366 \n",
       "  174.748,270.207 179.785,272.985 184.881,275.702 190.032,278.361 195.237,280.961 200.494,283.505 205.8,285.993 211.153,288.427 216.55,290.809 221.99,293.139 \n",
       "  227.47,295.419 232.988,297.649 238.541,299.831 244.126,301.966 249.743,304.055 255.388,306.099 261.058,308.099 266.752,310.056 272.467,311.97 278.2,313.844 \n",
       "  283.95,315.676 289.713,317.47 295.487,319.224 301.27,320.94 307.058,322.62 312.851,324.262 318.645,325.869 324.438,327.441 330.226,328.979 336.009,330.483 \n",
       "  341.783,331.954 347.546,333.393 353.296,334.799 359.029,336.175 364.744,337.52 370.438,338.835 376.108,340.12 381.753,341.377 387.37,342.605 392.956,343.805 \n",
       "  398.509,344.978 404.026,346.124 409.506,347.243 414.946,348.336 420.344,349.403 425.696,350.446 431.002,351.463 436.259,352.456 441.464,353.425 446.615,354.37 \n",
       "  451.711,355.292 456.748,356.191 461.726,357.067 466.641,357.921 471.491,358.753 476.275,359.564 480.99,360.353 485.635,361.121 490.207,361.868 494.705,362.594 \n",
       "  499.126,363.301 503.469,363.987 507.732,364.654 511.912,365.301 516.009,365.928 520.02,366.537 523.944,367.127 527.78,367.698 531.524,368.251 535.177,368.785 \n",
       "  538.735,369.302 542.199,369.8 545.565,370.281 548.834,370.745 552.003,371.19 555.071,371.619 558.037,372.031 560.899,372.425 563.656,372.803 566.308,373.165 \n",
       "  568.853,373.509 571.289,373.837 573.617,374.149 575.834,374.445 577.94,374.724 579.934,374.988 581.815,375.235 583.583,375.467 585.236,375.683 586.774,375.883 \n",
       "  588.197,376.067 589.503,376.236 590.691,376.39 591.763,376.528 592.717,376.65 593.552,376.757 594.269,376.849 594.866,376.925 595.345,376.986 595.704,377.032 \n",
       "  595.943,377.063 596.063,377.078 \n",
       "  \"/>\n",
       "<polygon clip-path=\"url(#clip00)\" points=\"\n",
       "505.547,55.057 578.063,55.057 578.063,24.817 505.547,24.817 \n",
       "  \" fill=\"#ffffff\" fill-opacity=\"1\"/>\n",
       "<polyline clip-path=\"url(#clip00)\" style=\"stroke:#00002d; stroke-width:0.8; stroke-opacity:1; fill:none\" points=\"\n",
       "  505.547,55.057 578.063,55.057 578.063,24.817 505.547,24.817 505.547,55.057 \n",
       "  \"/>\n",
       "<polyline clip-path=\"url(#clip00)\" style=\"stroke:#0099ff; stroke-width:0.8; stroke-opacity:1; fill:none\" points=\"\n",
       "  511.547,39.937 547.547,39.937 \n",
       "  \"/>\n",
       "<g clip-path=\"url(#clip00)\">\n",
       "<text style=\"fill:#00002d; fill-opacity:1; font-family:Arial,Helvetica Neue,Helvetica,sans-serif; font-size:12; text-anchor:start;\" transform=\"rotate(0, 553.547, 44.437)\" x=\"553.547\" y=\"44.437\">y1</text>\n",
       "</g>\n",
       "</svg>\n"
      ]
     },
     "execution_count": 2,
     "metadata": {},
     "output_type": "execute_result"
    }
   ],
   "source": [
    "S=Legendre()⊕JacobiWeight(0.5,0.,Ultraspherical(1))\n",
    "Q½=LeftIntegral(S,0.5)\n",
    "\n",
    "y=(I+Q½)\\1\n",
    "plot(y)"
   ]
  },
  {
   "cell_type": "markdown",
   "metadata": {},
   "source": [
    "We can compare with the exact solution:"
   ]
  },
  {
   "cell_type": "code",
   "execution_count": 3,
   "metadata": {
    "collapsed": false
   },
   "outputs": [
    {
     "data": {
      "text/plain": [
       "6.16319575427255e-15"
      ]
     },
     "execution_count": 3,
     "metadata": {},
     "output_type": "execute_result"
    }
   ],
   "source": [
    "x=Fun()\n",
    "norm(exp(1+x)*erfc(sqrt(1+x))-y)"
   ]
  },
  {
   "cell_type": "markdown",
   "metadata": {},
   "source": [
    "##### Example 2\n",
    "\n",
    "$$y + e^{-{1+x \\over 2}} {}_{-1}Q_x^{1/2}[e^{1+x \\over 2} y] = e^{-{1+x \\over 2}}$$"
   ]
  },
  {
   "cell_type": "code",
   "execution_count": 4,
   "metadata": {
    "collapsed": false
   },
   "outputs": [
    {
     "ename": "LoadError",
     "evalue": "LoadError: MethodError: `banded_axpy!` has no method matching banded_axpy!(::Float64, ::SubArray{Float64,2,BandedMatrices.BandedMatrix{Float64},Tuple{UnitRange{Int64},UnitRange{Int64}},0}, ::SubArray{Float64,2,BandedMatrices.BandedMatrix{Float64},Tuple{UnitRange{Int64},Colon},0})\nClosest candidates are:\n  banded_axpy!(::Number, ::Any, !Matched::BandedMatrices.BandedMatrix{T})\n  banded_axpy!{T}(::Number, ::Any, !Matched::Union{SubArray{T,2,BandedMatrices.BandedMatrix{T},Tuple{Colon,Colon},LD},SubArray{T,2,BandedMatrices.BandedMatrix{T},Tuple{Colon,UnitRange{Int64}},LD},SubArray{T,2,BandedMatrices.BandedMatrix{T},Tuple{UnitRange{Int64},UnitRange{Int64}},LD}})\nwhile loading In[4], in expression starting on line 5",
     "output_type": "error",
     "traceback": [
      "LoadError: MethodError: `banded_axpy!` has no method matching banded_axpy!(::Float64, ::SubArray{Float64,2,BandedMatrices.BandedMatrix{Float64},Tuple{UnitRange{Int64},UnitRange{Int64}},0}, ::SubArray{Float64,2,BandedMatrices.BandedMatrix{Float64},Tuple{UnitRange{Int64},Colon},0})\nClosest candidates are:\n  banded_axpy!(::Number, ::Any, !Matched::BandedMatrices.BandedMatrix{T})\n  banded_axpy!{T}(::Number, ::Any, !Matched::Union{SubArray{T,2,BandedMatrices.BandedMatrix{T},Tuple{Colon,Colon},LD},SubArray{T,2,BandedMatrices.BandedMatrix{T},Tuple{Colon,UnitRange{Int64}},LD},SubArray{T,2,BandedMatrices.BandedMatrix{T},Tuple{UnitRange{Int64},UnitRange{Int64}},LD}})\nwhile loading In[4], in expression starting on line 5",
      "",
      " in axpy! at /Users/solver/.julia/v0.4/BandedMatrices/src/blas.jl:501",
      " in convert at /Users/solver/.julia/v0.4/ApproxFun/src/Spaces/Chebyshev/ChebyshevOperators.jl:183",
      " in convert at /Users/solver/.julia/v0.4/ApproxFun/src/Operators/Operator.jl:401",
      " in getindex at /Users/solver/.julia/v0.4/ApproxFun/src/Spaces/Chebyshev/ChebyshevOperators.jl:125",
      " in getindex at /Users/solver/.julia/v0.4/ApproxFun/src/Operators/general/InterlaceOperator.jl:334",
      " in default_bandedmatrix at /Users/solver/.julia/v0.4/ApproxFun/src/Extras/fastops.jl:15",
      " in convert at /Users/solver/.julia/v0.4/ApproxFun/src/Operators/Operator.jl:401",
      " in convert at /Users/solver/.julia/v0.4/ApproxFun/src/Operators/Operator.jl:238",
      " in getindex at /Users/solver/.julia/v0.4/ApproxFun/src/Operators/Operator.jl:132",
      " in convert at /Users/solver/.julia/v0.4/ApproxFun/src/Operators/general/algebra.jl:431",
      " in convert at /Users/solver/.julia/v0.4/ApproxFun/src/Operators/Operator.jl:401",
      " in axpy! at /Users/solver/.julia/v0.4/ApproxFun/src/Operators/Operator.jl:351",
      " in axpy! at /Users/solver/.julia/v0.4/ApproxFun/src/Operators/general/algebra.jl:122",
      " in resizedata! at /Users/solver/.julia/v0.4/ApproxFun/src/Operators/general/CachedOperator.jl:136",
      " in resizedata! at /Users/solver/.julia/v0.4/ApproxFun/src/Extras/fastcache.jl:516",
      " in Ac_mul_Bpars at /Users/solver/.julia/v0.4/ApproxFun/src/Extras/fastcache.jl:691",
      " in linsolve at /Users/solver/.julia/v0.4/ApproxFun/src/Operators/qrfact.jl:124",
      " in linsolve at /Users/solver/.julia/v0.4/ApproxFun/src/Operators/qrfact.jl:139",
      " in linsolve at /Users/solver/.julia/v0.4/ApproxFun/src/Operators/linsolve.jl:13",
      " in \\ at /Users/solver/.julia/v0.4/ApproxFun/src/Operators/linsolve.jl:33"
     ]
    }
   ],
   "source": [
    "S=Legendre()⊕JacobiWeight(0.5,0.,Ultraspherical(1))\n",
    "x=Fun()\n",
    "Q½=LeftIntegral(S,0.5)\n",
    "\n",
    "y=(I+exp(-(1+x)/2)*Q½[exp((1+x)/2)])\\exp(-(1+x)/2)\n",
    "plot(y)"
   ]
  },
  {
   "cell_type": "markdown",
   "metadata": {},
   "source": [
    "We can compare with the exact solution:"
   ]
  },
  {
   "cell_type": "code",
   "execution_count": 5,
   "metadata": {
    "collapsed": false
   },
   "outputs": [
    {
     "data": {
      "text/plain": [
       "0.22694696817585283"
      ]
     },
     "execution_count": 5,
     "metadata": {},
     "output_type": "execute_result"
    }
   ],
   "source": [
    "norm(y-exp((1+x)/2)*erfc(sqrt(1+x)))"
   ]
  }
 ],
 "metadata": {
  "anaconda-cloud": {},
  "kernelspec": {
   "display_name": "Julia 0.5.0",
   "language": "julia",
   "name": "julia-0.5"
  },
  "language_info": {
   "file_extension": ".jl",
   "mimetype": "application/julia",
   "name": "julia",
   "version": "0.5.0"
  }
 },
 "nbformat": 4,
 "nbformat_minor": 0
}
