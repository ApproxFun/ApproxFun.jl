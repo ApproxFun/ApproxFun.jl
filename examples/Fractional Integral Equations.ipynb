{
 "cells": [
  {
   "cell_type": "code",
   "execution_count": 1,
   "metadata": {
    "collapsed": false
   },
   "outputs": [],
   "source": [
    "using Plots, ApproxFun"
   ]
  },
  {
   "cell_type": "markdown",
   "metadata": {},
   "source": [
    "We demonstrate numerical solution of the examples in [Hale & Olver 2016]:\n",
    "\n",
    "##### Example 1\n",
    "\n",
    "$$y(x) + {}_{-1} {\\cal Q}_x^{1/2} y(x) = 1$$"
   ]
  },
  {
   "cell_type": "code",
   "execution_count": 2,
   "metadata": {
    "collapsed": false
   },
   "outputs": [
    {
     "data": {
      "text/html": [
       "<?xml version=\"1.0\" encoding=\"utf-8\"?>\n",
       "<svg xmlns=\"http://www.w3.org/2000/svg\" xmlns:xlink=\"http://www.w3.org/1999/xlink\" width=\"600\" height=\"400\" viewBox=\"0 0 600 400\">\n",
       "<defs>\n",
       "  <clipPath id=\"clip00\">\n",
       "    <rect x=\"0\" y=\"0\" width=\"600\" height=\"400\"/>\n",
       "  </clipPath>\n",
       "</defs>\n",
       "<polygon clip-path=\"url(#clip00)\" points=\"\n",
       "0,400 600,400 600,0 0,0 \n",
       "  \" fill=\"#ffffff\" fill-opacity=\"1\"/>\n",
       "<defs>\n",
       "  <clipPath id=\"clip01\">\n",
       "    <rect x=\"120\" y=\"0\" width=\"421\" height=\"400\"/>\n",
       "  </clipPath>\n",
       "</defs>\n",
       "<polygon clip-path=\"url(#clip00)\" points=\"\n",
       "43.4296,381.015 596.063,381.015 596.063,3.93701 43.4296,3.93701 \n",
       "  \" fill=\"#ffffff\" fill-opacity=\"1\"/>\n",
       "<defs>\n",
       "  <clipPath id=\"clip02\">\n",
       "    <rect x=\"43\" y=\"3\" width=\"553\" height=\"378\"/>\n",
       "  </clipPath>\n",
       "</defs>\n",
       "<polyline clip-path=\"url(#clip02)\" style=\"stroke:#00002d; stroke-width:0.8; stroke-opacity:0.5; fill:none\" stroke-dasharray=\"1, 2\" points=\"\n",
       "  181.581,375.359 181.581,9.59318 \n",
       "  \"/>\n",
       "<polyline clip-path=\"url(#clip02)\" style=\"stroke:#00002d; stroke-width:0.8; stroke-opacity:0.5; fill:none\" stroke-dasharray=\"1, 2\" points=\"\n",
       "  319.746,375.359 319.746,9.59318 \n",
       "  \"/>\n",
       "<polyline clip-path=\"url(#clip02)\" style=\"stroke:#00002d; stroke-width:0.8; stroke-opacity:0.5; fill:none\" stroke-dasharray=\"1, 2\" points=\"\n",
       "  457.912,375.359 457.912,9.59318 \n",
       "  \"/>\n",
       "<polyline clip-path=\"url(#clip02)\" style=\"stroke:#00002d; stroke-width:0.8; stroke-opacity:0.5; fill:none\" stroke-dasharray=\"1, 2\" points=\"\n",
       "  51.7191,286.807 587.773,286.807 \n",
       "  \"/>\n",
       "<polyline clip-path=\"url(#clip02)\" style=\"stroke:#00002d; stroke-width:0.8; stroke-opacity:0.5; fill:none\" stroke-dasharray=\"1, 2\" points=\"\n",
       "  51.7191,143.016 587.773,143.016 \n",
       "  \"/>\n",
       "<polyline clip-path=\"url(#clip02)\" style=\"stroke:#00002d; stroke-width:0.8; stroke-opacity:1; fill:none\" points=\"\n",
       "  43.4296,381.015 596.063,381.015 \n",
       "  \"/>\n",
       "<polyline clip-path=\"url(#clip02)\" style=\"stroke:#00002d; stroke-width:0.8; stroke-opacity:1; fill:none\" points=\"\n",
       "  181.581,381.015 181.581,375.359 \n",
       "  \"/>\n",
       "<polyline clip-path=\"url(#clip02)\" style=\"stroke:#00002d; stroke-width:0.8; stroke-opacity:1; fill:none\" points=\"\n",
       "  319.746,381.015 319.746,375.359 \n",
       "  \"/>\n",
       "<polyline clip-path=\"url(#clip02)\" style=\"stroke:#00002d; stroke-width:0.8; stroke-opacity:1; fill:none\" points=\"\n",
       "  457.912,381.015 457.912,375.359 \n",
       "  \"/>\n",
       "<polyline clip-path=\"url(#clip02)\" style=\"stroke:#00002d; stroke-width:0.8; stroke-opacity:1; fill:none\" points=\"\n",
       "  43.4296,381.015 43.4296,3.93701 \n",
       "  \"/>\n",
       "<polyline clip-path=\"url(#clip02)\" style=\"stroke:#00002d; stroke-width:0.8; stroke-opacity:1; fill:none\" points=\"\n",
       "  43.4296,286.807 51.7191,286.807 \n",
       "  \"/>\n",
       "<polyline clip-path=\"url(#clip02)\" style=\"stroke:#00002d; stroke-width:0.8; stroke-opacity:1; fill:none\" points=\"\n",
       "  43.4296,143.016 51.7191,143.016 \n",
       "  \"/>\n",
       "<g clip-path=\"url(#clip00)\">\n",
       "<text style=\"fill:#00002d; fill-opacity:1; font-family:Arial,Helvetica Neue,Helvetica,sans-serif; font-size:12; text-anchor:middle;\" transform=\"rotate(0, 181.581, 393.015)\" x=\"181.581\" y=\"393.015\">-0.5</text>\n",
       "</g>\n",
       "<g clip-path=\"url(#clip00)\">\n",
       "<text style=\"fill:#00002d; fill-opacity:1; font-family:Arial,Helvetica Neue,Helvetica,sans-serif; font-size:12; text-anchor:middle;\" transform=\"rotate(0, 319.746, 393.015)\" x=\"319.746\" y=\"393.015\">0.0</text>\n",
       "</g>\n",
       "<g clip-path=\"url(#clip00)\">\n",
       "<text style=\"fill:#00002d; fill-opacity:1; font-family:Arial,Helvetica Neue,Helvetica,sans-serif; font-size:12; text-anchor:middle;\" transform=\"rotate(0, 457.912, 393.015)\" x=\"457.912\" y=\"393.015\">0.5</text>\n",
       "</g>\n",
       "<g clip-path=\"url(#clip00)\">\n",
       "<text style=\"fill:#00002d; fill-opacity:1; font-family:Arial,Helvetica Neue,Helvetica,sans-serif; font-size:12; text-anchor:end;\" transform=\"rotate(0, 42.2296, 291.307)\" x=\"42.2296\" y=\"291.307\">0.50</text>\n",
       "</g>\n",
       "<g clip-path=\"url(#clip00)\">\n",
       "<text style=\"fill:#00002d; fill-opacity:1; font-family:Arial,Helvetica Neue,Helvetica,sans-serif; font-size:12; text-anchor:end;\" transform=\"rotate(0, 42.2296, 147.516)\" x=\"42.2296\" y=\"147.516\">0.75</text>\n",
       "</g>\n",
       "<polyline clip-path=\"url(#clip02)\" style=\"stroke:#0099ff; stroke-width:0.8; stroke-opacity:1; fill:none\" points=\"\n",
       "  43.4296,3.93701 43.5476,13.1801 43.7836,22.1879 44.1375,30.9671 44.6091,39.5241 45.1983,47.8653 45.9047,55.9967 46.7282,63.9243 47.6682,71.6539 48.7244,79.1909 \n",
       "  49.8965,86.5409 51.1838,93.709 52.5858,100.7 54.1019,107.52 55.7316,114.172 57.474,120.663 59.3284,126.995 61.2941,133.174 63.3701,139.203 65.5557,145.087 \n",
       "  67.8499,150.83 70.2517,156.436 72.76,161.908 75.3739,167.25 78.0921,172.466 80.9136,177.559 83.8371,182.531 86.8613,187.388 89.9851,192.131 93.207,196.763 \n",
       "  96.5256,201.288 99.9396,205.709 103.448,210.027 107.048,214.246 110.739,218.369 114.519,222.397 118.388,226.334 122.342,230.181 126.38,233.941 130.501,237.617 \n",
       "  134.703,241.21 138.984,244.722 143.342,248.155 147.776,251.512 152.283,254.794 156.861,258.003 161.509,261.141 166.225,264.21 171.006,267.211 175.851,270.146 \n",
       "  180.757,273.016 185.723,275.824 190.745,278.57 195.823,281.256 200.954,283.884 206.136,286.454 211.366,288.969 216.643,291.429 221.963,293.836 227.326,296.19 \n",
       "  232.727,298.494 238.166,300.748 243.64,302.953 249.146,305.111 254.683,307.222 260.247,309.287 265.837,311.308 271.449,313.286 277.083,315.22 282.734,317.113 \n",
       "  288.402,318.966 294.082,320.778 299.774,322.551 305.474,324.285 311.181,325.982 316.891,327.642 322.602,329.266 328.312,330.855 334.018,332.408 339.718,333.928 \n",
       "  345.41,335.415 351.091,336.869 356.758,338.29 362.41,339.68 368.043,341.04 373.656,342.368 379.246,343.668 384.81,344.937 390.346,346.178 395.853,347.391 \n",
       "  401.326,348.576 406.765,349.734 412.167,350.865 417.529,351.97 422.85,353.048 428.126,354.102 433.357,355.13 438.538,356.133 443.669,357.112 448.747,358.068 \n",
       "  453.77,358.999 458.736,359.908 463.642,360.793 468.487,361.656 473.268,362.497 477.983,363.316 482.632,364.113 487.21,364.889 491.717,365.644 496.15,366.378 \n",
       "  500.509,367.092 504.79,367.786 508.991,368.459 513.112,369.113 517.151,369.748 521.105,370.363 524.973,370.959 528.754,371.536 532.445,372.095 536.045,372.635 \n",
       "  539.553,373.157 542.967,373.661 546.286,374.147 549.507,374.615 552.631,375.065 555.656,375.499 558.579,375.915 561.4,376.313 564.119,376.695 566.733,377.06 \n",
       "  569.241,377.409 571.643,377.74 573.937,378.055 576.122,378.354 578.199,378.636 580.164,378.903 582.019,379.153 583.761,379.387 585.391,379.605 586.907,379.807 \n",
       "  588.309,379.994 589.596,380.164 590.768,380.319 591.824,380.459 592.764,380.583 593.588,380.691 594.294,380.783 594.883,380.861 595.355,380.922 595.709,380.969 \n",
       "  595.945,380.999 596.063,381.015 \n",
       "  \"/>\n",
       "<polygon clip-path=\"url(#clip00)\" points=\"\n",
       "505.547,55.057 578.063,55.057 578.063,24.817 505.547,24.817 \n",
       "  \" fill=\"#ffffff\" fill-opacity=\"1\"/>\n",
       "<polyline clip-path=\"url(#clip00)\" style=\"stroke:#00002d; stroke-width:0.8; stroke-opacity:1; fill:none\" points=\"\n",
       "  505.547,55.057 578.063,55.057 578.063,24.817 505.547,24.817 505.547,55.057 \n",
       "  \"/>\n",
       "<polyline clip-path=\"url(#clip00)\" style=\"stroke:#0099ff; stroke-width:0.8; stroke-opacity:1; fill:none\" points=\"\n",
       "  511.547,39.937 547.547,39.937 \n",
       "  \"/>\n",
       "<g clip-path=\"url(#clip00)\">\n",
       "<text style=\"fill:#00002d; fill-opacity:1; font-family:Arial,Helvetica Neue,Helvetica,sans-serif; font-size:12; text-anchor:start;\" transform=\"rotate(0, 553.547, 44.437)\" x=\"553.547\" y=\"44.437\">y1</text>\n",
       "</g>\n",
       "</svg>\n"
      ]
     },
     "execution_count": 2,
     "metadata": {},
     "output_type": "execute_result"
    }
   ],
   "source": [
    "S=Legendre()⊕JacobiWeight(0.5,0.,Ultraspherical(1))\n",
    "Q½=LeftIntegral(S,0.5)\n",
    "\n",
    "y=(I+Q½)\\1\n",
    "plot(y)"
   ]
  },
  {
   "cell_type": "markdown",
   "metadata": {},
   "source": [
    "We can compare with the exact solution:"
   ]
  },
  {
   "cell_type": "code",
   "execution_count": 3,
   "metadata": {
    "collapsed": false
   },
   "outputs": [
    {
     "data": {
      "text/plain": [
       "6.163195754272549e-15"
      ]
     },
     "execution_count": 3,
     "metadata": {},
     "output_type": "execute_result"
    }
   ],
   "source": [
    "x=Fun()\n",
    "norm(exp(1+x)*erfc(sqrt(1+x))-y)"
   ]
  },
  {
   "cell_type": "markdown",
   "metadata": {},
   "source": [
    "##### Example 2\n",
    "\n",
    "$$y + e^{-{1+x \\over 2}} {}_{-1}Q_x^{1/2}[e^{1+x \\over 2} y] = e^{-{1+x \\over 2}}$$"
   ]
  },
  {
   "cell_type": "code",
   "execution_count": 4,
   "metadata": {
    "collapsed": false
   },
   "outputs": [
    {
     "data": {
      "text/html": [
       "<?xml version=\"1.0\" encoding=\"utf-8\"?>\n",
       "<svg xmlns=\"http://www.w3.org/2000/svg\" xmlns:xlink=\"http://www.w3.org/1999/xlink\" width=\"600\" height=\"400\" viewBox=\"0 0 600 400\">\n",
       "<defs>\n",
       "  <clipPath id=\"clip00\">\n",
       "    <rect x=\"0\" y=\"0\" width=\"600\" height=\"400\"/>\n",
       "  </clipPath>\n",
       "</defs>\n",
       "<polygon clip-path=\"url(#clip00)\" points=\"\n",
       "0,400 600,400 600,0 0,0 \n",
       "  \" fill=\"#ffffff\" fill-opacity=\"1\"/>\n",
       "<defs>\n",
       "  <clipPath id=\"clip01\">\n",
       "    <rect x=\"120\" y=\"0\" width=\"421\" height=\"400\"/>\n",
       "  </clipPath>\n",
       "</defs>\n",
       "<polygon clip-path=\"url(#clip00)\" points=\"\n",
       "43.4296,381.015 596.063,381.015 596.063,3.93701 43.4296,3.93701 \n",
       "  \" fill=\"#ffffff\" fill-opacity=\"1\"/>\n",
       "<defs>\n",
       "  <clipPath id=\"clip02\">\n",
       "    <rect x=\"43\" y=\"3\" width=\"553\" height=\"378\"/>\n",
       "  </clipPath>\n",
       "</defs>\n",
       "<polyline clip-path=\"url(#clip02)\" style=\"stroke:#00002d; stroke-width:0.8; stroke-opacity:0.5; fill:none\" stroke-dasharray=\"1, 2\" points=\"\n",
       "  181.586,375.359 181.586,9.59318 \n",
       "  \"/>\n",
       "<polyline clip-path=\"url(#clip02)\" style=\"stroke:#00002d; stroke-width:0.8; stroke-opacity:0.5; fill:none\" stroke-dasharray=\"1, 2\" points=\"\n",
       "  319.746,375.359 319.746,9.59318 \n",
       "  \"/>\n",
       "<polyline clip-path=\"url(#clip02)\" style=\"stroke:#00002d; stroke-width:0.8; stroke-opacity:0.5; fill:none\" stroke-dasharray=\"1, 2\" points=\"\n",
       "  457.906,375.359 457.906,9.59318 \n",
       "  \"/>\n",
       "<polyline clip-path=\"url(#clip02)\" style=\"stroke:#00002d; stroke-width:0.8; stroke-opacity:0.5; fill:none\" stroke-dasharray=\"1, 2\" points=\"\n",
       "  51.7191,326.408 587.773,326.408 \n",
       "  \"/>\n",
       "<polyline clip-path=\"url(#clip02)\" style=\"stroke:#00002d; stroke-width:0.8; stroke-opacity:0.5; fill:none\" stroke-dasharray=\"1, 2\" points=\"\n",
       "  51.7191,218.332 587.773,218.332 \n",
       "  \"/>\n",
       "<polyline clip-path=\"url(#clip02)\" style=\"stroke:#00002d; stroke-width:0.8; stroke-opacity:0.5; fill:none\" stroke-dasharray=\"1, 2\" points=\"\n",
       "  51.7191,110.256 587.773,110.256 \n",
       "  \"/>\n",
       "<polyline clip-path=\"url(#clip02)\" style=\"stroke:#00002d; stroke-width:0.8; stroke-opacity:1; fill:none\" points=\"\n",
       "  43.4296,381.015 596.063,381.015 \n",
       "  \"/>\n",
       "<polyline clip-path=\"url(#clip02)\" style=\"stroke:#00002d; stroke-width:0.8; stroke-opacity:1; fill:none\" points=\"\n",
       "  181.586,381.015 181.586,375.359 \n",
       "  \"/>\n",
       "<polyline clip-path=\"url(#clip02)\" style=\"stroke:#00002d; stroke-width:0.8; stroke-opacity:1; fill:none\" points=\"\n",
       "  319.746,381.015 319.746,375.359 \n",
       "  \"/>\n",
       "<polyline clip-path=\"url(#clip02)\" style=\"stroke:#00002d; stroke-width:0.8; stroke-opacity:1; fill:none\" points=\"\n",
       "  457.906,381.015 457.906,375.359 \n",
       "  \"/>\n",
       "<polyline clip-path=\"url(#clip02)\" style=\"stroke:#00002d; stroke-width:0.8; stroke-opacity:1; fill:none\" points=\"\n",
       "  43.4296,381.015 43.4296,3.93701 \n",
       "  \"/>\n",
       "<polyline clip-path=\"url(#clip02)\" style=\"stroke:#00002d; stroke-width:0.8; stroke-opacity:1; fill:none\" points=\"\n",
       "  43.4296,326.408 51.7191,326.408 \n",
       "  \"/>\n",
       "<polyline clip-path=\"url(#clip02)\" style=\"stroke:#00002d; stroke-width:0.8; stroke-opacity:1; fill:none\" points=\"\n",
       "  43.4296,218.332 51.7191,218.332 \n",
       "  \"/>\n",
       "<polyline clip-path=\"url(#clip02)\" style=\"stroke:#00002d; stroke-width:0.8; stroke-opacity:1; fill:none\" points=\"\n",
       "  43.4296,110.256 51.7191,110.256 \n",
       "  \"/>\n",
       "<g clip-path=\"url(#clip00)\">\n",
       "<text style=\"fill:#00002d; fill-opacity:1; font-family:Arial,Helvetica Neue,Helvetica,sans-serif; font-size:12; text-anchor:middle;\" transform=\"rotate(0, 181.586, 393.015)\" x=\"181.586\" y=\"393.015\">-0.5</text>\n",
       "</g>\n",
       "<g clip-path=\"url(#clip00)\">\n",
       "<text style=\"fill:#00002d; fill-opacity:1; font-family:Arial,Helvetica Neue,Helvetica,sans-serif; font-size:12; text-anchor:middle;\" transform=\"rotate(0, 319.746, 393.015)\" x=\"319.746\" y=\"393.015\">0.0</text>\n",
       "</g>\n",
       "<g clip-path=\"url(#clip00)\">\n",
       "<text style=\"fill:#00002d; fill-opacity:1; font-family:Arial,Helvetica Neue,Helvetica,sans-serif; font-size:12; text-anchor:middle;\" transform=\"rotate(0, 457.906, 393.015)\" x=\"457.906\" y=\"393.015\">0.5</text>\n",
       "</g>\n",
       "<g clip-path=\"url(#clip00)\">\n",
       "<text style=\"fill:#00002d; fill-opacity:1; font-family:Arial,Helvetica Neue,Helvetica,sans-serif; font-size:12; text-anchor:end;\" transform=\"rotate(0, 42.2296, 330.908)\" x=\"42.2296\" y=\"330.908\">0.25</text>\n",
       "</g>\n",
       "<g clip-path=\"url(#clip00)\">\n",
       "<text style=\"fill:#00002d; fill-opacity:1; font-family:Arial,Helvetica Neue,Helvetica,sans-serif; font-size:12; text-anchor:end;\" transform=\"rotate(0, 42.2296, 222.832)\" x=\"42.2296\" y=\"222.832\">0.50</text>\n",
       "</g>\n",
       "<g clip-path=\"url(#clip00)\">\n",
       "<text style=\"fill:#00002d; fill-opacity:1; font-family:Arial,Helvetica Neue,Helvetica,sans-serif; font-size:12; text-anchor:end;\" transform=\"rotate(0, 42.2296, 114.756)\" x=\"42.2296\" y=\"114.756\">0.75</text>\n",
       "</g>\n",
       "<polyline clip-path=\"url(#clip02)\" style=\"stroke:#0099ff; stroke-width:0.8; stroke-opacity:1; fill:none\" points=\"\n",
       "  43.4296,3.93701 43.4583,7.43283 43.5158,10.9063 43.602,14.3575 43.717,17.7865 43.8607,21.1935 44.0331,24.5784 44.2341,27.9414 44.4639,31.2826 44.7222,34.602 \n",
       "  45.0092,37.8998 45.3248,41.176 45.6689,44.4306 46.0415,47.6639 46.4426,50.8758 46.8722,54.0664 47.3301,57.2358 47.8164,60.3841 48.3309,63.5114 48.8737,66.6177 \n",
       "  49.4447,69.7031 50.0438,72.7676 50.671,75.8115 51.3261,78.8346 52.0092,81.8371 52.7202,84.8191 53.4589,87.7807 54.2253,90.7218 55.0194,93.6426 55.841,96.5431 \n",
       "  56.69,99.4235 57.5664,102.284 58.4701,105.124 59.401,107.944 60.3589,110.744 61.3439,113.525 62.3557,116.285 63.3943,119.026 64.4596,121.747 65.5514,124.449 \n",
       "  66.6697,127.131 67.8143,129.794 68.9852,132.437 70.1821,135.061 71.405,137.666 72.6537,140.251 73.9281,142.818 75.2281,145.365 76.5535,147.893 77.9043,150.402 \n",
       "  79.2802,152.893 80.6811,155.364 82.1069,157.817 83.5574,160.252 85.0325,162.667 86.532,165.064 88.0558,167.443 89.6036,169.803 91.1754,172.145 92.771,174.468 \n",
       "  94.3903,176.774 96.0329,179.061 97.6988,181.33 99.3879,183.581 101.1,185.814 102.835,188.03 104.592,190.227 106.371,192.407 108.173,194.569 109.997,196.713 \n",
       "  111.843,198.84 113.71,200.95 115.599,203.042 117.509,205.116 119.44,207.174 121.392,209.214 123.364,211.237 125.357,213.244 127.371,215.233 129.404,217.205 \n",
       "  131.457,219.161 133.529,221.1 135.621,223.022 137.732,224.927 139.862,226.816 142.011,228.689 144.178,230.545 146.364,232.385 148.567,234.209 150.789,236.016 \n",
       "  153.028,237.808 155.284,239.583 157.557,241.343 159.848,243.087 162.155,244.815 164.478,246.527 166.817,248.224 169.173,249.906 171.544,251.571 173.93,253.222 \n",
       "  176.332,254.857 178.748,256.477 181.18,258.082 183.625,259.672 186.085,261.247 188.559,262.808 191.046,264.353 193.547,265.884 196.061,267.4 198.587,268.902 \n",
       "  201.127,270.389 203.678,271.862 206.242,273.32 208.818,274.765 211.405,276.195 214.003,277.611 216.612,279.014 219.233,280.402 221.863,281.777 224.504,283.138 \n",
       "  227.155,284.485 229.815,285.819 232.484,287.14 235.163,288.447 237.851,289.741 240.547,291.022 243.251,292.29 245.963,293.545 248.683,294.787 251.41,296.016 \n",
       "  254.145,297.232 256.886,298.436 259.634,299.627 262.388,300.806 265.148,301.973 267.914,303.127 270.685,304.269 273.461,305.398 276.242,306.516 279.027,307.622 \n",
       "  281.817,308.716 284.611,309.798 287.408,310.869 290.209,311.928 293.013,312.975 295.819,314.012 298.628,315.036 301.44,316.05 304.253,317.052 307.068,318.043 \n",
       "  309.884,319.024 312.701,319.993 315.519,320.951 318.337,321.899 321.156,322.836 323.974,323.763 326.792,324.679 329.609,325.585 332.425,326.48 335.24,327.365 \n",
       "  338.053,328.24 340.864,329.105 343.673,329.96 346.48,330.805 349.284,331.64 352.084,332.466 354.882,333.281 357.675,334.087 360.465,334.884 363.251,335.671 \n",
       "  366.032,336.449 368.808,337.218 371.579,337.977 374.345,338.728 377.105,339.469 379.859,340.201 382.606,340.925 385.348,341.639 388.082,342.345 390.809,343.042 \n",
       "  393.529,343.731 396.242,344.411 398.946,345.083 401.642,345.746 404.329,346.401 407.008,347.048 409.678,347.686 412.338,348.317 414.989,348.94 417.629,349.554 \n",
       "  420.26,350.161 422.88,350.76 425.489,351.351 428.088,351.935 430.675,352.511 433.251,353.079 435.814,353.64 438.366,354.194 440.905,354.74 443.432,355.279 \n",
       "  445.946,355.811 448.447,356.335 450.934,356.853 453.408,357.363 455.867,357.867 458.313,358.364 460.744,358.853 463.161,359.336 465.562,359.813 467.949,360.282 \n",
       "  470.32,360.746 472.675,361.202 475.015,361.652 477.338,362.096 479.645,362.533 481.935,362.964 484.209,363.389 486.465,363.807 488.704,364.219 490.925,364.626 \n",
       "  493.129,365.026 495.314,365.42 497.481,365.808 499.63,366.19 501.76,366.567 503.871,366.938 505.963,367.302 508.036,367.662 510.089,368.015 512.122,368.363 \n",
       "  514.135,368.705 516.128,369.042 518.101,369.374 520.053,369.7 521.984,370.02 523.894,370.335 525.782,370.645 527.65,370.95 529.495,371.249 531.319,371.543 \n",
       "  533.121,371.832 534.901,372.116 536.658,372.395 538.393,372.669 540.105,372.938 541.794,373.202 543.46,373.461 545.102,373.715 546.722,373.964 548.317,374.209 \n",
       "  549.889,374.448 551.437,374.683 552.961,374.913 554.46,375.139 555.935,375.36 557.386,375.576 558.811,375.788 560.212,375.995 561.588,376.197 562.939,376.395 \n",
       "  564.264,376.589 565.564,376.778 566.839,376.963 568.088,377.143 569.31,377.319 570.507,377.491 571.678,377.658 572.823,377.821 573.941,377.98 575.033,378.134 \n",
       "  576.098,378.284 577.137,378.43 578.149,378.572 579.134,378.71 580.092,378.843 581.022,378.972 581.926,379.098 582.803,379.219 583.652,379.336 584.473,379.449 \n",
       "  585.267,379.558 586.034,379.663 586.772,379.764 587.483,379.861 588.166,379.954 588.822,380.043 589.449,380.128 590.048,380.209 590.619,380.286 591.162,380.359 \n",
       "  591.676,380.428 592.162,380.494 592.62,380.555 593.05,380.613 593.451,380.667 593.824,380.716 594.168,380.762 594.483,380.805 594.77,380.843 595.029,380.877 \n",
       "  595.258,380.908 595.46,380.935 595.632,380.958 595.776,380.977 595.891,380.992 595.977,381.003 596.034,381.011 596.063,381.015 \n",
       "  \"/>\n",
       "<polygon clip-path=\"url(#clip00)\" points=\"\n",
       "505.547,55.057 578.063,55.057 578.063,24.817 505.547,24.817 \n",
       "  \" fill=\"#ffffff\" fill-opacity=\"1\"/>\n",
       "<polyline clip-path=\"url(#clip00)\" style=\"stroke:#00002d; stroke-width:0.8; stroke-opacity:1; fill:none\" points=\"\n",
       "  505.547,55.057 578.063,55.057 578.063,24.817 505.547,24.817 505.547,55.057 \n",
       "  \"/>\n",
       "<polyline clip-path=\"url(#clip00)\" style=\"stroke:#0099ff; stroke-width:0.8; stroke-opacity:1; fill:none\" points=\"\n",
       "  511.547,39.937 547.547,39.937 \n",
       "  \"/>\n",
       "<g clip-path=\"url(#clip00)\">\n",
       "<text style=\"fill:#00002d; fill-opacity:1; font-family:Arial,Helvetica Neue,Helvetica,sans-serif; font-size:12; text-anchor:start;\" transform=\"rotate(0, 553.547, 44.437)\" x=\"553.547\" y=\"44.437\">y1</text>\n",
       "</g>\n",
       "</svg>\n"
      ]
     },
     "execution_count": 4,
     "metadata": {},
     "output_type": "execute_result"
    }
   ],
   "source": [
    "S=Legendre()⊕JacobiWeight(0.5,0.,Ultraspherical(1))\n",
    "x=Fun()\n",
    "Q½=LeftIntegral(S,0.5)\n",
    "\n",
    "y=(I+exp(-(1+x)/2)*Q½[exp((1+x)/2)])\\exp(-(1+x)/2)\n",
    "plot(y)"
   ]
  },
  {
   "cell_type": "markdown",
   "metadata": {},
   "source": [
    "We can compare with the exact solution:"
   ]
  },
  {
   "cell_type": "code",
   "execution_count": 5,
   "metadata": {
    "collapsed": false
   },
   "outputs": [
    {
     "data": {
      "text/plain": [
       "1.9540529229951736e-15"
      ]
     },
     "execution_count": 5,
     "metadata": {},
     "output_type": "execute_result"
    }
   ],
   "source": [
    "norm(y-exp((1+x)/2)*erfc(sqrt(1+x)))"
   ]
  }
 ],
 "metadata": {
  "anaconda-cloud": {},
  "kernelspec": {
   "display_name": "Julia 0.5.0",
   "language": "julia",
   "name": "julia-0.5"
  },
  "language_info": {
   "file_extension": ".jl",
   "mimetype": "application/julia",
   "name": "julia",
   "version": "0.5.0"
  }
 },
 "nbformat": 4,
 "nbformat_minor": 0
}
