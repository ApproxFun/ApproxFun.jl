{
 "cells": [
  {
   "cell_type": "code",
   "execution_count": 1,
   "metadata": {
    "collapsed": false
   },
   "outputs": [],
   "source": [
    "using Plots, ApproxFun"
   ]
  },
  {
   "cell_type": "markdown",
   "metadata": {},
   "source": [
    "We demonstrate numerical solution of the examples in [Hale & Olver 2016]:\n",
    "\n",
    "##### Example 1\n",
    "\n",
    "$$y(x) + {}_{-1} {\\cal Q}_x^{1/2} y(x) = 1$$"
   ]
  },
  {
   "cell_type": "code",
   "execution_count": 2,
   "metadata": {
    "collapsed": false
   },
   "outputs": [
    {
     "data": {
      "text/html": [
       "<?xml version=\"1.0\" encoding=\"utf-8\"?>\n",
       "<svg xmlns=\"http://www.w3.org/2000/svg\" xmlns:xlink=\"http://www.w3.org/1999/xlink\" width=\"600\" height=\"400\" viewBox=\"0 0 600 400\">\n",
       "<defs>\n",
       "  <clipPath id=\"clip00\">\n",
       "    <rect x=\"0\" y=\"0\" width=\"600\" height=\"400\"/>\n",
       "  </clipPath>\n",
       "</defs>\n",
       "<polygon clip-path=\"url(#clip00)\" points=\"\n",
       "0,400 600,400 600,0 0,0 \n",
       "  \" fill=\"#ffffff\" fill-opacity=\"1\"/>\n",
       "<defs>\n",
       "  <clipPath id=\"clip01\">\n",
       "    <rect x=\"120\" y=\"0\" width=\"421\" height=\"400\"/>\n",
       "  </clipPath>\n",
       "</defs>\n",
       "<polygon clip-path=\"url(#clip00)\" points=\"\n",
       "39.4926,384.952 596.063,384.952 596.063,3.93701 39.4926,3.93701 \n",
       "  \" fill=\"#ffffff\" fill-opacity=\"1\"/>\n",
       "<defs>\n",
       "  <clipPath id=\"clip02\">\n",
       "    <rect x=\"39\" y=\"3\" width=\"557\" height=\"382\"/>\n",
       "  </clipPath>\n",
       "</defs>\n",
       "<polyline clip-path=\"url(#clip02)\" style=\"stroke:#00002d; stroke-width:0.8; stroke-opacity:0.5; fill:none\" stroke-dasharray=\"1, 2\" points=\"\n",
       "  178.628,379.237 178.628,9.65223 \n",
       "  \"/>\n",
       "<polyline clip-path=\"url(#clip02)\" style=\"stroke:#00002d; stroke-width:0.8; stroke-opacity:0.5; fill:none\" stroke-dasharray=\"1, 2\" points=\"\n",
       "  317.778,379.237 317.778,9.65223 \n",
       "  \"/>\n",
       "<polyline clip-path=\"url(#clip02)\" style=\"stroke:#00002d; stroke-width:0.8; stroke-opacity:0.5; fill:none\" stroke-dasharray=\"1, 2\" points=\"\n",
       "  456.928,379.237 456.928,9.65223 \n",
       "  \"/>\n",
       "<polyline clip-path=\"url(#clip02)\" style=\"stroke:#00002d; stroke-width:0.8; stroke-opacity:0.5; fill:none\" stroke-dasharray=\"1, 2\" points=\"\n",
       "  47.8411,289.761 587.714,289.761 \n",
       "  \"/>\n",
       "<polyline clip-path=\"url(#clip02)\" style=\"stroke:#00002d; stroke-width:0.8; stroke-opacity:0.5; fill:none\" stroke-dasharray=\"1, 2\" points=\"\n",
       "  47.8411,144.468 587.714,144.468 \n",
       "  \"/>\n",
       "<polyline clip-path=\"url(#clip02)\" style=\"stroke:#00002d; stroke-width:0.8; stroke-opacity:1; fill:none\" points=\"\n",
       "  39.4926,384.952 596.063,384.952 \n",
       "  \"/>\n",
       "<polyline clip-path=\"url(#clip02)\" style=\"stroke:#00002d; stroke-width:0.8; stroke-opacity:1; fill:none\" points=\"\n",
       "  178.628,384.952 178.628,379.237 \n",
       "  \"/>\n",
       "<polyline clip-path=\"url(#clip02)\" style=\"stroke:#00002d; stroke-width:0.8; stroke-opacity:1; fill:none\" points=\"\n",
       "  317.778,384.952 317.778,379.237 \n",
       "  \"/>\n",
       "<polyline clip-path=\"url(#clip02)\" style=\"stroke:#00002d; stroke-width:0.8; stroke-opacity:1; fill:none\" points=\"\n",
       "  456.928,384.952 456.928,379.237 \n",
       "  \"/>\n",
       "<polyline clip-path=\"url(#clip02)\" style=\"stroke:#00002d; stroke-width:0.8; stroke-opacity:1; fill:none\" points=\"\n",
       "  39.4926,384.952 39.4926,3.93701 \n",
       "  \"/>\n",
       "<polyline clip-path=\"url(#clip02)\" style=\"stroke:#00002d; stroke-width:0.8; stroke-opacity:1; fill:none\" points=\"\n",
       "  39.4926,289.761 47.8411,289.761 \n",
       "  \"/>\n",
       "<polyline clip-path=\"url(#clip02)\" style=\"stroke:#00002d; stroke-width:0.8; stroke-opacity:1; fill:none\" points=\"\n",
       "  39.4926,144.468 47.8411,144.468 \n",
       "  \"/>\n",
       "<g clip-path=\"url(#clip00)\">\n",
       "<text style=\"fill:#00002d; fill-opacity:1; font-family:Arial,Helvetica Neue,Helvetica,sans-serif; font-size:12; text-anchor:middle;\" transform=\"rotate(0, 178.628, 396.952)\" x=\"178.628\" y=\"396.952\">-0.5</text>\n",
       "</g>\n",
       "<g clip-path=\"url(#clip00)\">\n",
       "<text style=\"fill:#00002d; fill-opacity:1; font-family:Arial,Helvetica Neue,Helvetica,sans-serif; font-size:12; text-anchor:middle;\" transform=\"rotate(0, 317.778, 396.952)\" x=\"317.778\" y=\"396.952\">0.0</text>\n",
       "</g>\n",
       "<g clip-path=\"url(#clip00)\">\n",
       "<text style=\"fill:#00002d; fill-opacity:1; font-family:Arial,Helvetica Neue,Helvetica,sans-serif; font-size:12; text-anchor:middle;\" transform=\"rotate(0, 456.928, 396.952)\" x=\"456.928\" y=\"396.952\">0.5</text>\n",
       "</g>\n",
       "<g clip-path=\"url(#clip00)\">\n",
       "<text style=\"fill:#00002d; fill-opacity:1; font-family:Arial,Helvetica Neue,Helvetica,sans-serif; font-size:12; text-anchor:end;\" transform=\"rotate(0, 38.2926, 294.261)\" x=\"38.2926\" y=\"294.261\">0.50</text>\n",
       "</g>\n",
       "<g clip-path=\"url(#clip00)\">\n",
       "<text style=\"fill:#00002d; fill-opacity:1; font-family:Arial,Helvetica Neue,Helvetica,sans-serif; font-size:12; text-anchor:end;\" transform=\"rotate(0, 38.2926, 148.968)\" x=\"38.2926\" y=\"148.968\">0.75</text>\n",
       "</g>\n",
       "<polyline clip-path=\"url(#clip02)\" style=\"stroke:#0099ff; stroke-width:0.8; stroke-opacity:1; fill:none\" points=\"\n",
       "  596.063,384.952 595.944,384.936 595.706,384.905 595.35,384.858 594.875,384.796 594.282,384.718 593.57,384.624 592.741,384.515 591.794,384.39 590.73,384.249 \n",
       "  589.55,384.093 588.254,383.92 586.842,383.732 585.315,383.527 583.673,383.307 581.919,383.07 580.051,382.818 578.071,382.549 575.98,382.263 573.779,381.961 \n",
       "  571.469,381.643 569.05,381.308 566.524,380.956 563.891,380.587 561.154,380.201 558.312,379.798 555.368,379.378 552.322,378.94 549.176,378.485 545.931,378.012 \n",
       "  542.589,377.521 539.15,377.012 535.617,376.484 531.992,375.939 528.274,375.374 524.467,374.791 520.571,374.189 516.589,373.567 512.522,372.926 508.371,372.265 \n",
       "  504.139,371.585 499.828,370.884 495.439,370.163 490.974,369.421 486.435,368.658 481.823,367.874 477.142,367.068 472.393,366.241 467.578,365.391 462.698,364.519 \n",
       "  457.757,363.624 452.756,362.706 447.698,361.765 442.583,360.8 437.416,359.81 432.197,358.797 426.93,357.758 421.616,356.693 416.257,355.604 410.857,354.487 \n",
       "  405.417,353.345 399.939,352.175 394.426,350.977 388.881,349.752 383.305,348.498 377.701,347.215 372.071,345.902 366.419,344.559 360.745,343.186 355.053,341.781 \n",
       "  349.346,340.345 343.625,338.876 337.892,337.374 332.151,335.838 326.404,334.268 320.654,332.663 314.902,331.022 309.151,329.344 303.404,327.63 297.663,325.877 \n",
       "  291.931,324.086 286.21,322.255 280.502,320.383 274.81,318.47 269.137,316.516 263.484,314.517 257.855,312.475 252.251,310.388 246.675,308.255 241.129,306.075 \n",
       "  235.617,303.847 230.139,301.569 224.699,299.242 219.298,296.862 213.94,294.431 208.626,291.945 203.358,289.404 198.14,286.807 192.972,284.152 187.858,281.437 \n",
       "  182.799,278.662 177.798,275.826 172.857,272.925 167.978,269.959 163.163,266.927 158.413,263.826 153.732,260.656 149.121,257.413 144.582,254.097 140.117,250.705 \n",
       "  135.728,247.236 131.416,243.687 127.184,240.057 123.034,236.343 118.967,232.543 114.985,228.656 111.089,224.678 107.281,220.608 103.564,216.442 99.9381,212.179 \n",
       "  96.4052,207.815 92.9669,203.349 89.6246,198.777 86.3797,194.096 83.2337,189.303 80.1879,184.396 77.2436,179.371 74.402,174.226 71.6644,168.955 69.032,163.557 \n",
       "  66.5057,158.028 64.0869,152.364 61.7763,146.561 59.5752,140.615 57.4843,134.523 55.5046,128.28 53.637,121.881 51.8822,115.323 50.241,108.601 48.714,101.711 \n",
       "  47.302,94.6463 46.0055,87.4033 44.8252,79.9766 43.7614,72.3609 42.8146,64.5507 41.9854,56.5403 41.2739,48.3239 40.6805,39.8957 40.2056,31.2493 39.8491,22.3785 \n",
       "  39.6114,13.2766 39.4926,3.93701 \n",
       "  \"/>\n",
       "<polygon clip-path=\"url(#clip00)\" points=\"\n",
       "505.547,55.057 578.063,55.057 578.063,24.817 505.547,24.817 \n",
       "  \" fill=\"#ffffff\" fill-opacity=\"1\"/>\n",
       "<polyline clip-path=\"url(#clip00)\" style=\"stroke:#00002d; stroke-width:0.8; stroke-opacity:1; fill:none\" points=\"\n",
       "  505.547,55.057 578.063,55.057 578.063,24.817 505.547,24.817 505.547,55.057 \n",
       "  \"/>\n",
       "<polyline clip-path=\"url(#clip00)\" style=\"stroke:#0099ff; stroke-width:0.8; stroke-opacity:1; fill:none\" points=\"\n",
       "  511.547,39.937 547.547,39.937 \n",
       "  \"/>\n",
       "<g clip-path=\"url(#clip00)\">\n",
       "<text style=\"fill:#00002d; fill-opacity:1; font-family:Arial,Helvetica Neue,Helvetica,sans-serif; font-size:12; text-anchor:start;\" transform=\"rotate(0, 553.547, 44.437)\" x=\"553.547\" y=\"44.437\">y1</text>\n",
       "</g>\n",
       "</svg>\n"
      ]
     },
     "execution_count": 2,
     "metadata": {},
     "output_type": "execute_result"
    }
   ],
   "source": [
    "S=Legendre()⊕JacobiWeight(0.5,0.,Ultraspherical(1))\n",
    "Q½=LeftIntegral(S,0.5)\n",
    "\n",
    "y=(I+Q½)\\1\n",
    "plot(y)"
   ]
  },
  {
   "cell_type": "markdown",
   "metadata": {},
   "source": [
    "We can compare with the exact solution:"
   ]
  },
  {
   "cell_type": "code",
   "execution_count": 3,
   "metadata": {
    "collapsed": false
   },
   "outputs": [
    {
     "data": {
      "text/plain": [
       "6.16319575427255e-15"
      ]
     },
     "execution_count": 3,
     "metadata": {},
     "output_type": "execute_result"
    }
   ],
   "source": [
    "x=Fun()\n",
    "norm(exp(1+x)*erfc(sqrt(1+x))-y)"
   ]
  },
  {
   "cell_type": "markdown",
   "metadata": {},
   "source": [
    "##### Example 2\n",
    "\n",
    "$$y + e^{-{1+x \\over 2}} {}_{-1}Q_x^{1/2}[e^{1+x \\over 2} y] = e^{-{1+x \\over 2}}$$"
   ]
  },
  {
   "cell_type": "code",
   "execution_count": 4,
   "metadata": {
    "collapsed": false
   },
   "outputs": [
    {
     "data": {
      "text/html": [
       "<?xml version=\"1.0\" encoding=\"utf-8\"?>\n",
       "<svg xmlns=\"http://www.w3.org/2000/svg\" xmlns:xlink=\"http://www.w3.org/1999/xlink\" width=\"600\" height=\"400\" viewBox=\"0 0 600 400\">\n",
       "<defs>\n",
       "  <clipPath id=\"clip00\">\n",
       "    <rect x=\"0\" y=\"0\" width=\"600\" height=\"400\"/>\n",
       "  </clipPath>\n",
       "</defs>\n",
       "<polygon clip-path=\"url(#clip00)\" points=\"\n",
       "0,400 600,400 600,0 0,0 \n",
       "  \" fill=\"#ffffff\" fill-opacity=\"1\"/>\n",
       "<defs>\n",
       "  <clipPath id=\"clip01\">\n",
       "    <rect x=\"120\" y=\"0\" width=\"421\" height=\"400\"/>\n",
       "  </clipPath>\n",
       "</defs>\n",
       "<polygon clip-path=\"url(#clip00)\" points=\"\n",
       "39.4926,384.952 596.063,384.952 596.063,3.93701 39.4926,3.93701 \n",
       "  \" fill=\"#ffffff\" fill-opacity=\"1\"/>\n",
       "<defs>\n",
       "  <clipPath id=\"clip02\">\n",
       "    <rect x=\"39\" y=\"3\" width=\"557\" height=\"382\"/>\n",
       "  </clipPath>\n",
       "</defs>\n",
       "<polyline clip-path=\"url(#clip02)\" style=\"stroke:#00002d; stroke-width:0.8; stroke-opacity:0.5; fill:none\" stroke-dasharray=\"1, 2\" points=\"\n",
       "  178.633,379.237 178.633,9.65223 \n",
       "  \"/>\n",
       "<polyline clip-path=\"url(#clip02)\" style=\"stroke:#00002d; stroke-width:0.8; stroke-opacity:0.5; fill:none\" stroke-dasharray=\"1, 2\" points=\"\n",
       "  317.778,379.237 317.778,9.65223 \n",
       "  \"/>\n",
       "<polyline clip-path=\"url(#clip02)\" style=\"stroke:#00002d; stroke-width:0.8; stroke-opacity:0.5; fill:none\" stroke-dasharray=\"1, 2\" points=\"\n",
       "  456.922,379.237 456.922,9.65223 \n",
       "  \"/>\n",
       "<polyline clip-path=\"url(#clip02)\" style=\"stroke:#00002d; stroke-width:0.8; stroke-opacity:0.5; fill:none\" stroke-dasharray=\"1, 2\" points=\"\n",
       "  47.8411,329.775 587.714,329.775 \n",
       "  \"/>\n",
       "<polyline clip-path=\"url(#clip02)\" style=\"stroke:#00002d; stroke-width:0.8; stroke-opacity:0.5; fill:none\" stroke-dasharray=\"1, 2\" points=\"\n",
       "  47.8411,220.571 587.714,220.571 \n",
       "  \"/>\n",
       "<polyline clip-path=\"url(#clip02)\" style=\"stroke:#00002d; stroke-width:0.8; stroke-opacity:0.5; fill:none\" stroke-dasharray=\"1, 2\" points=\"\n",
       "  47.8411,111.367 587.714,111.367 \n",
       "  \"/>\n",
       "<polyline clip-path=\"url(#clip02)\" style=\"stroke:#00002d; stroke-width:0.8; stroke-opacity:1; fill:none\" points=\"\n",
       "  39.4926,384.952 596.063,384.952 \n",
       "  \"/>\n",
       "<polyline clip-path=\"url(#clip02)\" style=\"stroke:#00002d; stroke-width:0.8; stroke-opacity:1; fill:none\" points=\"\n",
       "  178.633,384.952 178.633,379.237 \n",
       "  \"/>\n",
       "<polyline clip-path=\"url(#clip02)\" style=\"stroke:#00002d; stroke-width:0.8; stroke-opacity:1; fill:none\" points=\"\n",
       "  317.778,384.952 317.778,379.237 \n",
       "  \"/>\n",
       "<polyline clip-path=\"url(#clip02)\" style=\"stroke:#00002d; stroke-width:0.8; stroke-opacity:1; fill:none\" points=\"\n",
       "  456.922,384.952 456.922,379.237 \n",
       "  \"/>\n",
       "<polyline clip-path=\"url(#clip02)\" style=\"stroke:#00002d; stroke-width:0.8; stroke-opacity:1; fill:none\" points=\"\n",
       "  39.4926,384.952 39.4926,3.93701 \n",
       "  \"/>\n",
       "<polyline clip-path=\"url(#clip02)\" style=\"stroke:#00002d; stroke-width:0.8; stroke-opacity:1; fill:none\" points=\"\n",
       "  39.4926,329.775 47.8411,329.775 \n",
       "  \"/>\n",
       "<polyline clip-path=\"url(#clip02)\" style=\"stroke:#00002d; stroke-width:0.8; stroke-opacity:1; fill:none\" points=\"\n",
       "  39.4926,220.571 47.8411,220.571 \n",
       "  \"/>\n",
       "<polyline clip-path=\"url(#clip02)\" style=\"stroke:#00002d; stroke-width:0.8; stroke-opacity:1; fill:none\" points=\"\n",
       "  39.4926,111.367 47.8411,111.367 \n",
       "  \"/>\n",
       "<g clip-path=\"url(#clip00)\">\n",
       "<text style=\"fill:#00002d; fill-opacity:1; font-family:Arial,Helvetica Neue,Helvetica,sans-serif; font-size:12; text-anchor:middle;\" transform=\"rotate(0, 178.633, 396.952)\" x=\"178.633\" y=\"396.952\">-0.5</text>\n",
       "</g>\n",
       "<g clip-path=\"url(#clip00)\">\n",
       "<text style=\"fill:#00002d; fill-opacity:1; font-family:Arial,Helvetica Neue,Helvetica,sans-serif; font-size:12; text-anchor:middle;\" transform=\"rotate(0, 317.778, 396.952)\" x=\"317.778\" y=\"396.952\">0.0</text>\n",
       "</g>\n",
       "<g clip-path=\"url(#clip00)\">\n",
       "<text style=\"fill:#00002d; fill-opacity:1; font-family:Arial,Helvetica Neue,Helvetica,sans-serif; font-size:12; text-anchor:middle;\" transform=\"rotate(0, 456.922, 396.952)\" x=\"456.922\" y=\"396.952\">0.5</text>\n",
       "</g>\n",
       "<g clip-path=\"url(#clip00)\">\n",
       "<text style=\"fill:#00002d; fill-opacity:1; font-family:Arial,Helvetica Neue,Helvetica,sans-serif; font-size:12; text-anchor:end;\" transform=\"rotate(0, 38.2926, 334.275)\" x=\"38.2926\" y=\"334.275\">0.25</text>\n",
       "</g>\n",
       "<g clip-path=\"url(#clip00)\">\n",
       "<text style=\"fill:#00002d; fill-opacity:1; font-family:Arial,Helvetica Neue,Helvetica,sans-serif; font-size:12; text-anchor:end;\" transform=\"rotate(0, 38.2926, 225.071)\" x=\"38.2926\" y=\"225.071\">0.50</text>\n",
       "</g>\n",
       "<g clip-path=\"url(#clip00)\">\n",
       "<text style=\"fill:#00002d; fill-opacity:1; font-family:Arial,Helvetica Neue,Helvetica,sans-serif; font-size:12; text-anchor:end;\" transform=\"rotate(0, 38.2926, 115.867)\" x=\"38.2926\" y=\"115.867\">0.75</text>\n",
       "</g>\n",
       "<polyline clip-path=\"url(#clip02)\" style=\"stroke:#0099ff; stroke-width:0.8; stroke-opacity:1; fill:none\" points=\"\n",
       "  596.063,384.952 596.034,384.948 595.976,384.94 595.889,384.929 595.774,384.913 595.629,384.894 595.455,384.871 595.253,384.844 595.021,384.813 594.761,384.778 \n",
       "  594.472,384.739 594.154,384.697 593.808,384.65 593.432,384.6 593.028,384.546 592.596,384.487 592.135,384.425 591.645,384.359 591.127,384.289 590.58,384.215 \n",
       "  590.005,384.137 589.402,384.055 588.77,383.97 588.11,383.88 587.422,383.786 586.706,383.688 585.962,383.586 585.19,383.48 584.391,383.37 583.563,383.255 \n",
       "  582.708,383.137 581.825,383.015 580.915,382.888 579.978,382.757 579.013,382.623 578.021,382.483 577.002,382.34 575.956,382.193 574.883,382.041 573.784,381.885 \n",
       "  572.657,381.724 571.504,381.56 570.325,381.391 569.12,381.217 567.888,381.04 566.631,380.857 565.347,380.671 564.038,380.48 562.703,380.284 561.343,380.084 \n",
       "  559.957,379.879 558.546,379.67 557.11,379.456 555.649,379.238 554.164,379.014 552.654,378.787 551.119,378.554 549.56,378.317 547.977,378.074 546.37,377.827 \n",
       "  544.739,377.576 543.085,377.319 541.407,377.057 539.706,376.791 537.982,376.519 536.235,376.242 534.465,375.96 532.673,375.673 530.858,375.381 529.021,375.084 \n",
       "  527.162,374.782 525.282,374.474 523.379,374.161 521.456,373.842 519.511,373.518 517.545,373.189 515.559,372.854 513.552,372.514 511.524,372.168 509.476,371.816 \n",
       "  507.409,371.459 505.321,371.096 503.215,370.728 501.088,370.353 498.943,369.973 496.779,369.586 494.596,369.194 492.395,368.796 490.176,368.392 487.939,367.981 \n",
       "  485.684,367.565 483.412,367.142 481.122,366.713 478.816,366.277 476.492,365.835 474.152,365.387 471.796,364.932 469.424,364.471 467.036,364.003 464.633,363.528 \n",
       "  462.214,363.047 459.78,362.559 457.332,362.064 454.869,361.562 452.391,361.053 449.9,360.537 447.395,360.015 444.876,359.484 442.345,358.947 439.8,358.403 \n",
       "  437.242,357.851 434.673,357.291 432.091,356.724 429.497,356.15 426.891,355.568 424.274,354.978 421.646,354.381 419.008,353.776 416.358,353.163 413.699,352.542 \n",
       "  411.029,351.913 408.35,351.275 405.661,350.63 402.963,349.977 400.257,349.315 397.542,348.644 394.818,347.966 392.086,347.279 389.347,346.583 386.6,345.878 \n",
       "  383.847,345.165 381.086,344.443 378.318,343.712 375.545,342.972 372.765,342.223 369.98,341.465 367.189,340.698 364.393,339.921 361.592,339.135 358.787,338.339 \n",
       "  355.977,337.534 353.163,336.72 350.346,335.896 347.525,335.062 344.702,334.218 341.875,333.364 339.046,332.5 336.215,331.626 333.382,330.742 330.547,329.848 \n",
       "  327.711,328.943 324.873,328.028 322.035,327.102 319.197,326.166 316.359,325.219 313.52,324.261 310.682,323.293 307.845,322.313 305.009,321.323 302.174,320.321 \n",
       "  299.341,319.308 296.509,318.284 293.68,317.249 290.854,316.202 288.03,315.144 285.209,314.074 282.392,312.992 279.578,311.898 276.769,310.793 273.963,309.675 \n",
       "  271.163,308.546 268.367,307.404 265.576,306.25 262.79,305.084 260.011,303.906 257.237,302.715 254.47,301.511 251.709,300.295 248.955,299.065 246.208,297.823 \n",
       "  243.469,296.569 240.738,295.301 238.014,294.02 235.299,292.725 232.592,291.418 229.894,290.097 227.206,288.762 224.526,287.415 221.857,286.053 219.197,284.678 \n",
       "  216.548,283.289 213.909,281.886 211.281,280.469 208.664,279.037 206.059,277.592 203.465,276.133 200.883,274.659 198.313,273.171 195.756,271.668 193.211,270.151 \n",
       "  190.679,268.619 188.161,267.072 185.656,265.51 183.164,263.934 180.687,262.342 178.224,260.736 175.775,259.114 173.342,257.477 170.923,255.825 168.519,254.157 \n",
       "  166.131,252.474 163.759,250.775 161.403,249.06 159.063,247.33 156.74,245.584 154.433,243.822 152.144,242.044 149.871,240.25 147.617,238.439 145.379,236.613 \n",
       "  143.16,234.77 140.959,232.911 138.776,231.035 136.612,229.143 134.467,227.235 132.341,225.309 130.234,223.367 128.147,221.408 126.079,219.432 124.031,217.439 \n",
       "  122.004,215.429 119.997,213.402 118.01,211.358 116.044,209.296 114.1,207.217 112.176,205.12 110.274,203.007 108.393,200.875 106.534,198.726 104.698,196.559 \n",
       "  102.883,194.374 101.091,192.172 99.3207,189.952 97.5737,187.713 95.8495,185.457 94.1485,183.182 92.4707,180.889 90.8163,178.578 89.1855,176.249 87.5786,173.901 \n",
       "  85.9956,171.535 84.4367,169.15 82.902,166.747 81.3919,164.324 79.9063,161.884 78.4454,159.424 77.0095,156.946 75.5986,154.448 74.2129,151.932 72.8525,149.396 \n",
       "  71.5176,146.841 70.2084,144.268 68.9249,141.674 67.6673,139.062 66.4357,136.43 65.2302,133.779 64.0511,131.108 62.8983,128.417 61.772,125.707 60.6724,122.977 \n",
       "  59.5996,120.228 58.5535,117.458 57.5345,114.669 56.5425,111.859 55.5778,109.03 54.6402,106.18 53.7301,103.311 52.8475,100.42 51.9924,97.51 51.1649,94.5792 \n",
       "  50.3652,91.6279 49.5933,88.6561 48.8494,85.6636 48.1333,82.6505 47.4454,79.6166 46.7856,76.5619 46.1539,73.4863 45.5506,70.3897 44.9755,67.2721 44.4288,64.1334 \n",
       "  43.9106,60.9735 43.4209,57.7923 42.9597,54.5898 42.5271,51.3659 42.1231,48.1204 41.7478,44.8534 41.4013,41.5648 41.0835,38.2544 40.7944,34.9222 40.5342,31.5681 \n",
       "  40.3029,28.192 40.1004,24.7939 39.9267,21.3736 39.782,17.9311 39.6663,14.4663 39.5794,10.9791 39.5215,7.46932 39.4926,3.93701 \n",
       "  \"/>\n",
       "<polygon clip-path=\"url(#clip00)\" points=\"\n",
       "505.547,55.057 578.063,55.057 578.063,24.817 505.547,24.817 \n",
       "  \" fill=\"#ffffff\" fill-opacity=\"1\"/>\n",
       "<polyline clip-path=\"url(#clip00)\" style=\"stroke:#00002d; stroke-width:0.8; stroke-opacity:1; fill:none\" points=\"\n",
       "  505.547,55.057 578.063,55.057 578.063,24.817 505.547,24.817 505.547,55.057 \n",
       "  \"/>\n",
       "<polyline clip-path=\"url(#clip00)\" style=\"stroke:#0099ff; stroke-width:0.8; stroke-opacity:1; fill:none\" points=\"\n",
       "  511.547,39.937 547.547,39.937 \n",
       "  \"/>\n",
       "<g clip-path=\"url(#clip00)\">\n",
       "<text style=\"fill:#00002d; fill-opacity:1; font-family:Arial,Helvetica Neue,Helvetica,sans-serif; font-size:12; text-anchor:start;\" transform=\"rotate(0, 553.547, 44.437)\" x=\"553.547\" y=\"44.437\">y1</text>\n",
       "</g>\n",
       "</svg>\n"
      ]
     },
     "execution_count": 4,
     "metadata": {},
     "output_type": "execute_result"
    }
   ],
   "source": [
    "S=Legendre()⊕JacobiWeight(0.5,0.,Ultraspherical(1))\n",
    "x=Fun()\n",
    "Q½=LeftIntegral(S,0.5)\n",
    "\n",
    "y=(I+exp(-(1+x)/2)*Q½[exp((1+x)/2)])\\exp(-(1+x)/2)\n",
    "plot(y)"
   ]
  },
  {
   "cell_type": "markdown",
   "metadata": {},
   "source": [
    "We can compare with the exact solution:"
   ]
  },
  {
   "cell_type": "code",
   "execution_count": 5,
   "metadata": {
    "collapsed": false
   },
   "outputs": [
    {
     "data": {
      "text/plain": [
       "2.01443968280204e-15"
      ]
     },
     "execution_count": 5,
     "metadata": {},
     "output_type": "execute_result"
    }
   ],
   "source": [
    "norm(y-exp((1+x)/2)*erfc(sqrt(1+x)))"
   ]
  }
 ],
 "metadata": {
  "anaconda-cloud": {},
  "kernelspec": {
   "display_name": "Julia 0.5.0",
   "language": "julia",
   "name": "julia-0.5"
  },
  "language_info": {
   "file_extension": ".jl",
   "mimetype": "application/julia",
   "name": "julia",
   "version": "0.5.0"
  }
 },
 "nbformat": 4,
 "nbformat_minor": 0
}
