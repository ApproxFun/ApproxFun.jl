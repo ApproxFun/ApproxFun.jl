{
 "metadata": {
  "language": "Julia",
  "name": "",
  "signature": "sha256:ad1101e85be2f9881269535c69ab0f9b3718ce189eef53ed77fe1384c8fda818"
 },
 "nbformat": 3,
 "nbformat_minor": 0,
 "worksheets": [
  {
   "cells": [
    {
     "cell_type": "code",
     "collapsed": false,
     "input": [
      "using GLPlot, ApproxFun"
     ],
     "language": "python",
     "metadata": {},
     "outputs": [
      {
       "output_type": "stream",
       "stream": "stderr",
       "text": [
        "INFO: loaded GLFW 3.0.4 Cocoa NSGL chdir menubar dynamic from /Users/solver/.julia/v0.3/GLFW/deps/usr64/lib/libglfw\n"
       ]
      }
     ],
     "prompt_number": 1
    },
    {
     "cell_type": "heading",
     "level": 1,
     "metadata": {},
     "source": [
      "Wave equation with Dirichlet \n",
      "$$u_{tt} = \\Delta u, u(x,y,0)=u_0(x,y), u(\\pm 1,y,t)=u(x,\\pm 1,t)=0$$"
     ]
    },
    {
     "cell_type": "code",
     "collapsed": false,
     "input": [
      "h    = 0.005\n",
      "# initial condition\n",
      "u0   = TensorFun((x,y)->exp(-50x.^2-40(y-.1).^2)+.5exp(-30(x+.5).^2-40(y+.2).^2))\n",
      "d    = domain(u0)\n",
      "B= dirichlet(d)   # dirichlet boundary conditions, try neumann(d).  mixed is also possible\n",
      "\n",
      "op=lap(d)\n",
      "\n",
      "\n",
      "#Schur fact precomputes a discretization in the y direction\n",
      "\n",
      "SBE  = schurfact([B,I-h^2*op],100)            # backward euler for first 2 time steps\n",
      "SBDF = schurfact([B,I-4.0/9.0*h^2*op],100)    # BDF formula for subsequent itme steps\n",
      "u    = Array(TensorFun,10000)\n",
      "u[1] = u0;u[2] = u0\n",
      "n=3;u[n]      = SBE\\[zeros(4),2u[n-1]-u[n-2]]\n",
      "n=4;u[n]      = SBE\\[zeros(4),2u[n-1]-u[n-2]]\n",
      "\n",
      "N=90; xx =-1.:2/N:1.;yy = xx   #grid for plotting\n",
      "\n",
      "obj,window=ApproxFun.plot(xx,yy,u[n])#first plot creates window\n",
      "\n",
      "m       = 5000  # number of time stepsz\n",
      "\n",
      "for k=n+1:n+m\n",
      "    u[k]      = SBDF\\[zeros(4),1/9.0*(24u[k-1]-22u[k-2]+8u[k-3]-u[k-4])]\n",
      " \n",
      "    ApproxFun.plot(xx,yy,u[k],obj,window)#updates window\n",
      "    if GLFW.WindowShouldClose(window.glfwWindow)\n",
      "        m=k-n\n",
      "        GLFW.Terminate()\n",
      "        break\n",
      "    end\n",
      "end\n",
      "n+=m \n"
     ],
     "language": "python",
     "metadata": {},
     "outputs": [
      {
       "metadata": {},
       "output_type": "pyout",
       "prompt_number": 3,
       "text": [
        "744"
       ]
      },
      {
       "output_type": "stream",
       "stream": "stderr",
       "text": [
        "Warning: redefining constant volumeshader\n",
        "Warning: redefining constant uvwshader\n"
       ]
      }
     ],
     "prompt_number": 3
    },
    {
     "cell_type": "heading",
     "level": 1,
     "metadata": {},
     "source": [
      "Wave equation with Dirichlet-Neumann\n",
      "$$u_{tt} = \\Delta u, u(x,y,0)=u_0(x,y), u(-1,y,t)=u_x(1,y,t)=u(x,\\pm 1,t)=0$$"
     ]
    },
    {
     "cell_type": "code",
     "collapsed": false,
     "input": [
      "h    = 0.005\n",
      "# initial condition\n",
      "u0   = TensorFun((x,y)->exp(-50x.^2-40(y-.1).^2)+.5exp(-30(x+.5).^2-40(y+.2).^2))\n",
      "d    = domain(u0)\n",
      "dx=d[1];dy=d[2]\n",
      "B= [[ldirichlet(dx),rneumann(dx)]\u2297I,I\u2297dirichlet(dy)]   \n",
      "\n",
      "op=lap(d)\n",
      "\n",
      "\n",
      "#Schur fact precomputes a discretization in the y direction\n",
      "\n",
      "SBE  = schurfact([B,I-h^2*op],100)            # backward euler for first 2 time steps\n",
      "SBDF = schurfact([B,I-4.0/9.0*h^2*op],100)    # BDF formula for subsequent itme steps\n",
      "u    = Array(TensorFun,10000)\n",
      "u[1] = u0;u[2] = u0\n",
      "n=3;u[n]      = SBE\\[zeros(4),2u[n-1]-u[n-2]]\n",
      "n=4;u[n]      = SBE\\[zeros(4),2u[n-1]-u[n-2]]\n",
      "\n",
      "N=90; xx =-1.:2/N:1.;yy = xx   #grid for plotting\n",
      "\n",
      "obj,window=ApproxFun.plot(xx,yy,u[n])#first plot creates window\n",
      "\n",
      "m       = 5000  # number of time stepsz\n",
      "\n",
      "for k=n+1:n+m\n",
      "    u[k]      = SBDF\\[zeros(4),1/9.0*(24u[k-1]-22u[k-2]+8u[k-3]-u[k-4])]\n",
      " \n",
      "    ApproxFun.plot(xx,yy,u[k],obj,window)#updates window\n",
      "    if GLFW.WindowShouldClose(window.glfwWindow)\n",
      "        m=k-n\n",
      "        GLFW.Terminate()\n",
      "        break\n",
      "    end\n",
      "end\n",
      "n+=m \n"
     ],
     "language": "python",
     "metadata": {},
     "outputs": [
      {
       "metadata": {},
       "output_type": "pyout",
       "prompt_number": 5,
       "text": [
        "347"
       ]
      },
      {
       "output_type": "stream",
       "stream": "stderr",
       "text": [
        "Warning: redefining constant volumeshader\n",
        "Warning: redefining constant uvwshader\n"
       ]
      }
     ],
     "prompt_number": 5
    },
    {
     "cell_type": "heading",
     "level": 1,
     "metadata": {},
     "source": [
      "Klein\u2013GOrdon equation with Dirichlet\n",
      "$$u_{tt} = \\Delta u - 100u, u(x,y,0)=u_0(x,y), u(\\pm 1,y,t)=u(x,\\pm 1,t)=0$$"
     ]
    },
    {
     "cell_type": "code",
     "collapsed": false,
     "input": [
      "h    = 0.005\n",
      "# initial condition\n",
      "u0   = TensorFun((x,y)->exp(-50x.^2-40(y-.1).^2)+.5exp(-30(x+.5).^2-40(y+.2).^2))\n",
      "d    = domain(u0)\n",
      "B= dirichlet(d) \n",
      "\n",
      "op=lap(d)-100I\n",
      "\n",
      "\n",
      "#Schur fact precomputes a discretization in the y direction\n",
      "\n",
      "SBE  = schurfact([B,I-h^2*op],100)            # backward euler for first 2 time steps\n",
      "SBDF = schurfact([B,I-4.0/9.0*h^2*op],100)    # BDF formula for subsequent itme steps\n",
      "u    = Array(TensorFun,10000)\n",
      "u[1] = u0;u[2] = u0\n",
      "n=3;u[n]      = SBE\\[zeros(4),2u[n-1]-u[n-2]]\n",
      "n=4;u[n]      = SBE\\[zeros(4),2u[n-1]-u[n-2]]\n",
      "\n",
      "N=90; xx =-1.:2/N:1.;yy = xx   #grid for plotting\n",
      "\n",
      "obj,window=ApproxFun.plot(xx,yy,u[n])#first plot creates window\n",
      "\n",
      "m       = 5000  # number of time stepsz\n",
      "\n",
      "for k=n+1:n+m\n",
      "    u[k]      = SBDF\\[zeros(4),1/9.0*(24u[k-1]-22u[k-2]+8u[k-3]-u[k-4])]\n",
      " \n",
      "    ApproxFun.plot(xx,yy,u[k],obj,window)#updates window\n",
      "    if GLFW.WindowShouldClose(window.glfwWindow)\n",
      "        m=k-n\n",
      "        GLFW.Terminate()\n",
      "        break\n",
      "    end\n",
      "end\n",
      "n+=m \n"
     ],
     "language": "python",
     "metadata": {},
     "outputs": [
      {
       "metadata": {},
       "output_type": "pyout",
       "prompt_number": 7,
       "text": [
        "568"
       ]
      },
      {
       "output_type": "stream",
       "stream": "stderr",
       "text": [
        "Warning: redefining constant volumeshader\n",
        "Warning: redefining constant uvwshader\n"
       ]
      }
     ],
     "prompt_number": 7
    },
    {
     "cell_type": "code",
     "collapsed": false,
     "input": [],
     "language": "python",
     "metadata": {},
     "outputs": []
    }
   ],
   "metadata": {}
  }
 ]
}