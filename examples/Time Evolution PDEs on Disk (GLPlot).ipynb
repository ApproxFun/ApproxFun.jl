{
 "metadata": {
  "language": "Julia",
  "name": "",
  "signature": "sha256:08f6cb450d12140a05e7a7db56856acfc671b5606aeda0937cd3771ffd9a028d"
 },
 "nbformat": 3,
 "nbformat_minor": 0,
 "worksheets": [
  {
   "cells": [
    {
     "cell_type": "code",
     "collapsed": false,
     "input": [
      "# Requires GLPlot\n",
      "using ApproxFun"
     ],
     "language": "python",
     "metadata": {},
     "outputs": [],
     "prompt_number": 1
    },
    {
     "cell_type": "heading",
     "level": 1,
     "metadata": {},
     "source": [
      "Heat equation with Dirichlet\n",
      " $$u_t =  \\Delta u$$"
     ]
    },
    {
     "cell_type": "code",
     "collapsed": false,
     "input": [
      "# domain is a disk\n",
      "d=Disk()\n",
      "# initial condition\n",
      "u0   = Fun((x,y)->exp(-40(x-.1)^2-40(y+.2)^2),d)\n",
      "# dirichlet boundary conditions\n",
      "B=dirichlet(d)\n",
      "\n",
      "\u0394=lap(d)\n",
      "h=0.0001 # time step\n",
      "timeevolution(B,\u0394,u0,h)"
     ],
     "language": "python",
     "metadata": {},
     "outputs": [
      {
       "output_type": "stream",
       "stream": "stderr",
       "text": [
        "Warning: redefining constant volumeshader\n",
        "Warning: redefining constant uvwshader\n"
       ]
      },
      {
       "ename": "LoadError",
       "evalue": "The GLFW library is not initialized\nwhile loading In[3], in expression starting on line 10",
       "output_type": "pyerr",
       "traceback": [
        "The GLFW library is not initialized\nwhile loading In[3], in expression starting on line 10",
        "",
        " in error at error.jl:21",
        " in anonymous at /Users/solver/.julia/v0.3/GLFW/src/GLFW.jl:25",
        " in ErrorCallback at /Users/solver/.julia/v0.3/GLFW/src/util.jl:90",
        " in PollEvents at /Users/solver/.julia/v0.3/GLFW/src/glfw3.jl:435",
        " in glupdatewindow at /Users/solver/.julia/v0.3/ApproxFun/src/Plot/GLPlot.jl:17",
        " in glsurfupdate at /Users/solver/.julia/v0.3/ApproxFun/src/Plot/GLPlot.jl:34",
        " in plot at /Users/solver/.julia/v0.3/ApproxFun/src/Plot/Plot.jl:197",
        " in timeevolution at /Users/solver/.julia/v0.3/ApproxFun/src/Extras/timeevolution.jl:130",
        " in timeevolution at /Users/solver/.julia/v0.3/ApproxFun/src/Extras/timeevolution.jl:141"
       ]
      }
     ],
     "prompt_number": 3
    },
    {
     "cell_type": "heading",
     "level": 1,
     "metadata": {},
     "source": [
      "Wave equation with Dirichlet \n",
      "$$u_{tt} = \\Delta u$$"
     ]
    },
    {
     "cell_type": "code",
     "collapsed": false,
     "input": [
      "# domain is a disk\n",
      "d=Disk()\n",
      "\n",
      "# initial condition\n",
      "u0   = Fun((x,y)->exp(-50x^2-40(y-.1)^2)+.5exp(-30(x+.5)^2-40(y+.2)^2),d)\n",
      "\n",
      "# dirichlet boundary conditions, try neumann(d).  mixed is also possible\n",
      "B= dirichlet(d)   \n",
      "\u0394=lap(d)\n",
      "h = 0.005\n",
      "\n",
      "# the 2 specifies that we are solving a second order equation\n",
      "# the default is to take u_t(x,0)=0\n",
      "timeevolution(2,B,\u0394,u0,h)"
     ],
     "language": "python",
     "metadata": {},
     "outputs": [
      {
       "output_type": "stream",
       "stream": "stderr",
       "text": [
        "Warning: redefining constant volumeshader\n",
        "Warning: redefining constant uvwshader\n"
       ]
      },
      {
       "ename": "LoadError",
       "evalue": "The GLFW library is not initialized\nwhile loading In[4], in expression starting on line 14",
       "output_type": "pyerr",
       "traceback": [
        "The GLFW library is not initialized\nwhile loading In[4], in expression starting on line 14",
        "",
        " in error at error.jl:21",
        " in anonymous at /Users/solver/.julia/v0.3/GLFW/src/GLFW.jl:25",
        " in ErrorCallback at /Users/solver/.julia/v0.3/GLFW/src/util.jl:90",
        " in PollEvents at /Users/solver/.julia/v0.3/GLFW/src/glfw3.jl:435",
        " in glupdatewindow at /Users/solver/.julia/v0.3/ApproxFun/src/Plot/GLPlot.jl:17",
        " in glsurfupdate at /Users/solver/.julia/v0.3/ApproxFun/src/Plot/GLPlot.jl:34",
        " in plot at /Users/solver/.julia/v0.3/ApproxFun/src/Plot/Plot.jl:197",
        " in timeevolution2 at /Users/solver/.julia/v0.3/ApproxFun/src/Extras/timeevolution.jl:160",
        " in timeevolution2 at /Users/solver/.julia/v0.3/ApproxFun/src/Extras/timeevolution.jl:198",
        " in timeevolution at /Users/solver/.julia/v0.3/ApproxFun/src/Extras/timeevolution.jl:205"
       ]
      }
     ],
     "prompt_number": 4
    },
    {
     "cell_type": "heading",
     "level": 1,
     "metadata": {},
     "source": [
      "Wave equation with Neumann\n",
      "$$u_{tt} = \\Delta u, u(x,y,0)=u_0(x,y)$$"
     ]
    },
    {
     "cell_type": "code",
     "collapsed": false,
     "input": [
      "h    = 0.005\n",
      "d=Disk()\n",
      "# initial condition\n",
      "u0   = Fun((x,y)->exp(-50x^2-40(y-.1)^2)+.5exp(-30(x+.5)^2-40(y+.2)^2),d)\n",
      "B= neumann(d)\n",
      "\n",
      "\u0394=lap(d)\n",
      "\n",
      "timeevolution(2,B,\u0394,u0,h)\n"
     ],
     "language": "python",
     "metadata": {},
     "outputs": [
      {
       "output_type": "stream",
       "stream": "stderr",
       "text": [
        "Warning: redefining constant volumeshader\n",
        "Warning: redefining constant uvwshader\n"
       ]
      },
      {
       "ename": "LoadError",
       "evalue": "The GLFW library is not initialized\nwhile loading In[5], in expression starting on line 9",
       "output_type": "pyerr",
       "traceback": [
        "The GLFW library is not initialized\nwhile loading In[5], in expression starting on line 9",
        "",
        " in error at error.jl:21",
        " in anonymous at /Users/solver/.julia/v0.3/GLFW/src/GLFW.jl:25",
        " in ErrorCallback at /Users/solver/.julia/v0.3/GLFW/src/util.jl:90",
        " in PollEvents at /Users/solver/.julia/v0.3/GLFW/src/glfw3.jl:435",
        " in glupdatewindow at /Users/solver/.julia/v0.3/ApproxFun/src/Plot/GLPlot.jl:17",
        " in glsurfupdate at /Users/solver/.julia/v0.3/ApproxFun/src/Plot/GLPlot.jl:34",
        " in plot at /Users/solver/.julia/v0.3/ApproxFun/src/Plot/Plot.jl:197",
        " in timeevolution2 at /Users/solver/.julia/v0.3/ApproxFun/src/Extras/timeevolution.jl:160",
        " in timeevolution2 at /Users/solver/.julia/v0.3/ApproxFun/src/Extras/timeevolution.jl:198",
        " in timeevolution at /Users/solver/.julia/v0.3/ApproxFun/src/Extras/timeevolution.jl:205"
       ]
      }
     ],
     "prompt_number": 5
    },
    {
     "cell_type": "heading",
     "level": 1,
     "metadata": {},
     "source": [
      "Klein\u2013Gordon equation with Dirichlet\n",
      "$$u_{tt} = \\Delta u - 100u, u(x,y,0)=u_0(x,y)$$"
     ]
    },
    {
     "cell_type": "code",
     "collapsed": false,
     "input": [
      "\n",
      "d=Disk()\n",
      "# initial condition\n",
      "u0   = Fun((x,y)->exp(-50x^2-40(y-.1)^2)+.5exp(-30(x+.5)^2-40(y+.2)^2),d)\n",
      "B= dirichlet(d) \n",
      "\n",
      "L=lap(d)-100I\n",
      "\n",
      "h    = 0.005\n",
      "timeevolution(2,B,L,u0,h)\n"
     ],
     "language": "python",
     "metadata": {},
     "outputs": [
      {
       "output_type": "stream",
       "stream": "stderr",
       "text": [
        "Warning: redefining constant volumeshader\n",
        "Warning: redefining constant uvwshader\n"
       ]
      },
      {
       "ename": "LoadError",
       "evalue": "The GLFW library is not initialized\nwhile loading In[6], in expression starting on line 10",
       "output_type": "pyerr",
       "traceback": [
        "The GLFW library is not initialized\nwhile loading In[6], in expression starting on line 10",
        "",
        " in error at error.jl:21",
        " in anonymous at /Users/solver/.julia/v0.3/GLFW/src/GLFW.jl:25",
        " in ErrorCallback at /Users/solver/.julia/v0.3/GLFW/src/util.jl:90",
        " in PollEvents at /Users/solver/.julia/v0.3/GLFW/src/glfw3.jl:435",
        " in glupdatewindow at /Users/solver/.julia/v0.3/ApproxFun/src/Plot/GLPlot.jl:17",
        " in glsurfupdate at /Users/solver/.julia/v0.3/ApproxFun/src/Plot/GLPlot.jl:34",
        " in plot at /Users/solver/.julia/v0.3/ApproxFun/src/Plot/Plot.jl:197",
        " in timeevolution2 at /Users/solver/.julia/v0.3/ApproxFun/src/Extras/timeevolution.jl:160",
        " in timeevolution2 at /Users/solver/.julia/v0.3/ApproxFun/src/Extras/timeevolution.jl:198",
        " in timeevolution at /Users/solver/.julia/v0.3/ApproxFun/src/Extras/timeevolution.jl:205"
       ]
      }
     ],
     "prompt_number": 6
    },
    {
     "cell_type": "heading",
     "level": 1,
     "metadata": {},
     "source": [
      "Beam equation\n",
      "    $$u_{tt} + \\Delta^2 u = 0$$"
     ]
    },
    {
     "cell_type": "code",
     "collapsed": false,
     "input": [
      "\n",
      "d=Disk()\n",
      "# initial condition\n",
      "u0   = Fun((x,y)->exp(-50x^2-40(y-.1)^2)+.5exp(-30(x+.5)^2-40(y+.2)^2),d)\n",
      "B= [dirichlet(d) ,neumann(d)]\n",
      "\n",
      "L=-lap(d)^2\n",
      "\n",
      "h    = 0.0005\n",
      "timeevolution(2,B,L,u0,h)\n",
      "\n"
     ],
     "language": "python",
     "metadata": {},
     "outputs": [
      {
       "output_type": "stream",
       "stream": "stderr",
       "text": [
        "Warning: redefining constant volumeshader\n",
        "Warning: redefining constant uvwshader\n"
       ]
      },
      {
       "ename": "LoadError",
       "evalue": "The GLFW library is not initialized\nwhile loading In[3], in expression starting on line 10",
       "output_type": "pyerr",
       "traceback": [
        "The GLFW library is not initialized\nwhile loading In[3], in expression starting on line 10",
        "",
        " in error at error.jl:21",
        " in anonymous at /Users/solver/.julia/v0.3/GLFW/src/GLFW.jl:25",
        " in ErrorCallback at /Users/solver/.julia/v0.3/GLFW/src/util.jl:90",
        " in PollEvents at /Users/solver/.julia/v0.3/GLFW/src/glfw3.jl:435",
        " in glupdatewindow at /Users/solver/.julia/v0.3/ApproxFun/src/Plot/GLPlot.jl:17",
        " in glsurfupdate at /Users/solver/.julia/v0.3/ApproxFun/src/Plot/GLPlot.jl:34",
        " in plot at /Users/solver/.julia/v0.3/ApproxFun/src/Plot/Plot.jl:197",
        " in timeevolution2 at /Users/solver/.julia/v0.3/ApproxFun/src/Extras/timeevolution.jl:160",
        " in timeevolution2 at /Users/solver/.julia/v0.3/ApproxFun/src/Extras/timeevolution.jl:198",
        " in timeevolution at /Users/solver/.julia/v0.3/ApproxFun/src/Extras/timeevolution.jl:205"
       ]
      }
     ],
     "prompt_number": 3
    },
    {
     "cell_type": "code",
     "collapsed": false,
     "input": [
      "sp=Space(d)\n",
      "ApproxFun.promotedomainspace(L.ops[3,2],sp[2])"
     ],
     "language": "python",
     "metadata": {},
     "outputs": [
      {
       "ename": "LoadError",
       "evalue": "`convert` has no method matching convert(::Type{BandedOperator{Float64}}, ::SumInterlaceOperator{Complex{Float64},Derivative{S<:FunctionSpace{T,D},T<:Number}})\nwhile loading In[23], in expression starting on line 2",
       "output_type": "pyerr",
       "traceback": [
        "`convert` has no method matching convert(::Type{BandedOperator{Float64}}, ::SumInterlaceOperator{Complex{Float64},Derivative{S<:FunctionSpace{T,D},T<:Number}})\nwhile loading In[23], in expression starting on line 2",
        "",
        " in push! at array.jl:457",
        " in promotetimes at /Users/solver/.julia/v0.3/ApproxFun/src/Operators/algebra.jl:225",
        " in * at /Users/solver/.julia/v0.3/ApproxFun/src/Operators/algebra.jl:312",
        " in promotedomainspace at /Users/solver/.julia/v0.3/ApproxFun/src/Operators/algebra.jl:413",
        " in promotedomainspace at /Users/solver/.julia/v0.3/ApproxFun/src/Operators/spacepromotion.jl:80"
       ]
      }
     ],
     "prompt_number": 23
    },
    {
     "cell_type": "code",
     "collapsed": false,
     "input": [
      "ApproxFun.promotedomainspace(L.ops[3,2],sp[2],ApproxFun.AnySpace())"
     ],
     "language": "python",
     "metadata": {},
     "outputs": [
      {
       "ename": "LoadError",
       "evalue": "`convert` has no method matching convert(::Type{BandedOperator{Float64}}, ::SumInterlaceOperator{Complex{Float64},Derivative{S<:FunctionSpace{T,D},T<:Number}})\nwhile loading In[29], in expression starting on line 1",
       "output_type": "pyerr",
       "traceback": [
        "`convert` has no method matching convert(::Type{BandedOperator{Float64}}, ::SumInterlaceOperator{Complex{Float64},Derivative{S<:FunctionSpace{T,D},T<:Number}})\nwhile loading In[29], in expression starting on line 1",
        "",
        " in push! at array.jl:457",
        " in promotetimes at /Users/solver/.julia/v0.3/ApproxFun/src/Operators/algebra.jl:225",
        " in * at /Users/solver/.julia/v0.3/ApproxFun/src/Operators/algebra.jl:312",
        " in promotedomainspace at /Users/solver/.julia/v0.3/ApproxFun/src/Operators/algebra.jl:413"
       ]
      }
     ],
     "prompt_number": 29
    },
    {
     "cell_type": "code",
     "collapsed": false,
     "input": [
      "ApproxFun.promotedomainspace(L.ops[3,2].ops[end],sp[2])"
     ],
     "language": "python",
     "metadata": {},
     "outputs": [
      {
       "metadata": {},
       "output_type": "pyout",
       "prompt_number": 31,
       "text": [
        "SpaceOperator{Float64,ConstantOperator{Float64},SumSpace{Hardy{true},Hardy{false},ComplexBasis,PeriodicInterval{T<:Number}},SumSpace{Hardy{true},Hardy{false},ComplexBasis,PeriodicInterval{T<:Number}}}(ConstantOperator{Float64}(1.0),SumSpace{Hardy{true},Hardy{false},ComplexBasis,PeriodicInterval{T<:Number}}((Hardy{true}(PeriodicInterval{Float64}(-3.141592653589793,3.141592653589793)),Hardy{false}(PeriodicInterval{Float64}(-3.141592653589793,3.141592653589793)))),SumSpace{Hardy{true},Hardy{false},ComplexBasis,PeriodicInterval{T<:Number}}((Hardy{true}(PeriodicInterval{Float64}(-3.141592653589793,3.141592653589793)),Hardy{false}(PeriodicInterval{Float64}(-3.141592653589793,3.141592653589793)))))"
       ]
      }
     ],
     "prompt_number": 31
    },
    {
     "cell_type": "code",
     "collapsed": false,
     "input": [
      "eltype(sp[2])"
     ],
     "language": "python",
     "metadata": {},
     "outputs": [
      {
       "metadata": {},
       "output_type": "pyout",
       "prompt_number": 32,
       "text": [
        "Complex{Float64} (constructor with 1 method)"
       ]
      }
     ],
     "prompt_number": 32
    },
    {
     "cell_type": "code",
     "collapsed": false,
     "input": [],
     "language": "python",
     "metadata": {},
     "outputs": []
    }
   ],
   "metadata": {}
  }
 ]
}