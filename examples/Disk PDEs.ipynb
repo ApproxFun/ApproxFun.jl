{
 "metadata": {
  "language": "Julia",
  "name": "",
  "signature": "sha256:4d7fb5ddb322855b20a15299651c2717e2fa78134a121ac4e18c14ad86ddd910"
 },
 "nbformat": 3,
 "nbformat_minor": 0,
 "worksheets": [
  {
   "cells": [
    {
     "cell_type": "code",
     "collapsed": false,
     "input": [
      "#Requires PyPlot\n",
      "\n",
      "using ApproxFun"
     ],
     "language": "python",
     "metadata": {},
     "outputs": [],
     "prompt_number": 1
    },
    {
     "cell_type": "heading",
     "level": 1,
     "metadata": {},
     "source": [
      "Laplace Equation $u_{xx} + u_{yy} = 0$"
     ]
    },
    {
     "cell_type": "code",
     "collapsed": false,
     "input": [
      "d=Disk()\n",
      "u=[dirichlet(d),lap(d)]\\Fun(z->real(exp(z)),Circle())\n",
      "\n",
      "ApproxFun.plot(pad(u,50,50)) # we pad to get a nice plot;"
     ],
     "language": "python",
     "metadata": {},
     "outputs": []
    },
    {
     "cell_type": "markdown",
     "metadata": {},
     "source": [
      "Check the error:"
     ]
    },
    {
     "cell_type": "code",
     "collapsed": false,
     "input": [
      "u[.1,.2]-real(exp(.1+.2im))"
     ],
     "language": "python",
     "metadata": {},
     "outputs": []
    },
    {
     "cell_type": "heading",
     "level": 1,
     "metadata": {},
     "source": [
      "Poisson equation $u_{xx} + u_{yy} = f(x,y)$"
     ]
    },
    {
     "cell_type": "code",
     "collapsed": false,
     "input": [
      "d=Disk()\n",
      "f=Fun((x,y)->exp(-10(x+.2).^2-20(y-.1).^2),d) \n",
      "u=[dirichlet(d),lap(d)]\\[0.,f]\n",
      "ApproxFun.plot(u);"
     ],
     "language": "python",
     "metadata": {},
     "outputs": []
    },
    {
     "cell_type": "heading",
     "level": 1,
     "metadata": {},
     "source": [
      "Helmholtz $u_{xx} + u_{yy} + 100u=0$"
     ]
    },
    {
     "cell_type": "code",
     "collapsed": false,
     "input": [
      "d=Disk()\n",
      "\n",
      "u=[dirichlet(d),lap(d)+100I]\\1.0\n",
      "ApproxFun.plot(u);"
     ],
     "language": "python",
     "metadata": {},
     "outputs": []
    },
    {
     "cell_type": "code",
     "collapsed": false,
     "input": [
      "d=Disk()\n",
      "\n",
      "u=[neumann(d),lap(d)+100I]\\1.0\n",
      "ApproxFun.plot(u);"
     ],
     "language": "python",
     "metadata": {},
     "outputs": []
    },
    {
     "cell_type": "heading",
     "level": 1,
     "metadata": {},
     "source": [
      "Screened Poisson  $u_{xx} + u_{yy} - 100u = 0, \\partial u(\\partial d) = 1$"
     ]
    },
    {
     "cell_type": "code",
     "collapsed": false,
     "input": [
      "d=Disk()\n",
      "u=[neumann(d),lap(d)-100.0I]\\1.0\n",
      "ApproxFun.plot(u);"
     ],
     "language": "python",
     "metadata": {},
     "outputs": []
    },
    {
     "cell_type": "heading",
     "level": 1,
     "metadata": {},
     "source": [
      "Laplacian squared $\\Delta^2 u = 0$"
     ]
    },
    {
     "cell_type": "code",
     "collapsed": false,
     "input": [
      "d=Disk()\n",
      "\n",
      "u=[dirichlet(d),neumann(d),lap(d)^2]\\Fun(z->real(exp(z)),Circle())\n",
      "ApproxFun.plot(pad(u,50,50)) # we pad to get a nice plot;"
     ],
     "language": "python",
     "metadata": {},
     "outputs": []
    }
   ],
   "metadata": {}
  }
 ]
}