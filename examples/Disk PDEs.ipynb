{
 "metadata": {
  "language": "Julia",
  "name": "",
  "signature": "sha256:9af7207d918400bbfc5c68bdc8c5cdb1ce22c98e4766a3be73752752b0896b2f"
 },
 "nbformat": 3,
 "nbformat_minor": 0,
 "worksheets": [
  {
   "cells": [
    {
     "cell_type": "code",
     "collapsed": false,
     "input": [
      "#Requires PyPlot\n",
      "\n",
      "using ApproxFun"
     ],
     "language": "python",
     "metadata": {},
     "outputs": [],
     "prompt_number": 1
    },
    {
     "cell_type": "heading",
     "level": 1,
     "metadata": {},
     "source": [
      "Laplace Equation $u_{xx} + u_{yy} = 0$"
     ]
    },
    {
     "cell_type": "code",
     "collapsed": false,
     "input": [
      "d=Disk()\n",
      "u=[dirichlet(d),lap(d)]\\Fun(z->real(exp(z)),Circle())\n",
      "\n",
      "plot(pad(u,50,50)) # we pad to get a nice plot"
     ],
     "language": "python",
     "metadata": {},
     "outputs": [
      {
       "ename": "LoadError",
       "evalue": "`domain` has no method matching domain(::PDEProductOperatorSchur{Complex{Float64},SavedFunctional{Float64,M<:Functional{T}}})\nwhile loading In[2], in expression starting on line 2",
       "output_type": "pyerr",
       "traceback": [
        "`domain` has no method matching domain(::PDEProductOperatorSchur{Complex{Float64},SavedFunctional{Float64,M<:Functional{T}}})\nwhile loading In[2], in expression starting on line 2",
        "",
        " in pde_normalize_rhs at /Users/solver/.julia/v0.3/ApproxFun/src/PDE/pdesolve.jl:36",
        " in pdesolve_mat at /Users/solver/.julia/v0.3/ApproxFun/src/PDE/pdesolve.jl:80",
        " in pdesolve at /Users/solver/.julia/v0.3/ApproxFun/src/PDE/pdesolve.jl:134",
        " in pdesolve at /Users/solver/.julia/v0.3/ApproxFun/src/PDE/pdesolve.jl:111",
        " in \\ at /Users/solver/.julia/v0.3/ApproxFun/src/PDE/pdesolve.jl:192"
       ]
      }
     ],
     "prompt_number": 2
    },
    {
     "cell_type": "code",
     "collapsed": false,
     "input": [
      "u[.1,.2]-real(exp(.1+.2im))"
     ],
     "language": "python",
     "metadata": {},
     "outputs": [
      {
       "ename": "LoadError",
       "evalue": "u not defined\nwhile loading In[3], in expression starting on line 1",
       "output_type": "pyerr",
       "traceback": [
        "u not defined\nwhile loading In[3], in expression starting on line 1",
        ""
       ]
      }
     ],
     "prompt_number": 3
    },
    {
     "cell_type": "heading",
     "level": 1,
     "metadata": {},
     "source": [
      "Poisson equation $u_{xx} + u_{yy} = f(x,y)$"
     ]
    },
    {
     "cell_type": "code",
     "collapsed": false,
     "input": [
      "d=Disk()\n",
      "f=Fun((x,y)->exp(-10(x+.2).^2-20(y-.1).^2),d) \n",
      "u=[dirichlet(d),lap(d)]\\[0.,f]\n",
      "plot(u)"
     ],
     "language": "python",
     "metadata": {},
     "outputs": [
      {
       "ename": "LoadError",
       "evalue": "plot not defined\nwhile loading In[4], in expression starting on line 4",
       "output_type": "pyerr",
       "traceback": [
        "plot not defined\nwhile loading In[4], in expression starting on line 4",
        ""
       ]
      }
     ],
     "prompt_number": 4
    },
    {
     "cell_type": "heading",
     "level": 1,
     "metadata": {},
     "source": [
      "Helmholtz $u_{xx} + u_{yy} + 100u=0$"
     ]
    },
    {
     "cell_type": "code",
     "collapsed": false,
     "input": [
      "d=Disk()\n",
      "\n",
      "u=[dirichlet(d),lap(d)+100I]\\1.0\n",
      "plot(u)"
     ],
     "language": "python",
     "metadata": {},
     "outputs": [
      {
       "ename": "LoadError",
       "evalue": "plot not defined\nwhile loading In[5], in expression starting on line 4",
       "output_type": "pyerr",
       "traceback": [
        "plot not defined\nwhile loading In[5], in expression starting on line 4",
        ""
       ]
      }
     ],
     "prompt_number": 5
    },
    {
     "cell_type": "code",
     "collapsed": false,
     "input": [
      "d=Disk()\n",
      "\n",
      "u=[neumann(d),lap(d)+100I]\\1.0\n",
      "plot(u)"
     ],
     "language": "python",
     "metadata": {},
     "outputs": [
      {
       "ename": "LoadError",
       "evalue": "plot not defined\nwhile loading In[6], in expression starting on line 4",
       "output_type": "pyerr",
       "traceback": [
        "plot not defined\nwhile loading In[6], in expression starting on line 4",
        ""
       ]
      }
     ],
     "prompt_number": 6
    },
    {
     "cell_type": "heading",
     "level": 1,
     "metadata": {},
     "source": [
      "Screened Poisson  $u_{xx} + u_{yy} - 100u = 0, \\partial u(\\partial d) = 1$"
     ]
    },
    {
     "cell_type": "code",
     "collapsed": false,
     "input": [
      "d=Disk()\n",
      "u=[neumann(d),lap(d)-100.0I]\\1.0\n",
      "plot(u)"
     ],
     "language": "python",
     "metadata": {},
     "outputs": [
      {
       "ename": "LoadError",
       "evalue": "plot not defined\nwhile loading In[7], in expression starting on line 3",
       "output_type": "pyerr",
       "traceback": [
        "plot not defined\nwhile loading In[7], in expression starting on line 3",
        ""
       ]
      }
     ],
     "prompt_number": 7
    },
    {
     "cell_type": "heading",
     "level": 1,
     "metadata": {},
     "source": [
      "Laplacian squared $\\Delta^2 u = 0$"
     ]
    },
    {
     "cell_type": "code",
     "collapsed": false,
     "input": [
      "d=Disk()\n",
      "\n",
      "u=[dirichlet(d),neumann(d),lap(d)^2]\\Fun(z->real(exp(z)),Circle())\n",
      "plot(pad(u,50,50)) # we pad to get a nice plot"
     ],
     "language": "python",
     "metadata": {},
     "outputs": [
      {
       "ename": "LoadError",
       "evalue": "`domain` has no method matching domain(::PDEProductOperatorSchur{Complex{Float64},SavedFunctional{Float64,M<:Functional{T}}})\nwhile loading In[8], in expression starting on line 3",
       "output_type": "pyerr",
       "traceback": [
        "`domain` has no method matching domain(::PDEProductOperatorSchur{Complex{Float64},SavedFunctional{Float64,M<:Functional{T}}})\nwhile loading In[8], in expression starting on line 3",
        "",
        " in pde_normalize_rhs at /Users/solver/.julia/v0.3/ApproxFun/src/PDE/pdesolve.jl:36",
        " in pdesolve_mat at /Users/solver/.julia/v0.3/ApproxFun/src/PDE/pdesolve.jl:80",
        " in pdesolve at /Users/solver/.julia/v0.3/ApproxFun/src/PDE/pdesolve.jl:134",
        " in pdesolve at /Users/solver/.julia/v0.3/ApproxFun/src/PDE/pdesolve.jl:111",
        " in \\ at /Users/solver/.julia/v0.3/ApproxFun/src/PDE/pdesolve.jl:192"
       ]
      }
     ],
     "prompt_number": 8
    }
   ],
   "metadata": {}
  }
 ]
}