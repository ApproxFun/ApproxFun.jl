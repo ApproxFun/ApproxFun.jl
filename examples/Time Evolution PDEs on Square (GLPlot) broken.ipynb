{
 "metadata": {
  "language": "Julia",
  "name": "",
  "signature": "sha256:585b20f803e1ce2cdd752112b69a5feedac3713deeec6bd89288ac3d821b18d0"
 },
 "nbformat": 3,
 "nbformat_minor": 0,
 "worksheets": [
  {
   "cells": [
    {
     "cell_type": "code",
     "collapsed": false,
     "input": [
      "# Requires GLPlot\n",
      "using ApproxFun"
     ],
     "language": "python",
     "metadata": {},
     "outputs": []
    },
    {
     "cell_type": "heading",
     "level": 1,
     "metadata": {},
     "source": [
      "Heat equation with Dirichlet\n",
      " $$u_t =  \\Delta u, u(\\pm 1,y,t)=u(x,\\pm 1,t)=0$$"
     ]
    },
    {
     "cell_type": "code",
     "collapsed": false,
     "input": [
      "# domain is a square\n",
      "d=Interval()^2\n",
      "# initial condition\n",
      "u0   = Fun((x,y)->exp(-40(x-.1)^2-40(y+.2)^2)+.5exp(-30(x+.5).^2-40(y+.2).^2),d)\n",
      "# dirichlet boundary conditions\n",
      "B=dirichlet(d)\n",
      "\n",
      "\u0394=lap(d)\n",
      "h=0.0001 # time step\n",
      "timeevolution(B,\u0394,u0,h);"
     ],
     "language": "python",
     "metadata": {},
     "outputs": []
    },
    {
     "cell_type": "heading",
     "level": 1,
     "metadata": {},
     "source": [
      "Advection-diffusion with Dirichlet\n",
      " $$u_t = 0.01 \\Delta u -4 u_x -3 u_y, u(\\pm 1,y,t)=u(x,\\pm 1,t)=0$$"
     ]
    },
    {
     "cell_type": "code",
     "collapsed": false,
     "input": [
      "d=Interval()^2\n",
      "u0   = Fun((x,y)->exp(-40(x-.1)^2-40(y+.2)^2),d)\n",
      "B=dirichlet(d)\n",
      "D=Derivative(Interval())\n",
      "L=(0.01D^2-4D)\u2297I + I\u2297(0.01D^2-3D)\n",
      "h=0.002\n",
      "timeevolution(B,L,u0,h)"
     ],
     "language": "python",
     "metadata": {},
     "outputs": []
    },
    {
     "cell_type": "heading",
     "level": 1,
     "metadata": {},
     "source": [
      "Wave equation with Dirichlet \n",
      "$$u_{tt} = \\Delta u, u(x,y,0)=u_0(x,y), u(\\pm 1,y,t)=u(x,\\pm 1,t)=0$$"
     ]
    },
    {
     "cell_type": "code",
     "collapsed": false,
     "input": [
      "# domain is a square\n",
      "d=Interval()^2\n",
      "\n",
      "# initial condition\n",
      "u0   = Fun((x,y)->exp(-50x^2-40(y-.1)^2)+.5exp(-30(x+.5)^2-40(y+.2)^2),d)\n",
      "\n",
      "# dirichlet boundary conditions, try neumann(d).  mixed is also possible\n",
      "B= dirichlet(d)   \n",
      "\u0394=lap(d)\n",
      "h = 0.005\n",
      "\n",
      "# the 2 specifies that we are solving a second order equation\n",
      "# the default is to take u_t(x,0)=0\n",
      "timeevolution(2,B,\u0394,u0,h)"
     ],
     "language": "python",
     "metadata": {},
     "outputs": []
    },
    {
     "cell_type": "heading",
     "level": 1,
     "metadata": {},
     "source": [
      "Wave equation with Dirichlet-Neumann\n",
      "$$u_{tt} = \\Delta u, u(x,y,0)=u_0(x,y), u(-1,y,t)=u_x(1,y,t)=u(x,\\pm 1,t)=0$$"
     ]
    },
    {
     "cell_type": "code",
     "collapsed": false,
     "input": [
      "h    = 0.005\n",
      "# initial condition\n",
      "d=Interval()^2\n",
      "u0   = Fun((x,y)->exp(-50x.^2-40(y-.1).^2)+.5exp(-30(x+.5).^2-40(y+.2).^2),d)\n",
      "\n",
      "dx=d[1];dy=d[2]\n",
      "B= [[ldirichlet(dx),rneumann(dx)]\u2297I,I\u2297dirichlet(dy)]   \n",
      "\n",
      "\u0394=lap(d)\n",
      "\n",
      "timeevolution(2,B,\u0394,u0,h)\n"
     ],
     "language": "python",
     "metadata": {},
     "outputs": []
    },
    {
     "cell_type": "heading",
     "level": 1,
     "metadata": {},
     "source": [
      "Klein\u2013Gordon equation with Dirichlet\n",
      "$$u_{tt} = \\Delta u - 100u, u(x,y,0)=u_0(x,y), u(\\pm 1,y,t)=u(x,\\pm 1,t)=0$$"
     ]
    },
    {
     "cell_type": "code",
     "collapsed": false,
     "input": [
      "\n",
      "d=Interval()^2\n",
      "# initial condition\n",
      "u0   = Fun((x,y)->exp(-50x.^2-40(y-.1).^2)+.5exp(-30(x+.5).^2-40(y+.2).^2),d)\n",
      "B= dirichlet(d) \n",
      "\n",
      "L=lap(d)-100I\n",
      "\n",
      "h    = 0.003\n",
      "timeevolution(2,B,L,u0,h)\n"
     ],
     "language": "python",
     "metadata": {},
     "outputs": []
    },
    {
     "cell_type": "heading",
     "level": 1,
     "metadata": {},
     "source": [
      "Sine Gordon"
     ]
    },
    {
     "cell_type": "code",
     "collapsed": false,
     "input": [
      "d=Interval()^2\n",
      "# initial condition\n",
      "u0   = Fun((x,y)->2.exp(-50x^2-50y^2),d)\n",
      "B= dirichlet(d) \n",
      "\n",
      "L=lap(d)-I\n",
      "g(u)=u-sin(u)\n",
      "\n",
      "h    = 0.0024\n",
      "timeevolution(2,B,L,g,u0,h)"
     ],
     "language": "python",
     "metadata": {},
     "outputs": []
    },
    {
     "cell_type": "code",
     "collapsed": false,
     "input": [],
     "language": "python",
     "metadata": {},
     "outputs": []
    }
   ],
   "metadata": {}
  }
 ]
}