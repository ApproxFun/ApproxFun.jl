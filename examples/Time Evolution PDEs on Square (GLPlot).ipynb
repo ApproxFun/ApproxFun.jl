{
 "metadata": {
  "language": "Julia",
  "name": "",
  "signature": "sha256:e681e966f52c653d35fef2adc1eda96da7314b02948b5eae0378e5ec2b08660b"
 },
 "nbformat": 3,
 "nbformat_minor": 0,
 "worksheets": [
  {
   "cells": [
    {
     "cell_type": "code",
     "collapsed": false,
     "input": [
      "# Requires GLPlot\n",
      "using ApproxFun"
     ],
     "language": "python",
     "metadata": {},
     "outputs": [],
     "prompt_number": 1
    },
    {
     "cell_type": "heading",
     "level": 1,
     "metadata": {},
     "source": [
      "Heat equation with Dirichlet\n",
      " $$u_t =  \\Delta u, u(\\pm 1,y,t)=u(x,\\pm 1,t)=0$$"
     ]
    },
    {
     "cell_type": "code",
     "collapsed": false,
     "input": [
      "# domain is a square\n",
      "d=Interval()^2\n",
      "# initial condition\n",
      "u0   = Fun((x,y)->exp(-40(x-.1)^2-40(y+.2)^2)+.5exp(-30(x+.5).^2-40(y+.2).^2),d)\n",
      "# dirichlet boundary conditions\n",
      "B=dirichlet(d)\n",
      "\n",
      "\u0394=lap(d)\n",
      "h=0.0001 # time step\n",
      "timeevolution(B,\u0394,u0,h);"
     ],
     "language": "python",
     "metadata": {},
     "outputs": [
      {
       "ename": "LoadError",
       "evalue": "The GLFW library is not initialized\nwhile loading In[2], in expression starting on line 10",
       "output_type": "pyerr",
       "traceback": [
        "The GLFW library is not initialized\nwhile loading In[2], in expression starting on line 10",
        "",
        " in error at error.jl:21",
        " in anonymous at /Users/solver/.julia/v0.3/GLFW/src/GLFW.jl:27",
        " in ErrorCallbackWrapper at /Users/solver/.julia/v0.3/GLFW/src/util.jl:36",
        " in PollEvents at /Users/solver/.julia/v0.3/GLFW/src/glfw3.jl:419",
        " in glupdatewindow at /Users/solver/.julia/v0.3/ApproxFun/src/Plot/GLPlot.jl:35",
        " in glsurfupdate at /Users/solver/.julia/v0.3/ApproxFun/src/Plot/GLPlot.jl:53",
        " in plot at /Users/solver/.julia/v0.3/ApproxFun/src/Plot/Plot.jl:203",
        " in timeevolution at /Users/solver/.julia/v0.3/ApproxFun/src/Extras/timeevolution.jl:130",
        " in timeevolution at /Users/solver/.julia/v0.3/ApproxFun/src/Extras/timeevolution.jl:138",
        " in timeevolution at /Users/solver/.julia/v0.3/ApproxFun/src/Extras/timeevolution.jl:146"
       ]
      }
     ],
     "prompt_number": 2
    },
    {
     "cell_type": "heading",
     "level": 1,
     "metadata": {},
     "source": [
      "Advection-diffusion with Dirichlet\n",
      " $$u_t = 0.01 \\Delta u -4 u_x -3 u_y, u(\\pm 1,y,t)=u(x,\\pm 1,t)=0$$"
     ]
    },
    {
     "cell_type": "code",
     "collapsed": false,
     "input": [
      "d=Interval()^2\n",
      "u0   = Fun((x,y)->exp(-40(x-.1)^2-40(y+.2)^2),d)\n",
      "B=dirichlet(d)\n",
      "D=Derivative(Interval())\n",
      "L=(0.01D^2-4D)\u2297I + I\u2297(0.01D^2-3D)\n",
      "h=0.002\n",
      "timeevolution(B,L,u0,h)"
     ],
     "language": "python",
     "metadata": {},
     "outputs": [
      {
       "output_type": "stream",
       "stream": "stderr",
       "text": [
        "Warning: redefining constant volumeshader\n",
        "Warning: redefining constant uvwshader\n"
       ]
      },
      {
       "ename": "LoadError",
       "evalue": "The GLFW library is not initialized\nwhile loading In[3], in expression starting on line 7",
       "output_type": "pyerr",
       "traceback": [
        "The GLFW library is not initialized\nwhile loading In[3], in expression starting on line 7",
        "",
        " in error at error.jl:21",
        " in anonymous at /Users/solver/.julia/v0.3/GLFW/src/GLFW.jl:27",
        " in ErrorCallbackWrapper at /Users/solver/.julia/v0.3/GLFW/src/util.jl:36",
        " in PollEvents at /Users/solver/.julia/v0.3/GLFW/src/glfw3.jl:419",
        " in glupdatewindow at /Users/solver/.julia/v0.3/ApproxFun/src/Plot/GLPlot.jl:35",
        " in glsurfupdate at /Users/solver/.julia/v0.3/ApproxFun/src/Plot/GLPlot.jl:53",
        " in plot at /Users/solver/.julia/v0.3/ApproxFun/src/Plot/Plot.jl:203",
        " in timeevolution at /Users/solver/.julia/v0.3/ApproxFun/src/Extras/timeevolution.jl:130",
        " in timeevolution at /Users/solver/.julia/v0.3/ApproxFun/src/Extras/timeevolution.jl:138",
        " in timeevolution at /Users/solver/.julia/v0.3/ApproxFun/src/Extras/timeevolution.jl:146"
       ]
      }
     ],
     "prompt_number": 3
    },
    {
     "cell_type": "heading",
     "level": 1,
     "metadata": {},
     "source": [
      "Wave equation with Dirichlet \n",
      "$$u_{tt} = \\Delta u, u(x,y,0)=u_0(x,y), u(\\pm 1,y,t)=u(x,\\pm 1,t)=0$$"
     ]
    },
    {
     "cell_type": "code",
     "collapsed": false,
     "input": [
      "# domain is a square\n",
      "d=Interval()^2\n",
      "\n",
      "# initial condition\n",
      "u0   = Fun((x,y)->exp(-50x^2-40(y-.1)^2)+.5exp(-30(x+.5)^2-40(y+.2)^2),d)\n",
      "\n",
      "# dirichlet boundary conditions, try neumann(d).  mixed is also possible\n",
      "B= dirichlet(d)   \n",
      "\u0394=lap(d)\n",
      "h = 0.005\n",
      "\n",
      "# the 2 specifies that we are solving a second order equation\n",
      "# the default is to take u_t(x,0)=0\n",
      "timeevolution(2,B,\u0394,u0,h)"
     ],
     "language": "python",
     "metadata": {},
     "outputs": [
      {
       "output_type": "stream",
       "stream": "stderr",
       "text": [
        "Warning: redefining constant volumeshader\n",
        "Warning: redefining constant uvwshader\n"
       ]
      },
      {
       "ename": "LoadError",
       "evalue": "The GLFW library is not initialized\nwhile loading In[4], in expression starting on line 14",
       "output_type": "pyerr",
       "traceback": [
        "The GLFW library is not initialized\nwhile loading In[4], in expression starting on line 14",
        "",
        " in error at error.jl:21",
        " in anonymous at /Users/solver/.julia/v0.3/GLFW/src/GLFW.jl:27",
        " in ErrorCallbackWrapper at /Users/solver/.julia/v0.3/GLFW/src/util.jl:36",
        " in PollEvents at /Users/solver/.julia/v0.3/GLFW/src/glfw3.jl:419",
        " in glupdatewindow at /Users/solver/.julia/v0.3/ApproxFun/src/Plot/GLPlot.jl:35",
        " in glsurfupdate at /Users/solver/.julia/v0.3/ApproxFun/src/Plot/GLPlot.jl:53",
        " in plot at /Users/solver/.julia/v0.3/ApproxFun/src/Plot/Plot.jl:203",
        " in timeevolution2 at /Users/solver/.julia/v0.3/ApproxFun/src/Extras/timeevolution.jl:164",
        " in timeevolution2 at /Users/solver/.julia/v0.3/ApproxFun/src/Extras/timeevolution.jl:194",
        " in timeevolution2 at /Users/solver/.julia/v0.3/ApproxFun/src/Extras/timeevolution.jl:204",
        " in timeevolution at /Users/solver/.julia/v0.3/ApproxFun/src/Extras/timeevolution.jl:212"
       ]
      }
     ],
     "prompt_number": 4
    },
    {
     "cell_type": "heading",
     "level": 1,
     "metadata": {},
     "source": [
      "Wave equation with Dirichlet-Neumann\n",
      "$$u_{tt} = \\Delta u, u(x,y,0)=u_0(x,y), u(-1,y,t)=u_x(1,y,t)=u(x,\\pm 1,t)=0$$"
     ]
    },
    {
     "cell_type": "code",
     "collapsed": false,
     "input": [
      "h    = 0.005\n",
      "# initial condition\n",
      "d=Interval()^2\n",
      "u0   = Fun((x,y)->exp(-50x.^2-40(y-.1).^2)+.5exp(-30(x+.5).^2-40(y+.2).^2),d)\n",
      "\n",
      "dx=d[1];dy=d[2]\n",
      "B= [[ldirichlet(dx),rneumann(dx)]\u2297I,I\u2297dirichlet(dy)]   \n",
      "\n",
      "\u0394=lap(d)\n",
      "\n",
      "timeevolution(2,B,\u0394,u0,h)\n"
     ],
     "language": "python",
     "metadata": {},
     "outputs": [
      {
       "output_type": "stream",
       "stream": "stderr",
       "text": [
        "Warning: redefining constant volumeshader\n",
        "Warning: redefining constant uvwshader\n"
       ]
      },
      {
       "ename": "LoadError",
       "evalue": "The GLFW library is not initialized\nwhile loading In[5], in expression starting on line 11",
       "output_type": "pyerr",
       "traceback": [
        "The GLFW library is not initialized\nwhile loading In[5], in expression starting on line 11",
        "",
        " in error at error.jl:21",
        " in anonymous at /Users/solver/.julia/v0.3/GLFW/src/GLFW.jl:27",
        " in ErrorCallbackWrapper at /Users/solver/.julia/v0.3/GLFW/src/util.jl:36",
        " in PollEvents at /Users/solver/.julia/v0.3/GLFW/src/glfw3.jl:419",
        " in glupdatewindow at /Users/solver/.julia/v0.3/ApproxFun/src/Plot/GLPlot.jl:35",
        " in glsurfupdate at /Users/solver/.julia/v0.3/ApproxFun/src/Plot/GLPlot.jl:53",
        " in plot at /Users/solver/.julia/v0.3/ApproxFun/src/Plot/Plot.jl:203",
        " in timeevolution2 at /Users/solver/.julia/v0.3/ApproxFun/src/Extras/timeevolution.jl:164",
        " in timeevolution2 at /Users/solver/.julia/v0.3/ApproxFun/src/Extras/timeevolution.jl:194",
        " in timeevolution2 at /Users/solver/.julia/v0.3/ApproxFun/src/Extras/timeevolution.jl:204",
        " in timeevolution at /Users/solver/.julia/v0.3/ApproxFun/src/Extras/timeevolution.jl:212"
       ]
      }
     ],
     "prompt_number": 5
    },
    {
     "cell_type": "heading",
     "level": 1,
     "metadata": {},
     "source": [
      "Klein\u2013Gordon equation with Dirichlet\n",
      "$$u_{tt} = \\Delta u - 100u, u(x,y,0)=u_0(x,y), u(\\pm 1,y,t)=u(x,\\pm 1,t)=0$$"
     ]
    },
    {
     "cell_type": "code",
     "collapsed": false,
     "input": [
      "\n",
      "d=Interval()^2\n",
      "# initial condition\n",
      "u0   = Fun((x,y)->exp(-50x.^2-40(y-.1).^2)+.5exp(-30(x+.5).^2-40(y+.2).^2),d)\n",
      "B= dirichlet(d) \n",
      "\n",
      "L=lap(d)-100I\n",
      "\n",
      "h    = 0.003\n",
      "timeevolution(2,B,L,u0,h)\n"
     ],
     "language": "python",
     "metadata": {},
     "outputs": [
      {
       "output_type": "stream",
       "stream": "stderr",
       "text": [
        "Warning: redefining constant volumeshader\n",
        "Warning: redefining constant uvwshader\n"
       ]
      },
      {
       "ename": "LoadError",
       "evalue": "The GLFW library is not initialized\nwhile loading In[6], in expression starting on line 10",
       "output_type": "pyerr",
       "traceback": [
        "The GLFW library is not initialized\nwhile loading In[6], in expression starting on line 10",
        "",
        " in error at error.jl:21",
        " in anonymous at /Users/solver/.julia/v0.3/GLFW/src/GLFW.jl:27",
        " in ErrorCallbackWrapper at /Users/solver/.julia/v0.3/GLFW/src/util.jl:36",
        " in PollEvents at /Users/solver/.julia/v0.3/GLFW/src/glfw3.jl:419",
        " in glupdatewindow at /Users/solver/.julia/v0.3/ApproxFun/src/Plot/GLPlot.jl:35",
        " in glsurfupdate at /Users/solver/.julia/v0.3/ApproxFun/src/Plot/GLPlot.jl:53",
        " in plot at /Users/solver/.julia/v0.3/ApproxFun/src/Plot/Plot.jl:203",
        " in timeevolution2 at /Users/solver/.julia/v0.3/ApproxFun/src/Extras/timeevolution.jl:164",
        " in timeevolution2 at /Users/solver/.julia/v0.3/ApproxFun/src/Extras/timeevolution.jl:194",
        " in timeevolution2 at /Users/solver/.julia/v0.3/ApproxFun/src/Extras/timeevolution.jl:204",
        " in timeevolution at /Users/solver/.julia/v0.3/ApproxFun/src/Extras/timeevolution.jl:212"
       ]
      }
     ],
     "prompt_number": 6
    },
    {
     "cell_type": "heading",
     "level": 1,
     "metadata": {},
     "source": [
      "Sine Gordon"
     ]
    },
    {
     "cell_type": "code",
     "collapsed": false,
     "input": [
      "d=Interval()^2\n",
      "# initial condition\n",
      "u0   = Fun((x,y)->2.exp(-50x^2-50y^2),d)\n",
      "B= dirichlet(d) \n",
      "\n",
      "L=lap(d)-I\n",
      "g(u)=u-sin(u)\n",
      "\n",
      "h    = 0.0024\n",
      "timeevolution(2,B,L,g,u0,h)"
     ],
     "language": "python",
     "metadata": {},
     "outputs": [
      {
       "ename": "LoadError",
       "evalue": "The GLFW library is not initialized\nwhile loading In[2], in expression starting on line 10",
       "output_type": "pyerr",
       "traceback": [
        "The GLFW library is not initialized\nwhile loading In[2], in expression starting on line 10",
        "",
        " in error at error.jl:21",
        " in anonymous at /Users/solver/.julia/v0.3/GLFW/src/GLFW.jl:27",
        " in ErrorCallbackWrapper at /Users/solver/.julia/v0.3/GLFW/src/util.jl:36",
        " in PollEvents at /Users/solver/.julia/v0.3/GLFW/src/glfw3.jl:419",
        " in glupdatewindow at /Users/solver/.julia/v0.3/ApproxFun/src/Plot/GLPlot.jl:35",
        " in glsurfupdate at /Users/solver/.julia/v0.3/ApproxFun/src/Plot/GLPlot.jl:53",
        " in plot at /Users/solver/.julia/v0.3/ApproxFun/src/Plot/Plot.jl:203",
        " in timeevolution2 at /Users/solver/.julia/v0.3/ApproxFun/src/Extras/timeevolution.jl:186",
        " in timeevolution2 at /Users/solver/.julia/v0.3/ApproxFun/src/Extras/timeevolution.jl:200",
        " in timeevolution2 at /Users/solver/.julia/v0.3/ApproxFun/src/Extras/timeevolution.jl:208",
        " in timeevolution at /Users/solver/.julia/v0.3/ApproxFun/src/Extras/timeevolution.jl:215"
       ]
      }
     ],
     "prompt_number": 2
    }
   ],
   "metadata": {}
  }
 ]
}