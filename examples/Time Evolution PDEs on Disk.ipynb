{
 "metadata": {
  "language": "Julia",
  "name": "",
  "signature": "sha256:e6374301ebcc90df7a6f373120d09823406e4a95f272d3622df8914442ac25ff"
 },
 "nbformat": 3,
 "nbformat_minor": 0,
 "worksheets": [
  {
   "cells": [
    {
     "cell_type": "code",
     "collapsed": false,
     "input": [
      "# Requires GLPlot, FastGaussQuadrature\n",
      "using ApproxFun"
     ],
     "language": "python",
     "metadata": {},
     "outputs": [],
     "prompt_number": 1
    },
    {
     "cell_type": "heading",
     "level": 1,
     "metadata": {},
     "source": [
      "Heat equation with Dirichlet\n",
      " $$u_t =  \\Delta u$$"
     ]
    },
    {
     "cell_type": "code",
     "collapsed": false,
     "input": [
      "# domain is a disk\n",
      "d=Disk()\n",
      "# initial condition\n",
      "u0   = Fun((x,y)->exp(-40(x-.1)^2-40(y+.2)^2),d)\n",
      "# dirichlet boundary conditions\n",
      "B=dirichlet(d)\n",
      "\n",
      "\u0394=lap(d)\n",
      "h=0.005 # time step\n",
      "timeevolution(B,\u0394,u0,h)"
     ],
     "language": "python",
     "metadata": {},
     "outputs": [
      {
       "output_type": "stream",
       "stream": "stderr",
       "text": [
        "INFO: loaded GLFW 3.0.4 Cocoa NSGL chdir menubar dynamic from /Users/solver/.julia/v0.3/GLFW/deps/usr64/lib/libglfw\n"
       ]
      },
      {
       "ename": "LoadError",
       "evalue": "The GLFW library is not initialized\nwhile loading In[2], in expression starting on line 10",
       "output_type": "pyerr",
       "traceback": [
        "The GLFW library is not initialized\nwhile loading In[2], in expression starting on line 10",
        "",
        " in error at error.jl:21",
        " in anonymous at /Users/solver/.julia/v0.3/GLFW/src/GLFW.jl:25",
        " in ErrorCallback at /Users/solver/.julia/v0.3/GLFW/src/util.jl:90",
        " in SwapBuffers at /Users/solver/.julia/v0.3/GLFW/src/glfw3.jl:483",
        " in glupdatewindow at /Users/solver/.julia/v0.3/ApproxFun/src/Plot/GLPlot.jl:16",
        " in glsurf at /Users/solver/.julia/v0.3/ApproxFun/src/Plot/GLPlot.jl:34",
        " in surf at /Users/solver/.julia/v0.3/ApproxFun/src/Plot/Plot.jl:68",
        " in plot at /Users/solver/.julia/v0.3/ApproxFun/src/Plot/Plot.jl:190",
        " in timeevolution at /Users/solver/.julia/v0.3/ApproxFun/src/PDE/timeevolution.jl:25",
        " in timeevolution at /Users/solver/.julia/v0.3/ApproxFun/src/PDE/timeevolution.jl:36"
       ]
      }
     ],
     "prompt_number": 2
    },
    {
     "cell_type": "heading",
     "level": 1,
     "metadata": {},
     "source": [
      "Wave equation with Dirichlet \n",
      "$$u_{tt} = \\Delta u$$"
     ]
    },
    {
     "cell_type": "code",
     "collapsed": false,
     "input": [
      "# domain is a disk\n",
      "d=Disk()\n",
      "\n",
      "# initial condition\n",
      "u0   = Fun((x,y)->exp(-50x^2-40(y-.1)^2)+.5exp(-30(x+.5)^2-40(y+.2)^2),d)\n",
      "\n",
      "# dirichlet boundary conditions, try neumann(d).  mixed is also possible\n",
      "B= dirichlet(d)   \n",
      "\u0394=lap(d)\n",
      "h = 0.005\n",
      "\n",
      "# the 2 specifies that we are solving a second order equation\n",
      "# the default is to take u_t(x,0)=0\n",
      "timeevolution(2,B,\u0394,u0,h)"
     ],
     "language": "python",
     "metadata": {},
     "outputs": [
      {
       "output_type": "stream",
       "stream": "stderr",
       "text": [
        "Warning: redefining constant volumeshader\n",
        "Warning: redefining constant uvwshader\n"
       ]
      },
      {
       "ename": "LoadError",
       "evalue": "The GLFW library is not initialized\nwhile loading In[3], in expression starting on line 14",
       "output_type": "pyerr",
       "traceback": [
        "The GLFW library is not initialized\nwhile loading In[3], in expression starting on line 14",
        "",
        " in error at error.jl:21",
        " in anonymous at /Users/solver/.julia/v0.3/GLFW/src/GLFW.jl:25",
        " in ErrorCallback at /Users/solver/.julia/v0.3/GLFW/src/util.jl:90",
        " in SwapBuffers at /Users/solver/.julia/v0.3/GLFW/src/glfw3.jl:483",
        " in glupdatewindow at /Users/solver/.julia/v0.3/ApproxFun/src/Plot/GLPlot.jl:16",
        " in glsurf at /Users/solver/.julia/v0.3/ApproxFun/src/Plot/GLPlot.jl:34",
        " in surf at /Users/solver/.julia/v0.3/ApproxFun/src/Plot/Plot.jl:68",
        " in plot at /Users/solver/.julia/v0.3/ApproxFun/src/Plot/Plot.jl:190",
        " in timeevolution2 at /Users/solver/.julia/v0.3/ApproxFun/src/PDE/timeevolution.jl:55",
        " in timeevolution2 at /Users/solver/.julia/v0.3/ApproxFun/src/PDE/timeevolution.jl:66",
        " in timeevolution at /Users/solver/.julia/v0.3/ApproxFun/src/PDE/timeevolution.jl:70"
       ]
      }
     ],
     "prompt_number": 3
    },
    {
     "cell_type": "heading",
     "level": 1,
     "metadata": {},
     "source": [
      "Wave equation with Neumann\n",
      "$$u_{tt} = \\Delta u, u(x,y,0)=u_0(x,y)$$"
     ]
    },
    {
     "cell_type": "code",
     "collapsed": false,
     "input": [
      "h    = 0.005\n",
      "d=Disk()\n",
      "# initial condition\n",
      "u0   = Fun((x,y)->exp(-50x^2-40(y-.1)^2)+.5exp(-30(x+.5)^2-40(y+.2)^2),d)\n",
      "B= neumann(d)\n",
      "\n",
      "\u0394=lap(d)\n",
      "\n",
      "timeevolution(2,B,\u0394,u0,h)\n"
     ],
     "language": "python",
     "metadata": {},
     "outputs": [
      {
       "output_type": "stream",
       "stream": "stderr",
       "text": [
        "Warning: redefining constant volumeshader\n",
        "Warning: redefining constant uvwshader\n"
       ]
      },
      {
       "ename": "LoadError",
       "evalue": "The GLFW library is not initialized\nwhile loading In[4], in expression starting on line 9",
       "output_type": "pyerr",
       "traceback": [
        "The GLFW library is not initialized\nwhile loading In[4], in expression starting on line 9",
        "",
        " in error at error.jl:21",
        " in anonymous at /Users/solver/.julia/v0.3/GLFW/src/GLFW.jl:25",
        " in ErrorCallback at /Users/solver/.julia/v0.3/GLFW/src/util.jl:90",
        " in SwapBuffers at /Users/solver/.julia/v0.3/GLFW/src/glfw3.jl:483",
        " in glupdatewindow at /Users/solver/.julia/v0.3/ApproxFun/src/Plot/GLPlot.jl:16",
        " in glsurf at /Users/solver/.julia/v0.3/ApproxFun/src/Plot/GLPlot.jl:34",
        " in surf at /Users/solver/.julia/v0.3/ApproxFun/src/Plot/Plot.jl:68",
        " in plot at /Users/solver/.julia/v0.3/ApproxFun/src/Plot/Plot.jl:190",
        " in timeevolution2 at /Users/solver/.julia/v0.3/ApproxFun/src/PDE/timeevolution.jl:55",
        " in timeevolution2 at /Users/solver/.julia/v0.3/ApproxFun/src/PDE/timeevolution.jl:66",
        " in timeevolution at /Users/solver/.julia/v0.3/ApproxFun/src/PDE/timeevolution.jl:70"
       ]
      }
     ],
     "prompt_number": 4
    },
    {
     "cell_type": "heading",
     "level": 1,
     "metadata": {},
     "source": [
      "Klein\u2013Gordon equation with Dirichlet\n",
      "$$u_{tt} = \\Delta u - 100u, u(x,y,0)=u_0(x,y)$$"
     ]
    },
    {
     "cell_type": "code",
     "collapsed": false,
     "input": [
      "\n",
      "d=Disk()\n",
      "# initial condition\n",
      "u0   = Fun((x,y)->exp(-50x.^2-40(y-.1).^2)+.5exp(-30(x+.5).^2-40(y+.2).^2),d)\n",
      "B= dirichlet(d) \n",
      "\n",
      "L=lap(d)-100I\n",
      "\n",
      "h    = 0.005\n",
      "timeevolution(2,B,L,u0,h)\n"
     ],
     "language": "python",
     "metadata": {},
     "outputs": [
      {
       "output_type": "stream",
       "stream": "stderr",
       "text": [
        "Warning: redefining constant volumeshader\n",
        "Warning: redefining constant uvwshader\n"
       ]
      },
      {
       "ename": "LoadError",
       "evalue": "The GLFW library is not initialized\nwhile loading In[5], in expression starting on line 10",
       "output_type": "pyerr",
       "traceback": [
        "The GLFW library is not initialized\nwhile loading In[5], in expression starting on line 10",
        "",
        " in error at error.jl:21",
        " in anonymous at /Users/solver/.julia/v0.3/GLFW/src/GLFW.jl:25",
        " in ErrorCallback at /Users/solver/.julia/v0.3/GLFW/src/util.jl:90",
        " in SwapBuffers at /Users/solver/.julia/v0.3/GLFW/src/glfw3.jl:483",
        " in glupdatewindow at /Users/solver/.julia/v0.3/ApproxFun/src/Plot/GLPlot.jl:16",
        " in glsurf at /Users/solver/.julia/v0.3/ApproxFun/src/Plot/GLPlot.jl:34",
        " in surf at /Users/solver/.julia/v0.3/ApproxFun/src/Plot/Plot.jl:68",
        " in plot at /Users/solver/.julia/v0.3/ApproxFun/src/Plot/Plot.jl:190",
        " in timeevolution2 at /Users/solver/.julia/v0.3/ApproxFun/src/PDE/timeevolution.jl:55",
        " in timeevolution2 at /Users/solver/.julia/v0.3/ApproxFun/src/PDE/timeevolution.jl:66",
        " in timeevolution at /Users/solver/.julia/v0.3/ApproxFun/src/PDE/timeevolution.jl:70"
       ]
      }
     ],
     "prompt_number": 5
    },
    {
     "cell_type": "heading",
     "level": 1,
     "metadata": {},
     "source": [
      "Beam equation\n",
      "    $$u_{tt} + \\Delta^2 u = 0$$"
     ]
    },
    {
     "cell_type": "code",
     "collapsed": false,
     "input": [
      "\n",
      "d=Disk()\n",
      "# initial condition\n",
      "u0   = Fun((x,y)->exp(-50x.^2-40(y-.1).^2)+.5exp(-30(x+.5).^2-40(y+.2).^2),d)\n",
      "B= [dirichlet(d) ,neumann(d)]\n",
      "\n",
      "L=-lap(d)^2\n",
      "\n",
      "h    = 0.001\n",
      "timeevolution(2,B,L,u0,h)\n",
      "\n"
     ],
     "language": "python",
     "metadata": {},
     "outputs": [
      {
       "output_type": "stream",
       "stream": "stderr",
       "text": [
        "Warning: redefining constant volumeshader\n",
        "Warning: redefining constant uvwshader\n"
       ]
      },
      {
       "ename": "LoadError",
       "evalue": "`canonicalspace` has no method matching canonicalspace(::AnySpace)\nwhile loading In[6], in expression starting on line 10",
       "output_type": "pyerr",
       "traceback": [
        "`canonicalspace` has no method matching canonicalspace(::AnySpace)\nwhile loading In[6], in expression starting on line 10",
        "",
        " in getindex at /Users/solver/.julia/v0.3/ApproxFun/src/Operators/Operator.jl:40",
        " in toarray at /Users/solver/.julia/v0.3/ApproxFun/src/PDE/OperatorSchur.jl:2",
        " in pdetoarray at /Users/solver/.julia/v0.3/ApproxFun/src/PDE/OperatorSchur.jl:60",
        " in ReducedDiscreteOperators at /Users/solver/.julia/v0.3/ApproxFun/src/PDE/kron.jl:20",
        " in PDEOperatorKron at /Users/solver/.julia/v0.3/ApproxFun/src/PDE/kron.jl:71",
        " in kron at /Users/solver/.julia/v0.3/ApproxFun/src/PDE/kron.jl:85",
        " in discretize at /Users/solver/.julia/v0.3/ApproxFun/src/PDE/PDEOperator.jl:472",
        " in timeevolution2 at /Users/solver/.julia/v0.3/ApproxFun/src/PDE/timeevolution.jl:45",
        " in timeevolution2 at /Users/solver/.julia/v0.3/ApproxFun/src/PDE/timeevolution.jl:66",
        " in timeevolution at /Users/solver/.julia/v0.3/ApproxFun/src/PDE/timeevolution.jl:70"
       ]
      }
     ],
     "prompt_number": 6
    },
    {
     "cell_type": "code",
     "collapsed": false,
     "input": [
      "L"
     ],
     "language": "python",
     "metadata": {},
     "outputs": [
      {
       "metadata": {},
       "output_type": "pyout",
       "prompt_number": 7,
       "text": [
        "PDEOperator(4x2 Array{Operator{T},2}:\n",
        " TimesOperator{Float64,BandedOperator{Float64}}(BandedOperator{Float64}[ConstantOperator{Float64}(-1.0),PlusOperator{Float64,BandedOperator{T}}(BandedOperator[Derivative{AnySpace,Float64}(AnySpace(),2),TimesOperator{Float64,BandedOperator{Float64}}(BandedOperator{Float64}[Multiplication{JacobiWeightSpace{UltrasphericalSpace{0}},AnySpace,Float64}(Fun{JacobiWeightSpace{UltrasphericalSpace{0}},Float64}([2.0],JacobiWeightSpace{UltrasphericalSpace{0}}(0.0,-1.0,UltrasphericalSpace{0}(Interval{Float64}(1.0,0.0)))),AnySpace()),Derivative{AnySpace,Float64}(AnySpace(),1)])]),PlusOperator{Float64,BandedOperator{T}}(BandedOperator[Derivative{AnySpace,Float64}(AnySpace(),2),TimesOperator{Float64,BandedOperator{Float64}}(BandedOperator{Float64}[Multiplication{JacobiWeightSpace{UltrasphericalSpace{0}},AnySpace,Float64}(Fun{JacobiWeightSpace{UltrasphericalSpace{0}},Float64}([2.0],JacobiWeightSpace{UltrasphericalSpace{0}}(0.0,-1.0,UltrasphericalSpace{0}(Interval{Float64}(1.0,0.0)))),AnySpace()),Derivative{AnySpace,Float64}(AnySpace(),1)])])])  \u2026  ConstantOperator{Float64}(1.0)                                                                                                                    \n",
        " TimesOperator{Float64,BandedOperator{Float64}}(BandedOperator{Float64}[ConstantOperator{Float64}(-1.0),PlusOperator{Float64,BandedOperator{T}}(BandedOperator[Derivative{AnySpace,Float64}(AnySpace(),2),TimesOperator{Float64,BandedOperator{Float64}}(BandedOperator{Float64}[Multiplication{JacobiWeightSpace{UltrasphericalSpace{0}},AnySpace,Float64}(Fun{JacobiWeightSpace{UltrasphericalSpace{0}},Float64}([2.0],JacobiWeightSpace{UltrasphericalSpace{0}}(0.0,-1.0,UltrasphericalSpace{0}(Interval{Float64}(1.0,0.0)))),AnySpace()),Derivative{AnySpace,Float64}(AnySpace(),1)])]),Multiplication{JacobiWeightSpace{UltrasphericalSpace{0}},AnySpace,Float64}(Fun{JacobiWeightSpace{UltrasphericalSpace{0}},Float64}([4.0],JacobiWeightSpace{UltrasphericalSpace{0}}(0.0,-2.0,UltrasphericalSpace{0}(Interval{Float64}(1.0,0.0)))),AnySpace())])                                                                                                                                                                                                                             TimesOperator{Float64,BandedOperator{Float64}}(BandedOperator{Float64}[ConstantOperator{Float64}(1.0),Derivative{AnySpace,Float64}(AnySpace(),2)])\n",
        " TimesOperator{Float64,BandedOperator{Float64}}(BandedOperator{Float64}[ConstantOperator{Float64}(-1.0),Multiplication{JacobiWeightSpace{UltrasphericalSpace{0}},AnySpace,Float64}(Fun{JacobiWeightSpace{UltrasphericalSpace{0}},Float64}([4.0],JacobiWeightSpace{UltrasphericalSpace{0}}(0.0,-2.0,UltrasphericalSpace{0}(Interval{Float64}(1.0,0.0)))),AnySpace()),PlusOperator{Float64,BandedOperator{T}}(BandedOperator[Derivative{AnySpace,Float64}(AnySpace(),2),TimesOperator{Float64,BandedOperator{Float64}}(BandedOperator{Float64}[Multiplication{JacobiWeightSpace{UltrasphericalSpace{0}},AnySpace,Float64}(Fun{JacobiWeightSpace{UltrasphericalSpace{0}},Float64}([2.0],JacobiWeightSpace{UltrasphericalSpace{0}}(0.0,-1.0,UltrasphericalSpace{0}(Interval{Float64}(1.0,0.0)))),AnySpace()),Derivative{AnySpace,Float64}(AnySpace(),1)])])])                                                                                                                                                                                                                             TimesOperator{Float64,BandedOperator{Float64}}(BandedOperator{Float64}[Derivative{AnySpace,Float64}(AnySpace(),2),ConstantOperator{Float64}(1.0)])\n",
        " TimesOperator{Float64,BandedOperator{Float64}}(BandedOperator{Float64}[ConstantOperator{Float64}(-1.0),Multiplication{JacobiWeightSpace{UltrasphericalSpace{0}},AnySpace,Float64}(Fun{JacobiWeightSpace{UltrasphericalSpace{0}},Float64}([4.0],JacobiWeightSpace{UltrasphericalSpace{0}}(0.0,-2.0,UltrasphericalSpace{0}(Interval{Float64}(1.0,0.0)))),AnySpace()),Multiplication{JacobiWeightSpace{UltrasphericalSpace{0}},AnySpace,Float64}(Fun{JacobiWeightSpace{UltrasphericalSpace{0}},Float64}([4.0],JacobiWeightSpace{UltrasphericalSpace{0}}(0.0,-2.0,UltrasphericalSpace{0}(Interval{Float64}(1.0,0.0)))),AnySpace())])                                                                                                                                                                                                                                                                                                                                                                                                                                                     Derivative{AnySpace,Float64}(AnySpace(),4)                                                                                                        ,ProductDomain{Domain}(Domain[Interval{Float64}(1.0,0.0),AnyDomain()]))"
       ]
      }
     ],
     "prompt_number": 7
    },
    {
     "cell_type": "code",
     "collapsed": false,
     "input": [],
     "language": "python",
     "metadata": {},
     "outputs": []
    }
   ],
   "metadata": {}
  }
 ]
}