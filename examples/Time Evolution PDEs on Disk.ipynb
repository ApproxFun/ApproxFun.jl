{
 "metadata": {
  "language": "Julia",
  "name": "",
  "signature": "sha256:15b079810341a5be79f4a8eb6fa06a9d5850d21200563a983222161d29ffb013"
 },
 "nbformat": 3,
 "nbformat_minor": 0,
 "worksheets": [
  {
   "cells": [
    {
     "cell_type": "code",
     "collapsed": false,
     "input": [
      "# Requires GLPlot\n",
      "using ApproxFun"
     ],
     "language": "python",
     "metadata": {},
     "outputs": [],
     "prompt_number": 1
    },
    {
     "cell_type": "heading",
     "level": 1,
     "metadata": {},
     "source": [
      "Heat equation with Dirichlet\n",
      " $$u_t =  \\Delta u$$"
     ]
    },
    {
     "cell_type": "code",
     "collapsed": false,
     "input": [
      "# domain is a disk\n",
      "d=Disk()\n",
      "# initial condition\n",
      "u0   = Fun((x,y)->exp(-40(x-.1)^2-40(y+.2)^2),d)\n",
      "# dirichlet boundary conditions\n",
      "B=dirichlet(d)\n",
      "\n",
      "\u0394=lap(d)\n",
      "h=0.005 # time step\n",
      "timeevolution(B,\u0394,u0,h)"
     ],
     "language": "python",
     "metadata": {},
     "outputs": [
      {
       "output_type": "stream",
       "stream": "stderr",
       "text": [
        "INFO: loaded GLFW 3.0.4 Cocoa NSGL chdir menubar dynamic from /Users/solver/.julia/v0.3/GLFW/deps/usr64/lib/libglfw\n"
       ]
      },
      {
       "ename": "LoadError",
       "evalue": "The GLFW library is not initialized\nwhile loading In[2], in expression starting on line 10",
       "output_type": "pyerr",
       "traceback": [
        "The GLFW library is not initialized\nwhile loading In[2], in expression starting on line 10",
        "",
        " in error at error.jl:21",
        " in anonymous at /Users/solver/.julia/v0.3/GLFW/src/GLFW.jl:25",
        " in ErrorCallback at /Users/solver/.julia/v0.3/GLFW/src/util.jl:90",
        " in SwapBuffers at /Users/solver/.julia/v0.3/GLFW/src/glfw3.jl:483",
        " in glupdatewindow at /Users/solver/.julia/v0.3/ApproxFun/src/Plot/GLPlot.jl:16",
        " in glsurf at /Users/solver/.julia/v0.3/ApproxFun/src/Plot/GLPlot.jl:34",
        " in surf at /Users/solver/.julia/v0.3/ApproxFun/src/Plot/Plot.jl:66",
        " in plot at /Users/solver/.julia/v0.3/ApproxFun/src/Plot/Plot.jl:185",
        " in timeevolution at /Users/solver/.julia/v0.3/ApproxFun/src/PDE/timeevolution.jl:25",
        " in timeevolution at /Users/solver/.julia/v0.3/ApproxFun/src/PDE/timeevolution.jl:36"
       ]
      }
     ],
     "prompt_number": 2
    },
    {
     "cell_type": "heading",
     "level": 1,
     "metadata": {},
     "source": [
      "Wave equation with Dirichlet \n",
      "$$u_{tt} = \\Delta u$$"
     ]
    },
    {
     "cell_type": "code",
     "collapsed": false,
     "input": [
      "# domain is a disk\n",
      "d=Disk()\n",
      "\n",
      "# initial condition\n",
      "u0   = Fun((x,y)->exp(-50x.^2-40(y-.1).^2)+.5exp(-30(x+.5).^2-40(y+.2).^2),d)\n",
      "\n",
      "# dirichlet boundary conditions, try neumann(d).  mixed is also possible\n",
      "B= dirichlet(d)   \n",
      "\u0394=lap(d)\n",
      "h = 0.005\n",
      "\n",
      "# the 2 specifies that we are solving a second order equation\n",
      "# the default is to take u_t(x,0)=0\n",
      "timeevolution(2,B,\u0394,u0,h)"
     ],
     "language": "python",
     "metadata": {},
     "outputs": [
      {
       "output_type": "stream",
       "stream": "stderr",
       "text": [
        "Warning: redefining constant volumeshader\n",
        "Warning: redefining constant uvwshader\n"
       ]
      },
      {
       "ename": "LoadError",
       "evalue": "The GLFW library is not initialized\nwhile loading In[3], in expression starting on line 14",
       "output_type": "pyerr",
       "traceback": [
        "The GLFW library is not initialized\nwhile loading In[3], in expression starting on line 14",
        "",
        " in error at error.jl:21",
        " in anonymous at /Users/solver/.julia/v0.3/GLFW/src/GLFW.jl:25",
        " in ErrorCallback at /Users/solver/.julia/v0.3/GLFW/src/util.jl:90",
        " in SwapBuffers at /Users/solver/.julia/v0.3/GLFW/src/glfw3.jl:483",
        " in glupdatewindow at /Users/solver/.julia/v0.3/ApproxFun/src/Plot/GLPlot.jl:16",
        " in glsurf at /Users/solver/.julia/v0.3/ApproxFun/src/Plot/GLPlot.jl:34",
        " in surf at /Users/solver/.julia/v0.3/ApproxFun/src/Plot/Plot.jl:66",
        " in plot at /Users/solver/.julia/v0.3/ApproxFun/src/Plot/Plot.jl:185",
        " in timeevolution2 at /Users/solver/.julia/v0.3/ApproxFun/src/PDE/timeevolution.jl:55",
        " in timeevolution2 at /Users/solver/.julia/v0.3/ApproxFun/src/PDE/timeevolution.jl:66",
        " in timeevolution at /Users/solver/.julia/v0.3/ApproxFun/src/PDE/timeevolution.jl:70"
       ]
      }
     ],
     "prompt_number": 3
    },
    {
     "cell_type": "heading",
     "level": 1,
     "metadata": {},
     "source": [
      "Wave equation with Neumann\n",
      "$$u_{tt} = \\Delta u, u(x,y,0)=u_0(x,y)$$"
     ]
    },
    {
     "cell_type": "code",
     "collapsed": false,
     "input": [
      "h    = 0.005\n",
      "d=Disk()\n",
      "# initial condition\n",
      "u0   = Fun((x,y)->exp(-50x.^2-40(y-.1).^2)+.5exp(-30(x+.5).^2-40(y+.2).^2),d)\n",
      "B= neumann(d)\n",
      "\n",
      "\u0394=lap(d)\n",
      "\n",
      "timeevolution(2,B,\u0394,u0,h)\n"
     ],
     "language": "python",
     "metadata": {},
     "outputs": []
    },
    {
     "cell_type": "heading",
     "level": 1,
     "metadata": {},
     "source": [
      "Klein\u2013Gordon equation with Dirichlet\n",
      "$$u_{tt} = \\Delta u - 100u, u(x,y,0)=u_0(x,y)$$"
     ]
    },
    {
     "cell_type": "code",
     "collapsed": false,
     "input": [
      "\n",
      "d=Disk()\n",
      "# initial condition\n",
      "u0   = Fun((x,y)->exp(-50x.^2-40(y-.1).^2)+.5exp(-30(x+.5).^2-40(y+.2).^2),d)\n",
      "B= dirichlet(d) \n",
      "\n",
      "L=lap(d)-100I\n",
      "\n",
      "h    = 0.005\n",
      "timeevolution(2,B,L,u0,h)\n"
     ],
     "language": "python",
     "metadata": {},
     "outputs": []
    },
    {
     "cell_type": "heading",
     "level": 1,
     "metadata": {},
     "source": [
      "Beam equation\n",
      "    $$u_{tt} + \\Delta^2 u = 0$$"
     ]
    },
    {
     "cell_type": "code",
     "collapsed": false,
     "input": [
      "\n",
      "d=Disk()\n",
      "# initial condition\n",
      "u0   = Fun((x,y)->exp(-50x.^2-40(y-.1).^2)+.5exp(-30(x+.5).^2-40(y+.2).^2),d)\n",
      "B= [dirichlet(d) ,neumann(d)]\n",
      "\n",
      "L=-lap(d)^2\n",
      "\n",
      "h    = 0.002\n",
      "timeevolution(2,B,L,u0,h)\n",
      "\n"
     ],
     "language": "python",
     "metadata": {},
     "outputs": [
      {
       "output_type": "stream",
       "stream": "stderr",
       "text": [
        "INFO: loaded GLFW 3.0.4 Cocoa NSGL chdir menubar dynamic from /Users/solver/.julia/v0.3/GLFW/deps/usr64/lib/libglfw\n"
       ]
      },
      {
       "ename": "LoadError",
       "evalue": "`schurfact` has no method matching schurfact(::Array{PDEOperator,1}, ::DiskSpace{2,JacobiSquareSpace,PeriodicSumSpace{Complex{Float64},HardySpace{true},HardySpace{false}}}, ::Int64)\nwhile loading In[2], in expression starting on line 10",
       "output_type": "pyerr",
       "traceback": [
        "`schurfact` has no method matching schurfact(::Array{PDEOperator,1}, ::DiskSpace{2,JacobiSquareSpace,PeriodicSumSpace{Complex{Float64},HardySpace{true},HardySpace{false}}}, ::Int64)\nwhile loading In[2], in expression starting on line 10",
        "",
        " in timeevolution2 at /Users/solver/.julia/v0.3/ApproxFun/src/PDE/timeevolution.jl:44",
        " in timeevolution2 at /Users/solver/.julia/v0.3/ApproxFun/src/PDE/timeevolution.jl:65",
        " in timeevolution at /Users/solver/.julia/v0.3/ApproxFun/src/PDE/timeevolution.jl:69"
       ]
      }
     ],
     "prompt_number": 2
    },
    {
     "cell_type": "code",
     "collapsed": false,
     "input": [],
     "language": "python",
     "metadata": {},
     "outputs": []
    }
   ],
   "metadata": {}
  }
 ]
}