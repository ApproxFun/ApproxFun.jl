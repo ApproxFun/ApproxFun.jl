{
 "cells": [
  {
   "cell_type": "code",
   "execution_count": null,
   "metadata": {
    "collapsed": false
   },
   "outputs": [],
   "source": [
    "using ApproxFun\n",
    "setplotter(\"PyPlot\");"
   ]
  },
  {
   "cell_type": "markdown",
   "metadata": {},
   "source": [
    "# Piecewise function sampling"
   ]
  },
  {
   "cell_type": "code",
   "execution_count": null,
   "metadata": {
    "collapsed": false
   },
   "outputs": [],
   "source": [
    "f = abs(Fun(sin,[-5,5]))\n",
    "r = ApproxFun.sample(f,10000)\n",
    "ApproxFun.plot(f/sum(f))                           # Requires Gadfly or PyPlot\n",
    "ApproxFun.hist(r;normed=true,bins=-5.:.1:5);"
   ]
  },
  {
   "cell_type": "markdown",
   "metadata": {},
   "source": [
    "# Jacobi singularity sampling"
   ]
  },
  {
   "cell_type": "code",
   "execution_count": null,
   "metadata": {
    "collapsed": false
   },
   "outputs": [],
   "source": [
    "x=Fun(identity)\n",
    "f = exp(x)*sqrt(1-x^2)\n",
    "r = ApproxFun.sample(f,10000)\n",
    "ApproxFun.plot(f/sum(f))                           # Requires Gadfly or PyPlot\n",
    "PyPlot.plt[:hist](r;normed=true,bins=-1.:.05:1.);"
   ]
  },
  {
   "cell_type": "code",
   "execution_count": null,
   "metadata": {
    "collapsed": false
   },
   "outputs": [],
   "source": [
    "x=Fun(identity)\n",
    "f = exp(x)/sqrt(1-x^2)\n",
    "r = ApproxFun.sample(f,10000)\n",
    "ApproxFun.plot(f/sum(f);axis=[0.,5.])                           # Requires Gadfly or PyPlot\n",
    "ApproxFun.hist(r;normed=true,bins=-1.:.05:1.);"
   ]
  },
  {
   "cell_type": "code",
   "execution_count": null,
   "metadata": {
    "collapsed": false
   },
   "outputs": [],
   "source": [
    "x=Fun(identity)\n",
    "f = exp(x)*(1-x)^0.123*(1+x)^(-0.234)\n",
    "r = ApproxFun.sample(f,10000)\n",
    "ApproxFun.plot(f/sum(f))                           # Requires Gadfly or PyPlot\n",
    "ApproxFun.hist(r;normed=true,bins=-1.:.05:1.);"
   ]
  },
  {
   "cell_type": "markdown",
   "metadata": {},
   "source": [
    "# Heavy-tail sampling"
   ]
  },
  {
   "cell_type": "code",
   "execution_count": null,
   "metadata": {
    "collapsed": false
   },
   "outputs": [],
   "source": [
    "f=Fun(x->(1+sech(x))/(1+x^2),[-Inf,Inf])\n",
    "r=ApproxFun.sample(f,10000)\n",
    "\n",
    "ApproxFun.plot(-15.:.01:15.,f/sum(f))\n",
    "ApproxFun.hist(r;bins=-15.:.5:15.,normed=true);"
   ]
  },
  {
   "cell_type": "code",
   "execution_count": null,
   "metadata": {
    "collapsed": false
   },
   "outputs": [],
   "source": [
    "f=Fun(x->(exp(-x)+1)/(1+x^2),[0,Inf])\n",
    "r=ApproxFun.sample(f,10000)\n",
    "\n",
    "ApproxFun.plot(0:.05:15,f/sum(f))\n",
    "ApproxFun.hist(r;bins=0.:.2:15,normed=true);"
   ]
  }
 ],
 "metadata": {
  "kernelspec": {
   "display_name": "Julia 0.4.0-rc1",
   "language": "julia",
   "name": "julia-0.4"
  },
  "language_info": {
   "file_extension": ".jl",
   "mimetype": "application/julia",
   "name": "julia",
   "version": "0.4.0"
  }
 },
 "nbformat": 4,
 "nbformat_minor": 0
}
