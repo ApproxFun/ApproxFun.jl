{
 "metadata": {
  "language": "Julia",
  "name": "",
  "signature": "sha256:eb592e2a7688f1236a9491f51f3acd95836932c7eb06a9b1e5d507c12189d45d"
 },
 "nbformat": 3,
 "nbformat_minor": 0,
 "worksheets": [
  {
   "cells": [
    {
     "cell_type": "code",
     "collapsed": false,
     "input": [
      "using ApproxFun"
     ],
     "language": "python",
     "metadata": {},
     "outputs": [],
     "prompt_number": 3
    },
    {
     "cell_type": "heading",
     "level": 1,
     "metadata": {},
     "source": [
      "Helmholtz $u_{xx} + u_{yy} + 2 \\omega^2 u = 0, u(\\pm 1,y) = f(\\pm 1,y), u(x,\\pm 1)=f(x,\\pm 1)$"
     ]
    },
    {
     "cell_type": "code",
     "collapsed": false,
     "input": [
      "dx=dy=Interval()\n",
      "d=dx\u2297dy\n",
      "\n",
      "B=dirichlet(d)\n",
      "\n",
      "const \u03c9=100\u03c0\n",
      "f(x,y)=cos(\u03c9*x)*cos(\u03c9*y)\n",
      "    \n",
      "@time u=pdesolve([B,lap(d)+2*\u03c9^2*I],[Fun(y->f(-1.,y),dy),Fun(y->f(1.,y),dy),Fun(x->f(x,-1.),dx),Fun(x->f(x,1.),dx)]);\n",
      "\n",
      "#check accuracy of approximation\n",
      "u[.12345,.22345]-f(.12345,.22345)"
     ],
     "language": "python",
     "metadata": {},
     "outputs": [
      {
       "output_type": "stream",
       "stream": "stdout",
       "text": [
        "elapsed time: 3"
       ]
      },
      {
       "output_type": "stream",
       "stream": "stdout",
       "text": [
        ".856137866 seconds (864694192 bytes allocated, 15.89% gc time)\n"
       ]
      },
      {
       "metadata": {},
       "output_type": "pyout",
       "prompt_number": 5,
       "text": [
        "1.6666640290097234e-11"
       ]
      }
     ],
     "prompt_number": 5
    },
    {
     "cell_type": "heading",
     "level": 1,
     "metadata": {},
     "source": [
      "Klein-Gordon $u_{tt} = u_{xx} - 5u, u(0,x)=e^{-50(x-.2)^2}, u_t(0,x)=0, u(t,-1)=0,u(t,1)/5 + u_x(t,1) = 0$"
     ]
    },
    {
     "cell_type": "code",
     "collapsed": false,
     "input": [
      "dx=Interval()\n",
      "dt=Interval(0.,10.)\n",
      "d=dt\u2297dx\n",
      "Dx=diff(d,2);Dt=diff(d,1)\n",
      "Bx=[ldirichlet(dx),rdirichlet(dx)/5+rneumann(dx)]\n",
      "B=[[ldirichlet(dt),lneumann(dt)]\u2297I,I\u2297Bx]\n",
      "    \n",
      "@time u=pdesolve([B,(Dt^2+5I)-Dx^2],[Fun(x->exp(-50.(x-.2).^2),dx)],1e-8);"
     ],
     "language": "python",
     "metadata": {},
     "outputs": [
      {
       "output_type": "stream",
       "stream": "stdout",
       "text": [
        "elapsed time: 0."
       ]
      },
      {
       "output_type": "stream",
       "stream": "stdout",
       "text": [
        "89583047 seconds (292888416 bytes allocated, 34.23% gc time)\n"
       ]
      }
     ],
     "prompt_number": 4
    },
    {
     "cell_type": "code",
     "collapsed": false,
     "input": [
      "# contour(u) is broken so we use GLPlot\n",
      "using GLPlot\n",
      "obj,window=plot(0.:.01:10.,-1.:.01:1.,u);\n",
      "renderloop(window)"
     ],
     "language": "python",
     "metadata": {},
     "outputs": [
      {
       "output_type": "stream",
       "stream": "stderr",
       "text": [
        "Warning: redefining constant volumeshader\n",
        "Warning: redefining constant uvwshader\n"
       ]
      },
      {
       "metadata": {},
       "output_type": "pyout",
       "prompt_number": 7,
       "text": [
        "0-element Array{RenderObject,1}"
       ]
      }
     ],
     "prompt_number": 7
    }
   ],
   "metadata": {}
  }
 ]
}