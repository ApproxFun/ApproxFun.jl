{
 "cells": [
  {
   "cell_type": "code",
   "execution_count": 28,
   "metadata": {
    "collapsed": false
   },
   "outputs": [],
   "source": [
    "using Plots, ApproxFun"
   ]
  },
  {
   "cell_type": "markdown",
   "metadata": {},
   "source": [
    "We demonstrate numerical solution of the examples in [Hale & Olver 2016]:\n",
    "\n",
    "##### Example 1\n",
    "\n",
    "$$y(x) + {}_{-1} {\\cal Q}_x^{1/2} y(x) = 1$$"
   ]
  },
  {
   "cell_type": "code",
   "execution_count": 29,
   "metadata": {
    "collapsed": false
   },
   "outputs": [
    {
     "name": "stdout",
     "output_type": "stream",
     "text": [
      "[Plots.jl] Initializing backend: gr\n"
     ]
    },
    {
     "name": "stderr",
     "output_type": "stream",
     "text": [
      "INFO: Recompiling stale cache file /Users/solver/.julia/lib/v0.4/GR.ji for module GR.\n"
     ]
    },
    {
     "data": {
      "text/html": [
       "<?xml version=\"1.0\" encoding=\"utf-8\"?>\n",
       "<svg xmlns=\"http://www.w3.org/2000/svg\" xmlns:xlink=\"http://www.w3.org/1999/xlink\" width=\"600\" height=\"400\" viewBox=\"0 0 600 400\">\n",
       "<defs>\n",
       "  <clipPath id=\"clip00\">\n",
       "    <rect x=\"0\" y=\"0\" width=\"600\" height=\"400\"/>\n",
       "  </clipPath>\n",
       "</defs>\n",
       "<polygon clip-path=\"url(#clip00)\" points=\"\n",
       "0,400 600,400 600,0 0,0 \n",
       "  \" fill=\"#ffffff\" fill-opacity=\"1\"/>\n",
       "<defs>\n",
       "  <clipPath id=\"clip01\">\n",
       "    <rect x=\"120\" y=\"0\" width=\"421\" height=\"400\"/>\n",
       "  </clipPath>\n",
       "</defs>\n",
       "<polygon clip-path=\"url(#clip00)\" points=\"\n",
       "35.4331,377.078 596.063,377.078 596.063,3.93701 35.4331,3.93701 \n",
       "  \" fill=\"#ffffff\" fill-opacity=\"1\"/>\n",
       "<defs>\n",
       "  <clipPath id=\"clip02\">\n",
       "    <rect x=\"35\" y=\"3\" width=\"561\" height=\"374\"/>\n",
       "  </clipPath>\n",
       "</defs>\n",
       "<polyline clip-path=\"url(#clip02)\" style=\"stroke:#00002d; stroke-width:0.8; stroke-opacity:0.5; fill:none\" stroke-dasharray=\"1, 2\" points=\"\n",
       "  175.583,371.481 175.583,9.53412 \n",
       "  \"/>\n",
       "<polyline clip-path=\"url(#clip02)\" style=\"stroke:#00002d; stroke-width:0.8; stroke-opacity:0.5; fill:none\" stroke-dasharray=\"1, 2\" points=\"\n",
       "  315.748,371.481 315.748,9.53412 \n",
       "  \"/>\n",
       "<polyline clip-path=\"url(#clip02)\" style=\"stroke:#00002d; stroke-width:0.8; stroke-opacity:0.5; fill:none\" stroke-dasharray=\"1, 2\" points=\"\n",
       "  455.913,371.481 455.913,9.53412 \n",
       "  \"/>\n",
       "<polyline clip-path=\"url(#clip02)\" style=\"stroke:#00002d; stroke-width:0.8; stroke-opacity:0.5; fill:none\" stroke-dasharray=\"1, 2\" points=\"\n",
       "  43.8425,283.854 587.654,283.854 \n",
       "  \"/>\n",
       "<polyline clip-path=\"url(#clip02)\" style=\"stroke:#00002d; stroke-width:0.8; stroke-opacity:0.5; fill:none\" stroke-dasharray=\"1, 2\" points=\"\n",
       "  43.8425,141.564 587.654,141.564 \n",
       "  \"/>\n",
       "<polyline clip-path=\"url(#clip02)\" style=\"stroke:#00002d; stroke-width:0.8; stroke-opacity:1; fill:none\" points=\"\n",
       "  35.4331,377.078 596.063,377.078 \n",
       "  \"/>\n",
       "<polyline clip-path=\"url(#clip02)\" style=\"stroke:#00002d; stroke-width:0.8; stroke-opacity:1; fill:none\" points=\"\n",
       "  35.4331,3.93701 596.063,3.93701 \n",
       "  \"/>\n",
       "<polyline clip-path=\"url(#clip02)\" style=\"stroke:#00002d; stroke-width:0.8; stroke-opacity:1; fill:none\" points=\"\n",
       "  175.583,377.078 175.583,371.481 \n",
       "  \"/>\n",
       "<polyline clip-path=\"url(#clip02)\" style=\"stroke:#00002d; stroke-width:0.8; stroke-opacity:1; fill:none\" points=\"\n",
       "  175.583,3.93701 175.583,9.53412 \n",
       "  \"/>\n",
       "<polyline clip-path=\"url(#clip02)\" style=\"stroke:#00002d; stroke-width:0.8; stroke-opacity:1; fill:none\" points=\"\n",
       "  315.748,377.078 315.748,371.481 \n",
       "  \"/>\n",
       "<polyline clip-path=\"url(#clip02)\" style=\"stroke:#00002d; stroke-width:0.8; stroke-opacity:1; fill:none\" points=\"\n",
       "  315.748,3.93701 315.748,9.53412 \n",
       "  \"/>\n",
       "<polyline clip-path=\"url(#clip02)\" style=\"stroke:#00002d; stroke-width:0.8; stroke-opacity:1; fill:none\" points=\"\n",
       "  455.913,377.078 455.913,371.481 \n",
       "  \"/>\n",
       "<polyline clip-path=\"url(#clip02)\" style=\"stroke:#00002d; stroke-width:0.8; stroke-opacity:1; fill:none\" points=\"\n",
       "  455.913,3.93701 455.913,9.53412 \n",
       "  \"/>\n",
       "<polyline clip-path=\"url(#clip02)\" style=\"stroke:#00002d; stroke-width:0.8; stroke-opacity:1; fill:none\" points=\"\n",
       "  35.4331,377.078 35.4331,3.93701 \n",
       "  \"/>\n",
       "<polyline clip-path=\"url(#clip02)\" style=\"stroke:#00002d; stroke-width:0.8; stroke-opacity:1; fill:none\" points=\"\n",
       "  596.063,377.078 596.063,3.93701 \n",
       "  \"/>\n",
       "<polyline clip-path=\"url(#clip02)\" style=\"stroke:#00002d; stroke-width:0.8; stroke-opacity:1; fill:none\" points=\"\n",
       "  35.4331,283.854 43.8425,283.854 \n",
       "  \"/>\n",
       "<polyline clip-path=\"url(#clip02)\" style=\"stroke:#00002d; stroke-width:0.8; stroke-opacity:1; fill:none\" points=\"\n",
       "  596.063,283.854 587.654,283.854 \n",
       "  \"/>\n",
       "<polyline clip-path=\"url(#clip02)\" style=\"stroke:#00002d; stroke-width:0.8; stroke-opacity:1; fill:none\" points=\"\n",
       "  35.4331,141.564 43.8425,141.564 \n",
       "  \"/>\n",
       "<polyline clip-path=\"url(#clip02)\" style=\"stroke:#00002d; stroke-width:0.8; stroke-opacity:1; fill:none\" points=\"\n",
       "  596.063,141.564 587.654,141.564 \n",
       "  \"/>\n",
       "<g clip-path=\"url(#clip00)\">\n",
       "<text style=\"fill:#00002d; fill-opacity:1; font-family:Arial,Helvetica Neue,Helvetica,sans-serif; font-size:12; text-anchor:middle;\" transform=\"rotate(0, 175.583, 393.878)\" x=\"175.583\" y=\"393.878\">-0.5</text>\n",
       "</g>\n",
       "<g clip-path=\"url(#clip00)\">\n",
       "<text style=\"fill:#00002d; fill-opacity:1; font-family:Arial,Helvetica Neue,Helvetica,sans-serif; font-size:12; text-anchor:middle;\" transform=\"rotate(0, 315.748, 393.878)\" x=\"315.748\" y=\"393.878\">0.0</text>\n",
       "</g>\n",
       "<g clip-path=\"url(#clip00)\">\n",
       "<text style=\"fill:#00002d; fill-opacity:1; font-family:Arial,Helvetica Neue,Helvetica,sans-serif; font-size:12; text-anchor:middle;\" transform=\"rotate(0, 455.913, 393.878)\" x=\"455.913\" y=\"393.878\">0.5</text>\n",
       "</g>\n",
       "<g clip-path=\"url(#clip00)\">\n",
       "<text style=\"fill:#00002d; fill-opacity:1; font-family:Arial,Helvetica Neue,Helvetica,sans-serif; font-size:12; text-anchor:end;\" transform=\"rotate(0, 29.4331, 288.354)\" x=\"29.4331\" y=\"288.354\">0.50</text>\n",
       "</g>\n",
       "<g clip-path=\"url(#clip00)\">\n",
       "<text style=\"fill:#00002d; fill-opacity:1; font-family:Arial,Helvetica Neue,Helvetica,sans-serif; font-size:12; text-anchor:end;\" transform=\"rotate(0, 29.4331, 146.064)\" x=\"29.4331\" y=\"146.064\">0.75</text>\n",
       "</g>\n",
       "<polyline clip-path=\"url(#clip02)\" style=\"stroke:#0099ff; stroke-width:0.8; stroke-opacity:1; fill:none\" points=\"\n",
       "  35.4331,3.93701 35.5528,13.0836 35.7922,21.9974 36.1513,30.6849 36.6297,39.1526 37.2274,47.4067 37.9441,55.4532 38.7794,63.298 39.733,70.9468 40.8046,78.4052 \n",
       "  41.9936,85.6784 43.2995,92.7717 44.7218,99.69 46.2599,106.438 47.9131,113.021 49.6807,119.444 51.5619,125.71 53.5561,131.824 55.6622,137.791 57.8794,143.614 \n",
       "  60.2068,149.297 62.6433,154.844 65.1879,160.259 67.8396,165.545 70.5972,170.706 73.4595,175.746 76.4253,180.667 79.4933,185.472 82.6622,190.166 85.9307,194.75 \n",
       "  89.2974,199.228 92.7608,203.602 96.3195,207.875 99.9719,212.051 103.716,216.13 107.552,220.116 111.476,224.012 115.487,227.819 119.584,231.54 123.765,235.177 \n",
       "  128.027,238.732 132.37,242.208 136.791,245.605 141.289,248.927 145.861,252.175 150.506,255.35 155.221,258.456 160.005,261.492 164.855,264.462 169.77,267.366 \n",
       "  174.748,270.207 179.785,272.985 184.881,275.702 190.032,278.361 195.237,280.961 200.494,283.505 205.8,285.993 211.153,288.427 216.55,290.809 221.99,293.139 \n",
       "  227.47,295.419 232.988,297.649 238.541,299.831 244.126,301.966 249.743,304.055 255.388,306.099 261.058,308.099 266.752,310.056 272.467,311.97 278.2,313.844 \n",
       "  283.95,315.676 289.713,317.47 295.487,319.224 301.27,320.94 307.058,322.62 312.851,324.262 318.645,325.869 324.438,327.441 330.226,328.979 336.009,330.483 \n",
       "  341.783,331.954 347.546,333.393 353.296,334.799 359.029,336.175 364.744,337.52 370.438,338.835 376.108,340.12 381.753,341.377 387.37,342.605 392.956,343.805 \n",
       "  398.509,344.978 404.026,346.124 409.506,347.243 414.946,348.336 420.344,349.403 425.696,350.446 431.002,351.463 436.259,352.456 441.464,353.425 446.615,354.37 \n",
       "  451.711,355.292 456.748,356.191 461.726,357.067 466.641,357.921 471.491,358.753 476.275,359.564 480.99,360.353 485.635,361.121 490.207,361.868 494.705,362.594 \n",
       "  499.126,363.301 503.469,363.987 507.732,364.654 511.912,365.301 516.009,365.928 520.02,366.537 523.944,367.127 527.78,367.698 531.524,368.251 535.177,368.785 \n",
       "  538.735,369.302 542.199,369.8 545.565,370.281 548.834,370.745 552.003,371.19 555.071,371.619 558.037,372.031 560.899,372.425 563.656,372.803 566.308,373.165 \n",
       "  568.853,373.509 571.289,373.837 573.617,374.149 575.834,374.445 577.94,374.724 579.934,374.988 581.815,375.235 583.583,375.467 585.236,375.683 586.774,375.883 \n",
       "  588.197,376.067 589.503,376.236 590.691,376.39 591.763,376.528 592.717,376.65 593.552,376.757 594.269,376.849 594.866,376.925 595.345,376.986 595.704,377.032 \n",
       "  595.943,377.063 596.063,377.078 \n",
       "  \"/>\n",
       "<polygon clip-path=\"url(#clip00)\" points=\"\n",
       "505.547,55.057 578.063,55.057 578.063,24.817 505.547,24.817 \n",
       "  \" fill=\"#ffffff\" fill-opacity=\"1\"/>\n",
       "<polyline clip-path=\"url(#clip00)\" style=\"stroke:#00002d; stroke-width:0.8; stroke-opacity:1; fill:none\" points=\"\n",
       "  505.547,55.057 578.063,55.057 578.063,24.817 505.547,24.817 505.547,55.057 \n",
       "  \"/>\n",
       "<polyline clip-path=\"url(#clip00)\" style=\"stroke:#0099ff; stroke-width:0.8; stroke-opacity:1; fill:none\" points=\"\n",
       "  511.547,39.937 547.547,39.937 \n",
       "  \"/>\n",
       "<g clip-path=\"url(#clip00)\">\n",
       "<text style=\"fill:#00002d; fill-opacity:1; font-family:Arial,Helvetica Neue,Helvetica,sans-serif; font-size:12; text-anchor:start;\" transform=\"rotate(0, 553.547, 44.437)\" x=\"553.547\" y=\"44.437\">y1</text>\n",
       "</g>\n",
       "</svg>\n"
      ]
     },
     "execution_count": 29,
     "metadata": {},
     "output_type": "execute_result"
    }
   ],
   "source": [
    "S=Legendre()⊕JacobiWeight(0.5,0.,Ultraspherical{1}())\n",
    "Q½=LeftIntegral(S,0.5)\n",
    "\n",
    "y=(I+Q½)\\1\n",
    "plot(y)"
   ]
  },
  {
   "cell_type": "markdown",
   "metadata": {},
   "source": [
    "We can compare with the exact solution:"
   ]
  },
  {
   "cell_type": "code",
   "execution_count": 32,
   "metadata": {
    "collapsed": false
   },
   "outputs": [
    {
     "data": {
      "text/plain": [
       "6.1777535475336485e-15"
      ]
     },
     "execution_count": 32,
     "metadata": {},
     "output_type": "execute_result"
    }
   ],
   "source": [
    "x=Fun()\n",
    "norm(exp(1+x)*erfc(sqrt(1+x))-y)"
   ]
  },
  {
   "cell_type": "markdown",
   "metadata": {},
   "source": [
    "##### Example 2\n",
    "\n"
   ]
  },
  {
   "cell_type": "code",
   "execution_count": 52,
   "metadata": {
    "collapsed": false
   },
   "outputs": [
    {
     "data": {
      "text/html": [
       "<?xml version=\"1.0\" encoding=\"utf-8\"?>\n",
       "<svg xmlns=\"http://www.w3.org/2000/svg\" xmlns:xlink=\"http://www.w3.org/1999/xlink\" width=\"600\" height=\"400\" viewBox=\"0 0 600 400\">\n",
       "<defs>\n",
       "  <clipPath id=\"clip00\">\n",
       "    <rect x=\"0\" y=\"0\" width=\"600\" height=\"400\"/>\n",
       "  </clipPath>\n",
       "</defs>\n",
       "<polygon clip-path=\"url(#clip00)\" points=\"\n",
       "0,400 600,400 600,0 0,0 \n",
       "  \" fill=\"#ffffff\" fill-opacity=\"1\"/>\n",
       "<defs>\n",
       "  <clipPath id=\"clip01\">\n",
       "    <rect x=\"120\" y=\"0\" width=\"421\" height=\"400\"/>\n",
       "  </clipPath>\n",
       "</defs>\n",
       "<polygon clip-path=\"url(#clip00)\" points=\"\n",
       "35.4331,377.078 596.063,377.078 596.063,3.93701 35.4331,3.93701 \n",
       "  \" fill=\"#ffffff\" fill-opacity=\"1\"/>\n",
       "<defs>\n",
       "  <clipPath id=\"clip02\">\n",
       "    <rect x=\"35\" y=\"3\" width=\"561\" height=\"374\"/>\n",
       "  </clipPath>\n",
       "</defs>\n",
       "<polyline clip-path=\"url(#clip02)\" style=\"stroke:#00002d; stroke-width:0.8; stroke-opacity:0.5; fill:none\" stroke-dasharray=\"1, 2\" points=\"\n",
       "  175.588,371.481 175.588,9.53412 \n",
       "  \"/>\n",
       "<polyline clip-path=\"url(#clip02)\" style=\"stroke:#00002d; stroke-width:0.8; stroke-opacity:0.5; fill:none\" stroke-dasharray=\"1, 2\" points=\"\n",
       "  315.748,371.481 315.748,9.53412 \n",
       "  \"/>\n",
       "<polyline clip-path=\"url(#clip02)\" style=\"stroke:#00002d; stroke-width:0.8; stroke-opacity:0.5; fill:none\" stroke-dasharray=\"1, 2\" points=\"\n",
       "  455.908,371.481 455.908,9.53412 \n",
       "  \"/>\n",
       "<polyline clip-path=\"url(#clip02)\" style=\"stroke:#00002d; stroke-width:0.8; stroke-opacity:0.5; fill:none\" stroke-dasharray=\"1, 2\" points=\"\n",
       "  43.8425,323.023 587.654,323.023 \n",
       "  \"/>\n",
       "<polyline clip-path=\"url(#clip02)\" style=\"stroke:#00002d; stroke-width:0.8; stroke-opacity:0.5; fill:none\" stroke-dasharray=\"1, 2\" points=\"\n",
       "  43.8425,216.039 587.654,216.039 \n",
       "  \"/>\n",
       "<polyline clip-path=\"url(#clip02)\" style=\"stroke:#00002d; stroke-width:0.8; stroke-opacity:0.5; fill:none\" stroke-dasharray=\"1, 2\" points=\"\n",
       "  43.8425,109.055 587.654,109.055 \n",
       "  \"/>\n",
       "<polyline clip-path=\"url(#clip02)\" style=\"stroke:#00002d; stroke-width:0.8; stroke-opacity:1; fill:none\" points=\"\n",
       "  35.4331,377.078 596.063,377.078 \n",
       "  \"/>\n",
       "<polyline clip-path=\"url(#clip02)\" style=\"stroke:#00002d; stroke-width:0.8; stroke-opacity:1; fill:none\" points=\"\n",
       "  35.4331,3.93701 596.063,3.93701 \n",
       "  \"/>\n",
       "<polyline clip-path=\"url(#clip02)\" style=\"stroke:#00002d; stroke-width:0.8; stroke-opacity:1; fill:none\" points=\"\n",
       "  175.588,377.078 175.588,371.481 \n",
       "  \"/>\n",
       "<polyline clip-path=\"url(#clip02)\" style=\"stroke:#00002d; stroke-width:0.8; stroke-opacity:1; fill:none\" points=\"\n",
       "  175.588,3.93701 175.588,9.53412 \n",
       "  \"/>\n",
       "<polyline clip-path=\"url(#clip02)\" style=\"stroke:#00002d; stroke-width:0.8; stroke-opacity:1; fill:none\" points=\"\n",
       "  315.748,377.078 315.748,371.481 \n",
       "  \"/>\n",
       "<polyline clip-path=\"url(#clip02)\" style=\"stroke:#00002d; stroke-width:0.8; stroke-opacity:1; fill:none\" points=\"\n",
       "  315.748,3.93701 315.748,9.53412 \n",
       "  \"/>\n",
       "<polyline clip-path=\"url(#clip02)\" style=\"stroke:#00002d; stroke-width:0.8; stroke-opacity:1; fill:none\" points=\"\n",
       "  455.908,377.078 455.908,371.481 \n",
       "  \"/>\n",
       "<polyline clip-path=\"url(#clip02)\" style=\"stroke:#00002d; stroke-width:0.8; stroke-opacity:1; fill:none\" points=\"\n",
       "  455.908,3.93701 455.908,9.53412 \n",
       "  \"/>\n",
       "<polyline clip-path=\"url(#clip02)\" style=\"stroke:#00002d; stroke-width:0.8; stroke-opacity:1; fill:none\" points=\"\n",
       "  35.4331,377.078 35.4331,3.93701 \n",
       "  \"/>\n",
       "<polyline clip-path=\"url(#clip02)\" style=\"stroke:#00002d; stroke-width:0.8; stroke-opacity:1; fill:none\" points=\"\n",
       "  596.063,377.078 596.063,3.93701 \n",
       "  \"/>\n",
       "<polyline clip-path=\"url(#clip02)\" style=\"stroke:#00002d; stroke-width:0.8; stroke-opacity:1; fill:none\" points=\"\n",
       "  35.4331,323.023 43.8425,323.023 \n",
       "  \"/>\n",
       "<polyline clip-path=\"url(#clip02)\" style=\"stroke:#00002d; stroke-width:0.8; stroke-opacity:1; fill:none\" points=\"\n",
       "  596.063,323.023 587.654,323.023 \n",
       "  \"/>\n",
       "<polyline clip-path=\"url(#clip02)\" style=\"stroke:#00002d; stroke-width:0.8; stroke-opacity:1; fill:none\" points=\"\n",
       "  35.4331,216.039 43.8425,216.039 \n",
       "  \"/>\n",
       "<polyline clip-path=\"url(#clip02)\" style=\"stroke:#00002d; stroke-width:0.8; stroke-opacity:1; fill:none\" points=\"\n",
       "  596.063,216.039 587.654,216.039 \n",
       "  \"/>\n",
       "<polyline clip-path=\"url(#clip02)\" style=\"stroke:#00002d; stroke-width:0.8; stroke-opacity:1; fill:none\" points=\"\n",
       "  35.4331,109.055 43.8425,109.055 \n",
       "  \"/>\n",
       "<polyline clip-path=\"url(#clip02)\" style=\"stroke:#00002d; stroke-width:0.8; stroke-opacity:1; fill:none\" points=\"\n",
       "  596.063,109.055 587.654,109.055 \n",
       "  \"/>\n",
       "<g clip-path=\"url(#clip00)\">\n",
       "<text style=\"fill:#00002d; fill-opacity:1; font-family:Arial,Helvetica Neue,Helvetica,sans-serif; font-size:12; text-anchor:middle;\" transform=\"rotate(0, 175.588, 393.878)\" x=\"175.588\" y=\"393.878\">-0.5</text>\n",
       "</g>\n",
       "<g clip-path=\"url(#clip00)\">\n",
       "<text style=\"fill:#00002d; fill-opacity:1; font-family:Arial,Helvetica Neue,Helvetica,sans-serif; font-size:12; text-anchor:middle;\" transform=\"rotate(0, 315.748, 393.878)\" x=\"315.748\" y=\"393.878\">0.0</text>\n",
       "</g>\n",
       "<g clip-path=\"url(#clip00)\">\n",
       "<text style=\"fill:#00002d; fill-opacity:1; font-family:Arial,Helvetica Neue,Helvetica,sans-serif; font-size:12; text-anchor:middle;\" transform=\"rotate(0, 455.908, 393.878)\" x=\"455.908\" y=\"393.878\">0.5</text>\n",
       "</g>\n",
       "<g clip-path=\"url(#clip00)\">\n",
       "<text style=\"fill:#00002d; fill-opacity:1; font-family:Arial,Helvetica Neue,Helvetica,sans-serif; font-size:12; text-anchor:end;\" transform=\"rotate(0, 29.4331, 327.523)\" x=\"29.4331\" y=\"327.523\">0.25</text>\n",
       "</g>\n",
       "<g clip-path=\"url(#clip00)\">\n",
       "<text style=\"fill:#00002d; fill-opacity:1; font-family:Arial,Helvetica Neue,Helvetica,sans-serif; font-size:12; text-anchor:end;\" transform=\"rotate(0, 29.4331, 220.539)\" x=\"29.4331\" y=\"220.539\">0.50</text>\n",
       "</g>\n",
       "<g clip-path=\"url(#clip00)\">\n",
       "<text style=\"fill:#00002d; fill-opacity:1; font-family:Arial,Helvetica Neue,Helvetica,sans-serif; font-size:12; text-anchor:end;\" transform=\"rotate(0, 29.4331, 113.555)\" x=\"29.4331\" y=\"113.555\">0.75</text>\n",
       "</g>\n",
       "<polyline clip-path=\"url(#clip02)\" style=\"stroke:#0099ff; stroke-width:0.8; stroke-opacity:1; fill:none\" points=\"\n",
       "  35.4331,3.93701 35.4667,7.64897 35.5338,11.3355 35.6346,14.9966 35.7689,18.6325 35.9367,22.2432 36.1381,25.8289 36.373,29.3896 36.6414,32.9255 36.9432,36.4367 \n",
       "  37.2784,39.9232 37.647,43.3852 38.0489,46.8227 38.484,50.2359 38.9524,53.6248 39.454,56.9896 39.9887,60.3303 40.5564,63.647 41.1571,66.9399 41.7906,70.2089 \n",
       "  42.4571,73.4543 43.1562,76.676 43.888,79.8742 44.6524,83.049 45.4493,86.2004 46.2786,89.3285 47.1401,92.4335 48.0339,95.5153 48.9597,98.5742 49.9174,101.61 \n",
       "  50.9071,104.623 51.9284,107.613 52.9814,110.581 54.0659,113.526 55.1817,116.448 56.3287,119.348 57.5069,122.226 58.7159,125.081 59.9558,127.915 61.2263,130.726 \n",
       "  62.5273,133.515 63.8587,136.282 65.2202,139.027 66.6117,141.75 68.0331,144.452 69.4842,147.132 70.9648,149.79 72.4747,152.427 74.0138,155.042 75.5818,157.636 \n",
       "  77.1786,160.209 78.804,162.761 80.4578,165.292 82.1398,167.801 83.8498,170.29 85.5875,172.758 87.3529,175.205 89.1456,177.632 90.9654,180.037 92.8122,182.423 \n",
       "  94.6857,184.788 96.5857,187.132 98.5119,189.457 100.464,191.761 102.442,194.045 104.446,196.309 106.475,198.553 108.529,200.777 110.608,202.982 112.711,205.167 \n",
       "  114.839,207.332 116.991,209.478 119.166,211.604 121.366,213.711 123.588,215.799 125.834,217.868 128.102,219.917 130.393,221.948 132.706,223.96 135.041,225.953 \n",
       "  137.397,227.928 139.775,229.883 142.174,231.821 144.594,233.74 147.034,235.641 149.495,237.523 151.975,239.387 154.475,241.234 156.995,243.062 159.533,244.873 \n",
       "  162.09,246.666 164.666,248.441 167.259,250.199 169.871,251.939 172.5,253.662 175.146,255.368 177.809,257.057 180.488,258.729 183.184,260.383 185.895,262.021 \n",
       "  188.623,263.643 191.365,265.247 194.122,266.835 196.894,268.407 199.68,269.962 202.48,271.502 205.293,273.025 208.12,274.532 210.96,276.023 213.812,277.498 \n",
       "  216.677,278.958 219.553,280.402 222.441,281.831 225.34,283.244 228.25,284.642 231.17,286.025 234.1,287.393 237.041,288.746 239.99,290.084 242.949,291.407 \n",
       "  245.917,292.716 248.892,294.01 251.876,295.29 254.868,296.556 257.867,297.807 260.872,299.044 263.885,300.267 266.903,301.477 269.928,302.672 272.958,303.854 \n",
       "  275.993,305.022 279.032,306.177 282.076,307.319 285.125,308.447 288.177,309.562 291.232,310.664 294.29,311.754 297.35,312.83 300.413,313.894 303.478,314.945 \n",
       "  306.544,315.983 309.612,317.009 312.68,318.023 315.748,319.025 318.816,320.014 321.884,320.992 324.952,321.957 328.018,322.911 331.083,323.853 334.146,324.784 \n",
       "  337.206,325.703 340.264,326.611 343.32,327.507 346.371,328.392 349.42,329.266 352.464,330.129 355.504,330.982 358.539,331.823 361.568,332.654 364.593,333.474 \n",
       "  367.611,334.283 370.624,335.083 373.629,335.872 376.628,336.65 379.62,337.419 382.604,338.177 385.579,338.926 388.547,339.664 391.506,340.393 394.455,341.112 \n",
       "  397.396,341.822 400.326,342.522 403.246,343.213 406.156,343.894 409.055,344.566 411.943,345.229 414.819,345.883 417.684,346.528 420.536,347.165 423.376,347.792 \n",
       "  426.203,348.41 429.016,349.02 431.816,349.622 434.602,350.214 437.374,350.799 440.131,351.375 442.874,351.943 445.601,352.503 448.312,353.054 451.008,353.598 \n",
       "  453.687,354.134 456.35,354.661 458.996,355.181 461.625,355.694 464.237,356.198 466.83,356.695 469.406,357.185 471.963,357.667 474.501,358.142 477.021,358.609 \n",
       "  479.521,359.07 482.001,359.523 484.462,359.969 486.902,360.408 489.322,360.84 491.721,361.265 494.099,361.683 496.456,362.095 498.79,362.499 501.103,362.897 \n",
       "  503.394,363.289 505.662,363.674 507.908,364.052 510.13,364.424 512.33,364.79 514.505,365.15 516.657,365.503 518.785,365.85 520.888,366.19 522.967,366.525 \n",
       "  525.021,366.854 527.05,367.176 529.054,367.493 531.032,367.804 532.984,368.109 534.91,368.408 536.81,368.701 538.684,368.989 540.531,369.271 542.35,369.547 \n",
       "  544.143,369.818 545.909,370.083 547.646,370.343 549.356,370.598 551.038,370.847 552.692,371.09 554.317,371.328 555.914,371.561 557.482,371.789 559.021,372.012 \n",
       "  560.531,372.229 562.012,372.441 563.463,372.648 564.884,372.85 566.276,373.047 567.637,373.239 568.969,373.426 570.27,373.608 571.54,373.785 572.78,373.957 \n",
       "  573.989,374.124 575.167,374.286 576.314,374.444 577.43,374.597 578.515,374.745 579.568,374.888 580.589,375.027 581.579,375.161 582.536,375.29 583.462,375.415 \n",
       "  584.356,375.535 585.217,375.65 586.047,375.761 586.844,375.867 587.608,375.968 588.34,376.066 589.039,376.158 589.705,376.246 590.339,376.33 590.94,376.409 \n",
       "  591.507,376.483 592.042,376.554 592.544,376.619 593.012,376.681 593.447,376.737 593.849,376.79 594.218,376.838 594.553,376.882 594.855,376.921 595.123,376.956 \n",
       "  595.358,376.986 595.559,377.013 595.727,377.034 595.861,377.052 595.962,377.065 596.029,377.074 596.063,377.078 \n",
       "  \"/>\n",
       "<polygon clip-path=\"url(#clip00)\" points=\"\n",
       "505.547,55.057 578.063,55.057 578.063,24.817 505.547,24.817 \n",
       "  \" fill=\"#ffffff\" fill-opacity=\"1\"/>\n",
       "<polyline clip-path=\"url(#clip00)\" style=\"stroke:#00002d; stroke-width:0.8; stroke-opacity:1; fill:none\" points=\"\n",
       "  505.547,55.057 578.063,55.057 578.063,24.817 505.547,24.817 505.547,55.057 \n",
       "  \"/>\n",
       "<polyline clip-path=\"url(#clip00)\" style=\"stroke:#0099ff; stroke-width:0.8; stroke-opacity:1; fill:none\" points=\"\n",
       "  511.547,39.937 547.547,39.937 \n",
       "  \"/>\n",
       "<g clip-path=\"url(#clip00)\">\n",
       "<text style=\"fill:#00002d; fill-opacity:1; font-family:Arial,Helvetica Neue,Helvetica,sans-serif; font-size:12; text-anchor:start;\" transform=\"rotate(0, 553.547, 44.437)\" x=\"553.547\" y=\"44.437\">y1</text>\n",
       "</g>\n",
       "</svg>\n"
      ]
     },
     "execution_count": 52,
     "metadata": {},
     "output_type": "execute_result"
    }
   ],
   "source": [
    "S=Legendre()⊕JacobiWeight(0.5,0.,Ultraspherical{1}())\n",
    "x=Fun()\n",
    "Q½=LeftIntegral(S,0.5)\n",
    "\n",
    "y=(I+exp(-(1+x)/2)*Q½[exp((1+x)/2)])\\exp(-(1+x)/2)\n",
    "plot(y)"
   ]
  },
  {
   "cell_type": "code",
   "execution_count": null,
   "metadata": {
    "collapsed": false
   },
   "outputs": [],
   "source": [
    "norm(y-exp((1+x)/2)*erfc(sqrt(1+x)))"
   ]
  },
  {
   "cell_type": "code",
   "execution_count": null,
   "metadata": {
    "collapsed": true
   },
   "outputs": [],
   "source": []
  }
 ],
 "metadata": {
  "kernelspec": {
   "display_name": "Julia 0.4.6",
   "language": "julia",
   "name": "julia-0.4"
  },
  "language_info": {
   "file_extension": ".jl",
   "mimetype": "application/julia",
   "name": "julia",
   "version": "0.4.6"
  }
 },
 "nbformat": 4,
 "nbformat_minor": 0
}
