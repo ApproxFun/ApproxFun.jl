{
 "cells": [
  {
   "cell_type": "code",
   "execution_count": 1,
   "metadata": {},
   "outputs": [
    {
     "name": "stderr",
     "output_type": "stream",
     "text": [
      "\u001b[1m\u001b[34mINFO: Recompiling stale cache file /Users/solver/.julia/lib/v0.5/MultivariateOrthogonalPolynomials.ji for module MultivariateOrthogonalPolynomials.\n",
      "\u001b[0m"
     ]
    }
   ],
   "source": [
    "using ApproxFun, MultivariateOrthogonalPolynomials\n",
    "import ApproxFun: Block"
   ]
  },
  {
   "cell_type": "code",
   "execution_count": 2,
   "metadata": {},
   "outputs": [
    {
     "data": {
      "text/plain": [
       "Fun(KoornwinderTriangle(0.0,0.0,0.0),[2.73043,1.06569,-0.304935,0.18707,-0.0542146,-0.107877,0.00804638,0.0256912,-0.0459491,0.00734407  …  0.0,0.0,0.0,0.0,0.0,0.0,0.0,0.0,0.0,0.0])"
      ]
     },
     "execution_count": 2,
     "metadata": {},
     "output_type": "execute_result"
    }
   ],
   "source": [
    "Dx = Derivative([1,0]) : KoornwinderTriangle(0,0,0) → KoornwinderTriangle(1,1,1)\n",
    "Dy = Derivative([0,1]) : KoornwinderTriangle(0,0,0) → KoornwinderTriangle(1,1,1)\n",
    "\n",
    "\n",
    "f = Fun((x,y)-> exp(x*cos(y)),KoornwinderTriangle(0,0,0))\n",
    "f+Dx*f"
   ]
  },
  {
   "cell_type": "code",
   "execution_count": 14,
   "metadata": {},
   "outputs": [
    {
     "name": "stderr",
     "output_type": "stream",
     "text": [
      "WARNING: imported binding for Δ overwritten in module Main\n"
     ]
    },
    {
     "data": {
      "text/plain": [
       "LaplacianWrapper:x^1.0y^1.0(1-x-y)^1.0[KoornwinderTriangle(1.0,1.0,1.0)]→KoornwinderTriangle(1.0,1.0,1.0)\n",
       " -1.33333   -0.190476   -0.190476   …   0.0        0.0        0.0       ⋯\n",
       " -0.166667  -2.16667    -0.166667       0.0        0.0        0.0       ⋱\n",
       " -0.5       -0.5        -2.5            0.0        0.0        0.0       ⋱\n",
       "  0.0        0.0857143   0.0857143     -0.458182  -0.261818   0.0       ⋱\n",
       "  0.0       -0.75       -0.75          -0.9       -0.654545  -0.218182  ⋱\n",
       "  0.0       -0.8        -0.8        …   0.349091  -1.92      -0.581818  ⋱\n",
       "  0.0        0.0         0.0           -0.28       0.24       0.0       ⋱\n",
       "  0.0        0.0         0.0           -5.02857   -0.514286   0.114286  ⋱\n",
       "  0.0        0.0         0.0           -1.08      -6.16      -0.533333  ⋱\n",
       "  0.0        0.0         0.0            0.642857  -1.42857   -5.2381    ⋱\n",
       "   ⋮          ⋱           ⋱         …    ⋱          ⋱          ⋱        ⋱"
      ]
     },
     "execution_count": 14,
     "metadata": {},
     "output_type": "execute_result"
    }
   ],
   "source": [
    "S = WeightedTriangle(1,1,1)\n",
    "Δ = Laplacian(S)"
   ]
  },
  {
   "cell_type": "code",
   "execution_count": 23,
   "metadata": {},
   "outputs": [
    {
     "data": {
      "text/html": [
       "union_rule(a, b) at <a href=\"https://github.com/JuliaApproximation/ApproxFun.jl/tree/7a20a13d029560ad7dc95ec897fcf12ed1d0ca3a/src/Fun/Space.jl#L196\" target=\"_blank\">/Users/solver/.julia/v0.5/ApproxFun/src/Fun/Space.jl:196</a>"
      ],
      "text/plain": [
       "union_rule(a, b) at /Users/solver/.julia/v0.5/ApproxFun/src/Fun/Space.jl:196"
      ]
     },
     "execution_count": 23,
     "metadata": {},
     "output_type": "execute_result"
    }
   ],
   "source": [
    "@which ApproxFun.union_rule(KoornwinderTriangle(0.,0,0),KoornwinderTriangle(0.,0,1))"
   ]
  },
  {
   "cell_type": "code",
   "execution_count": null,
   "metadata": {
    "collapsed": true
   },
   "outputs": [],
   "source": [
    "f = "
   ]
  }
 ],
 "metadata": {
  "kernelspec": {
   "display_name": "Julia 0.5.2",
   "language": "julia",
   "name": "julia-0.5"
  },
  "language_info": {
   "file_extension": ".jl",
   "mimetype": "application/julia",
   "name": "julia",
   "version": "0.5.2"
  }
 },
 "nbformat": 4,
 "nbformat_minor": 2
}
