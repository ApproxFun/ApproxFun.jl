{
 "cells": [
  {
   "cell_type": "markdown",
   "metadata": {},
   "source": [
    "Consider the n-dimensional linear system of ordinary differential equations:\n",
    "$$x'(t)=A(t)x(t)$$\n",
    "where in addition, the matrix $A(t)$ is periodic with period $T$, i.e. $A(t+T)=A(t)$ for all real values of $t$.\n",
    "Let $Φ(t)$ denote the principal fundamental matrix solution such that the columns\n",
    "of $Φ(t)$ are linearly independent, and $Φ(0)=I$. Then, Floquet's theorem decomposes the principal\n",
    "fundamental matrix as the product of a periodic matrix $P(t)$ with period $T$ and an exponential matrix $e^{tB}$.\n",
    "\n"
   ]
  },
  {
   "cell_type": "code",
   "execution_count": 1,
   "metadata": {
    "collapsed": false
   },
   "outputs": [],
   "source": [
    "using Plots,ApproxFun"
   ]
  },
  {
   "cell_type": "code",
   "execution_count": 2,
   "metadata": {
    "collapsed": false
   },
   "outputs": [],
   "source": [
    "function Base.expm{T<:Number}(A::Matrix{T},f::Fun)\n",
    "    D,V = eig(A)\n",
    "    fC = D == real(D) ? fill(f,n) : fill(f+0im,n)\n",
    "    for i = 1:length(D)\n",
    "        fC[i] = Fun(t->exp(D[i]*fC[i](t)),domain(f))\n",
    "    end\n",
    "    V*diagm(fC)*inv(V)\n",
    "end;"
   ]
  },
  {
   "cell_type": "markdown",
   "metadata": {},
   "source": [
    "Consider the system of coupled harmonic oscillators with periodic parameterized excitation:\n",
    "     $$x'' + (1+a \\cos(2t))x = x-y$$\n",
    "     $$y'' + (1+a \\cos(2t))y = y-x$$\n",
    "We calculate the Principal Fundamental Matrix $Φ$."
   ]
  },
  {
   "cell_type": "code",
   "execution_count": 3,
   "metadata": {
    "collapsed": false
   },
   "outputs": [],
   "source": [
    "T = π;a=0.15\n",
    "t = Fun(identity,[0,T])\n",
    "d=domain(t)\n",
    "D=Derivative(d)\n",
    "B=ldirichlet(d)\n",
    "n=4\n",
    "A=[ diagm(fill(ldirichlet(d),n));\n",
    "    D             -I  0I            0I;\n",
    "   (2+a*cos(2t))   D  -I            0I;\n",
    "   0I             0I   D            -I;\n",
    "   -I             0I  (2+a*cos(2t))  D]\n",
    "\n",
    "Φ = A\\eye(n);"
   ]
  },
  {
   "cell_type": "markdown",
   "metadata": {},
   "source": [
    "It can be further expressed as $Φ(t) = P(t) e^{tB}$ where $P(t)$ is a periodic matrix, and $B$ is constant.\n",
    "Using the values of $Φ(T)$:"
   ]
  },
  {
   "cell_type": "code",
   "execution_count": 4,
   "metadata": {
    "collapsed": false
   },
   "outputs": [
    {
     "data": {
      "text/plain": [
       "4×4 Array{Float64,2}:\n",
       " -0.170879  -0.148885  -0.836059   0.265569\n",
       "  0.732284  -0.170879  -0.612945  -0.836059\n",
       " -0.836059   0.265569  -0.170879  -0.148885\n",
       " -0.612945  -0.836059   0.732284  -0.170879"
      ]
     },
     "execution_count": 4,
     "metadata": {},
     "output_type": "execute_result"
    }
   ],
   "source": [
    "ΦT = Φ(T)"
   ]
  },
  {
   "cell_type": "markdown",
   "metadata": {},
   "source": [
    "we calculate the matrix $B$ and the Floquet exponents and multipliers."
   ]
  },
  {
   "cell_type": "code",
   "execution_count": 5,
   "metadata": {
    "collapsed": false
   },
   "outputs": [
    {
     "name": "stdout",
     "output_type": "stream",
     "text": [
      "Floquet Exponents = \n",
      "\n",
      "1.6653345369377348e-16 - 0.2683546905319051im\n",
      "1.4468677991819057e-16 + 0.26835469053190514im\n",
      "0.03747531973228922 + 1.0000000000000007im\n",
      "-0.03747531973228926 + 0.9999999999999999im\n",
      "\n",
      "Floquet Multipliers = \n",
      "\n",
      "0.6651802570066614 - 0.7466828146465894im\n",
      "0.6651802570066613 + 0.7466828146465895im\n",
      "-1.1249427991479368 - 2.3601090341805867e-15im\n",
      "-0.8889340869219554 + 5.036290646901528e-16im\n"
     ]
    }
   ],
   "source": [
    "B = logm(ΦT)/T\n",
    "D,V = eig(B)\n",
    "\n",
    "println(\"Floquet Exponents = \\n\")\n",
    "[println(D[i]) for i=1:n]\n",
    "println(\"\\nFloquet Multipliers = \\n\")\n",
    "[println(exp(D[i]*T)) for i=1:n];"
   ]
  },
  {
   "cell_type": "markdown",
   "metadata": {},
   "source": [
    "We can build the matrix exponential $e^{-tB}$ and use it to find the periodic matrix $P(t)$.\n",
    "Periodicity is numerically confirmed by `Fun` instantiation with low number of coefficients."
   ]
  },
  {
   "cell_type": "code",
   "execution_count": 6,
   "metadata": {
    "collapsed": false
   },
   "outputs": [
    {
     "ename": "LoadError",
     "evalue": "LoadError: MethodError: no method matching scalarorfuntype(::ApproxFun.Fun{ApproxFun.Chebyshev{ApproxFun.Interval{Float64}},ApproxFun.Fun{ApproxFun.Chebyshev{ApproxFun.Interval{Float64}},Complex{Float64}}})\nClosest candidates are:\n  scalarorfuntype(!Matched::Array{Any,1}) at /Users/solver/.julia/v0.5/ApproxFun/src/Multivariate/VectorFun.jl:24\n  scalarorfuntype{S,T<:Number}(!Matched::ApproxFun.Fun{S,T<:Number}) at /Users/solver/.julia/v0.5/ApproxFun/src/Multivariate/VectorFun.jl:21\n  scalarorfuntype{T<:Number}(!Matched::T<:Number) at /Users/solver/.julia/v0.5/ApproxFun/src/Multivariate/VectorFun.jl:22\n  ...\nwhile loading In[6], in expression starting on line 1",
     "output_type": "error",
     "traceback": [
      "LoadError: MethodError: no method matching scalarorfuntype(::ApproxFun.Fun{ApproxFun.Chebyshev{ApproxFun.Interval{Float64}},ApproxFun.Fun{ApproxFun.Chebyshev{ApproxFun.Interval{Float64}},Complex{Float64}}})\nClosest candidates are:\n  scalarorfuntype(!Matched::Array{Any,1}) at /Users/solver/.julia/v0.5/ApproxFun/src/Multivariate/VectorFun.jl:24\n  scalarorfuntype{S,T<:Number}(!Matched::ApproxFun.Fun{S,T<:Number}) at /Users/solver/.julia/v0.5/ApproxFun/src/Multivariate/VectorFun.jl:21\n  scalarorfuntype{T<:Number}(!Matched::T<:Number) at /Users/solver/.julia/v0.5/ApproxFun/src/Multivariate/VectorFun.jl:22\n  ...\nwhile loading In[6], in expression starting on line 1",
      "",
      " in _collect(::Array{ApproxFun.Fun{ApproxFun.Chebyshev{ApproxFun.Interval{Float64}},ApproxFun.Fun{ApproxFun.Chebyshev{ApproxFun.Interval{Float64}},Complex{Float64}}},1}, ::Base.Generator{Array{ApproxFun.Fun{ApproxFun.Chebyshev{ApproxFun.Interval{Float64}},ApproxFun.Fun{ApproxFun.Chebyshev{ApproxFun.Interval{Float64}},Complex{Float64}}},1},ApproxFun.#scalarorfuntype}, ::Base.EltypeUnknown, ::Base.HasShape) at ./array.jl:320",
      " in devec(::Array{ApproxFun.Fun{ApproxFun.Chebyshev{ApproxFun.Interval{Float64}},ApproxFun.Fun{ApproxFun.Chebyshev{ApproxFun.Interval{Float64}},Complex{Float64}}},1}) at /Users/solver/.julia/v0.5/ApproxFun/src/Spaces/Modifier/ArraySpace.jl:127",
      " in demat at /Users/solver/.julia/v0.5/ApproxFun/src/Spaces/Modifier/ArraySpace.jl:143 [inlined]",
      " in *(::ApproxFun.Fun{ApproxFun.ArraySpace{ApproxFun.Chebyshev{ApproxFun.Interval{Float64}},2,ApproxFun.RealBasis,ApproxFun.Interval{Float64},1},Float64}, ::Array{ApproxFun.Fun{ApproxFun.Chebyshev{ApproxFun.Interval{Float64}},Complex{Float64}},2}) at /Users/solver/.julia/v0.5/ApproxFun/src/Spaces/Modifier/ArraySpace.jl:278"
     ]
    }
   ],
   "source": [
    "PI = Φ*expm(B,-t)\n",
    "P = Fun(t->PI(t),PeriodicInterval(d))\n",
    "P|>ncoefficients"
   ]
  },
  {
   "cell_type": "markdown",
   "metadata": {},
   "source": [
    "With the matrix B and the periodic matrix P(t), we can construct \n",
    "the solution with any initial conditions for as long as we want!"
   ]
  },
  {
   "cell_type": "code",
   "execution_count": 7,
   "metadata": {
    "collapsed": false
   },
   "outputs": [
    {
     "ename": "LoadError",
     "evalue": "LoadError: UndefVarError: P not defined\nwhile loading In[7], in expression starting on line 5",
     "output_type": "error",
     "traceback": [
      "LoadError: UndefVarError: P not defined\nwhile loading In[7], in expression starting on line 5",
      "",
      " in zerocfsFun(::##7#8, ::ApproxFun.Chebyshev{ApproxFun.Interval{Float64}}) at /Users/solver/.julia/v0.5/ApproxFun/src/Fun/constructors.jl:134",
      " in #Fun#45(::String, ::Type{T}, ::Function, ::ApproxFun.Chebyshev{ApproxFun.Interval{Float64}}) at /Users/solver/.julia/v0.5/ApproxFun/src/Fun/constructors.jl:206",
      " in #Fun#48(::Array{Any,1}, ::Type{T}, ::Function, ::ApproxFun.Interval{Float64}) at /Users/solver/.julia/v0.5/ApproxFun/src/Fun/constructors.jl:213",
      " in ApproxFun.Fun{S,T}(::Function, ::ApproxFun.Interval{Float64}) at /Users/solver/.julia/v0.5/ApproxFun/src/Fun/constructors.jl:213"
     ]
    }
   ],
   "source": [
    "t = Fun(identity,[0,10T])\n",
    "d = domain(t)\n",
    "x0 = rand(n)\n",
    "\n",
    "PI = Fun(t->P(t),d)\n",
    "xsol = real(PI*expm(B,t)*x0)\n",
    "\n",
    "plot(mat(xsol))"
   ]
  }
 ],
 "metadata": {
  "anaconda-cloud": {},
  "kernelspec": {
   "display_name": "Julia 0.5.0",
   "language": "julia",
   "name": "julia-0.5"
  },
  "language_info": {
   "file_extension": ".jl",
   "mimetype": "application/julia",
   "name": "julia",
   "version": "0.5.0"
  }
 },
 "nbformat": 4,
 "nbformat_minor": 0
}
