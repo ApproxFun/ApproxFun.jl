{
 "cells": [
  {
   "cell_type": "markdown",
   "metadata": {},
   "source": [
    "Consider the n-dimensional linear system of ordinary differential equations:\n",
    "$$x'(t)=A(t)x(t)$$\n",
    "where in addition, the matrix $A(t)$ is periodic with period $T$, i.e. $A(t+T)=A(t)$ for all real values of $t$.\n",
    "Let $Φ(t)$ denote the principal fundamental matrix solution such that the columns\n",
    "of $Φ(t)$ are linearly independent, and $Φ(0)=I$. Then, Floquet's theorem decomposes the principal\n",
    "fundamental matrix as the product of a periodic matrix $P(t)$ with period $T$ and an exponential matrix $e^{tB}$.\n",
    "\n"
   ]
  },
  {
   "cell_type": "code",
   "execution_count": 1,
   "metadata": {
    "scrolled": true
   },
   "outputs": [
    {
     "name": "stderr",
     "output_type": "stream",
     "text": [
      "\u001b[1m\u001b[36mINFO: \u001b[39m\u001b[22m\u001b[36mRecompiling stale cache file /Users/solver/.julia/lib/v0.6/Plots.ji for module Plots.\n",
      "\u001b[39m\u001b[1m\u001b[36mINFO: \u001b[39m\u001b[22m\u001b[36mRecompiling stale cache file /Users/solver/.julia/lib/v0.6/ApproxFun.ji for module ApproxFun.\n",
      "\u001b[39m"
     ]
    }
   ],
   "source": [
    "using Plots, ApproxFun"
   ]
  },
  {
   "cell_type": "code",
   "execution_count": 2,
   "metadata": {
    "collapsed": true
   },
   "outputs": [],
   "source": [
    "function Base.expm(A::Matrix{T},f::Fun) where {T<:Number}\n",
    "    D,V = eig(A)\n",
    "    fC = D == real(D) ? fill(f,n) : fill(f+0im,n)\n",
    "    for i = 1:length(D)\n",
    "        fC[i] = Fun(t->exp(D[i]*fC[i](t)),domain(f))\n",
    "    end\n",
    "    V*diagm(fC)*inv(V)\n",
    "end;"
   ]
  },
  {
   "cell_type": "markdown",
   "metadata": {},
   "source": [
    "Consider the system of coupled harmonic oscillators with periodic parameterized excitation:\n",
    "     $$x'' + (1+a \\cos(2t))x = x-y$$\n",
    "     $$y'' + (1+a \\cos(2t))y = y-x$$\n",
    "We calculate the Principal Fundamental Matrix $Φ$."
   ]
  },
  {
   "cell_type": "code",
   "execution_count": 8,
   "metadata": {
    "scrolled": false
   },
   "outputs": [],
   "source": [
    "T = π;a=0.15\n",
    "t = Fun(identity,0..T)\n",
    "d=domain(t)\n",
    "D=Derivative(d)\n",
    "B=ldirichlet(d)\n",
    "n=4\n",
    "A=[ Operator(diagm(fill(ldirichlet(d),n)));\n",
    "    D             -I  0I            0I;\n",
    "   (2+a*cos(2t))   D  -I            0I;\n",
    "   0I             0I   D            -I;\n",
    "   -I             0I  (2+a*cos(2t))  D]\n",
    "\n",
    "# we need eye(n) for the initial condition and zeros(n,n) for the\n",
    "# right-hand side of the ODE\n",
    "\n",
    "Φ = A\\eye(2n,n);  "
   ]
  },
  {
   "cell_type": "markdown",
   "metadata": {},
   "source": [
    "It can be further expressed as $Φ(t) = P(t) e^{tB}$ where $P(t)$ is a periodic matrix, and $B$ is constant.\n",
    "Using the values of $Φ(T)$:"
   ]
  },
  {
   "cell_type": "code",
   "execution_count": 9,
   "metadata": {},
   "outputs": [
    {
     "data": {
      "text/plain": [
       "4×4 Array{Float64,2}:\n",
       " -0.170879  -0.148885  -0.836059   0.265569\n",
       "  0.732284  -0.170879  -0.612945  -0.836059\n",
       " -0.836059   0.265569  -0.170879  -0.148885\n",
       " -0.612945  -0.836059   0.732284  -0.170879"
      ]
     },
     "execution_count": 9,
     "metadata": {},
     "output_type": "execute_result"
    }
   ],
   "source": [
    "ΦT = Φ(T)"
   ]
  },
  {
   "cell_type": "markdown",
   "metadata": {},
   "source": [
    "we calculate the matrix $B$ and the Floquet exponents and multipliers."
   ]
  },
  {
   "cell_type": "code",
   "execution_count": 10,
   "metadata": {
    "scrolled": false
   },
   "outputs": [
    {
     "name": "stdout",
     "output_type": "stream",
     "text": [
      "Floquet Exponents = \n",
      "\n",
      "-1.1102230246251565e-16 - 0.2683546905319051im\n",
      "2.233456475320139e-17 + 0.2683546905319052im\n",
      "0.03747531973228935 + 1.0000000000000002im\n",
      "-0.03747531973228875 + 1.0im\n",
      "\n",
      "Floquet Multipliers = \n",
      "\n",
      "0.6651802570066608 - 0.7466828146465888im\n",
      "0.6651802570066607 + 0.7466828146465893im\n",
      "-1.1249427991479373 - 8.613841577802117e-16im\n",
      "-0.8889340869219569 + 1.0886302842019495e-16im\n"
     ]
    }
   ],
   "source": [
    "B = logm(ΦT)/T\n",
    "D,V = eig(B)\n",
    "\n",
    "println(\"Floquet Exponents = \\n\")\n",
    "[println(D[i]) for i=1:n]\n",
    "println(\"\\nFloquet Multipliers = \\n\")\n",
    "[println(exp(D[i]*T)) for i=1:n];"
   ]
  },
  {
   "cell_type": "markdown",
   "metadata": {},
   "source": [
    "We can build the matrix exponential $e^{-tB}$ and use it to find the periodic matrix $P(t)$.\n",
    "Periodicity is numerically confirmed by `Fun` instantiation with low number of coefficients."
   ]
  },
  {
   "cell_type": "code",
   "execution_count": 11,
   "metadata": {},
   "outputs": [
    {
     "data": {
      "text/plain": [
       "223"
      ]
     },
     "execution_count": 11,
     "metadata": {},
     "output_type": "execute_result"
    }
   ],
   "source": [
    "PI = Φ*expm(B,-t)\n",
    "P = Fun(t->PI(t),PeriodicInterval(d))\n",
    "P|>ncoefficients"
   ]
  },
  {
   "cell_type": "markdown",
   "metadata": {},
   "source": [
    "With the matrix B and the periodic matrix P(t), we can construct \n",
    "the solution with any initial conditions for as long as we want!"
   ]
  },
  {
   "cell_type": "code",
   "execution_count": 12,
   "metadata": {},
   "outputs": [
    {
     "ename": "LoadError",
     "evalue": "\u001b[91mUndefVarError: mat not defined\u001b[39m",
     "output_type": "error",
     "traceback": [
      "\u001b[91mUndefVarError: mat not defined\u001b[39m",
      ""
     ]
    }
   ],
   "source": [
    "t = Fun(identity,0..10T)\n",
    "d = domain(t)\n",
    "x0 = rand(n)\n",
    "\n",
    "PI = Fun(t->P(t),d)\n",
    "xsol = real(PI*expm(B,t)*x0)\n",
    "\n",
    "plot(mat(xsol))"
   ]
  }
 ],
 "metadata": {
  "anaconda-cloud": {},
  "kernelspec": {
   "display_name": "Julia 0.6.0",
   "language": "julia",
   "name": "julia-0.6"
  },
  "language_info": {
   "file_extension": ".jl",
   "mimetype": "application/julia",
   "name": "julia",
   "version": "0.6.0"
  }
 },
 "nbformat": 4,
 "nbformat_minor": 1
}
